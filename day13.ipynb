{
 "cells": [
  {
   "cell_type": "code",
   "execution_count": 4,
   "id": "8c22cad8-e4d7-4653-bb6f-85be6ec8b0cc",
   "metadata": {},
   "outputs": [
    {
     "name": "stdout",
     "output_type": "stream",
     "text": [
      "[7 1]\n"
     ]
    }
   ],
   "source": [
    "'''randint() -> is an inbuilt function of thr random module in python3. The randommodule gives access to various useful function one of them being able to\n",
    "generate random numbers, which is randint()'''\n",
    "import numpy as np\n",
    "rand=np.random.randint(0,10,2)\n",
    "print(rand)"
   ]
  },
  {
   "cell_type": "code",
   "execution_count": 6,
   "id": "b3435aa8-7e5c-43c9-83b9-73a9d48450d9",
   "metadata": {},
   "outputs": [
    {
     "name": "stdout",
     "output_type": "stream",
     "text": [
      "3\n",
      "[[0.45856976 0.75485589 0.68527918]\n",
      " [0.15865699 0.47271129 0.53991918]]\n"
     ]
    }
   ],
   "source": [
    "import numpy as np\n",
    "rand=np.random.randint(4)\n",
    "print(rand)\n",
    "rand=np.random.rand(2,3)\n",
    "print(rand)"
   ]
  },
  {
   "cell_type": "code",
   "execution_count": 12,
   "id": "139f6bfd-7b7f-4dff-8d90-f83cd5bc05fa",
   "metadata": {},
   "outputs": [
    {
     "name": "stdout",
     "output_type": "stream",
     "text": [
      "[50 95 57  6 66 56 14 84 14 46]\n"
     ]
    }
   ],
   "source": [
    "import numpy as np\n",
    "arr=np.random.randint(0,100,10)\n",
    "print(arr)"
   ]
  },
  {
   "cell_type": "code",
   "execution_count": 20,
   "id": "3faaff6f-f1d9-4e0b-a412-ad5e23853e89",
   "metadata": {},
   "outputs": [
    {
     "name": "stdout",
     "output_type": "stream",
     "text": [
      "[ 1  2  3  4  5 50]\n",
      "[[ 1  2]\n",
      " [ 3  4]\n",
      " [ 5 50]]\n"
     ]
    }
   ],
   "source": [
    "'''reshape function in numpy allows you to change the shape(dimension) of an array without changing its data. This can be useful when want to reaarange \n",
    "the way data is orgainized in ana array,such as converting a 1-dimensional array into a 2-dimensional matrix or vice-versa,or changing the size of a \n",
    "multi-dimensional array while maintaining the total number of elements.'''\n",
    "import numpy as np\n",
    "arr=np.array([1,2,3,4,5,50])\n",
    "print(arr)\n",
    "arr2=arr.reshape(3,2)\n",
    "print(arr2)"
   ]
  },
  {
   "cell_type": "code",
   "execution_count": 43,
   "id": "cd112a41-2a64-4eac-b2ce-e4a69cfd131d",
   "metadata": {},
   "outputs": [
    {
     "name": "stdout",
     "output_type": "stream",
     "text": [
      "[21 69 26 80 61 38 55 14 55 37 23 94]\n",
      "[[21 69 26]\n",
      " [80 61 38]\n",
      " [55 14 55]\n",
      " [37 23 94]]\n",
      "array value is 69\n",
      "array value is 80\n",
      "(4, 3)\n",
      "[[21 69 26 80]\n",
      " [61 38 55 14]\n",
      " [55 37 23 94]]\n",
      "[[21 69 26 80 61 38]\n",
      " [55 14 55 37 23 94]]\n"
     ]
    }
   ],
   "source": [
    "import numpy as np\n",
    "arr=np.random.randint(0,100,12)\n",
    "print(arr)\n",
    "arr=arr.reshape(4,3)\n",
    "print(arr)\n",
    "print(\"array value is\" ,arr[0][1])\n",
    "print(\"array value is\" ,arr[1][0])\n",
    "print(arr.shape)\n",
    "arr=arr.reshape(-1,4)\n",
    "print(arr)\n",
    "arr=arr.reshape(2,-1)\n",
    "print(arr)"
   ]
  },
  {
   "cell_type": "code",
   "execution_count": 45,
   "id": "0f74b507-1480-4131-aa28-9ce16ca28db0",
   "metadata": {},
   "outputs": [
    {
     "name": "stdout",
     "output_type": "stream",
     "text": [
      "[37 86 87 18 90 69  8 53 33 32 40 26]\n"
     ]
    }
   ],
   "source": [
    "##seed function\n",
    "import numpy as np\n",
    "np.random.seed(145)\n",
    "arr=np.random.randint(0,100,12)\n",
    "print(arr)"
   ]
  },
  {
   "cell_type": "code",
   "execution_count": 47,
   "id": "d435a42b-7644-4b75-8621-499d0d5e4312",
   "metadata": {},
   "outputs": [
    {
     "name": "stdout",
     "output_type": "stream",
     "text": [
      "[[ 37 106 379 470 471]\n",
      " [146  90 453   8 309]\n",
      " [289 242 160 168 154]\n",
      " [468 101  29  10 111]\n",
      " [109   8 473  33 390]\n",
      " [279 390 365 168 322]]\n"
     ]
    }
   ],
   "source": [
    "import numpy as np\n",
    "np.random.seed(145)\n",
    "arr=np.random.randint(0,500,30).reshape (6,5)\n",
    "print(arr)"
   ]
  },
  {
   "cell_type": "code",
   "execution_count": 49,
   "id": "5f24ce07-252d-4e5c-8eea-18b02d89c78e",
   "metadata": {},
   "outputs": [
    {
     "name": "stdout",
     "output_type": "stream",
     "text": [
      "[[160 168 154]\n",
      " [ 29  10 111]\n",
      " [473  33 390]\n",
      " [365 168 322]]\n"
     ]
    }
   ],
   "source": [
    "import numpy as np\n",
    "np.random.seed(145)\n",
    "arr=np.random.randint(0,500,30).reshape (6,5)\n",
    "print(arr[2:,2:])"
   ]
  },
  {
   "cell_type": "code",
   "execution_count": 51,
   "id": "6f4dac96-0733-445b-85be-88c85ae92e66",
   "metadata": {},
   "outputs": [
    {
     "name": "stdout",
     "output_type": "stream",
     "text": [
      "[[ 29  10]\n",
      " [473  33]]\n"
     ]
    }
   ],
   "source": [
    "import numpy as np\n",
    "np.random.seed(145)\n",
    "arr=np.random.randint(0,500,30).reshape (6,5)\n",
    "print(arr[3:5,2:4])"
   ]
  },
  {
   "cell_type": "code",
   "execution_count": 57,
   "id": "0c53150b-3bce-45a9-b621-388e9129e824",
   "metadata": {},
   "outputs": [
    {
     "name": "stdout",
     "output_type": "stream",
     "text": [
      "new slicing [ 6  7  7 88  8]\n",
      "new array [   1   20    3    5    6    7    7   88    8    9    9    3   43   45\n",
      " 5665  566  778]\n",
      "<class 'numpy.ndarray'>\n",
      "<class 'numpy.ndarray'>\n",
      "old slicing [0 0 0 0 0]\n",
      "old array [   1   20    3    5    0    0    0    0    0    9    9    3   43   45\n",
      " 5665  566  778]\n"
     ]
    }
   ],
   "source": [
    "import numpy as np\n",
    "arr=np.array([1,20,3,5,6,7,7,88,8,9,9,3,43,45,5665,566,778])\n",
    "slicing=arr[4:9]\n",
    "print(\"new slicing\", slicing)\n",
    "print(\"new array\" ,arr)\n",
    "print(type(slicing))\n",
    "print(type(arr))\n",
    "slicing[:]=0\n",
    "print(\"old slicing\" ,slicing)\n",
    "print(\"old array\" ,arr)"
   ]
  },
  {
   "cell_type": "code",
   "execution_count": 66,
   "id": "43c76eb7-c124-477f-a9ea-cfd7bc08a081",
   "metadata": {},
   "outputs": [
    {
     "name": "stdout",
     "output_type": "stream",
     "text": [
      "[ 1  2  3  4  5  6  7  8  9 10 11 12 13 14]\n",
      "[ 2  4  6  8 10 12 14]\n"
     ]
    }
   ],
   "source": [
    "#arange() is used to generate sequence\n",
    "import numpy as np\n",
    "arr=np.arange(1,15)\n",
    "print(arr)\n",
    "print(arr[arr%2==0])"
   ]
  },
  {
   "cell_type": "markdown",
   "id": "99aa575f-3d97-4b11-8524-21956dd9b3c1",
   "metadata": {},
   "source": []
  },
  {
   "cell_type": "code",
   "execution_count": 68,
   "id": "d6b51b8e-5008-4728-ac44-f6fcd20f7846",
   "metadata": {},
   "outputs": [
    {
     "name": "stdout",
     "output_type": "stream",
     "text": [
      "[ 1  2  3  4  5  6  7  8  9 10 11 12 13 14]\n",
      "[ 2  4  6  8 10 12 14]\n",
      "[ 2  4  6  8 10 12 14]\n",
      "[ 9 10 11 12 13 14]\n",
      "[ 1  0  3  0  5  0  7  0  9  0 11  0 13  0]\n",
      "[ 3  4  5  6  7  8  9 10 11 12 13 14 15 16]\n",
      "[ 2  4  6  8 10 12 14 16 18 20 22 24 26 28]\n",
      "[  1   4   9  16  25  36  49  64  81 100 121 144 169 196]\n"
     ]
    }
   ],
   "source": [
    "import numpy as n\n",
    "ar=n.arange(1,15)\n",
    "print(ar)\n",
    "print(ar[arr%2==0])\n",
    "print(ar[ar%2==0])\n",
    "print(ar[ar>8])\n",
    "ar[ar%2==0]=0\n",
    "print(ar)\n",
    "ar=n.arange(1,8)\n",
    "print(arr+2)\n",
    "print(arr*2)\n",
    "print(arr**2)\n"
   ]
  },
  {
   "cell_type": "code",
   "execution_count": 72,
   "id": "c54c38a5-15ce-4c49-97d7-efea7b0f158b",
   "metadata": {},
   "outputs": [
    {
     "name": "stdout",
     "output_type": "stream",
     "text": [
      "2\n",
      "30\n",
      "5\n",
      "2\n",
      "[3.16227766 4.47213595 5.47722558 5.         2.44948974 1.41421356]\n",
      "[-0.54402111  0.91294525 -0.98803162 -0.13235175 -0.2794155   0.90929743]\n",
      "[-0.83907153  0.40808206  0.15425145  0.99120281  0.96017029 -0.41614684]\n"
     ]
    }
   ],
   "source": [
    "import numpy as np\n",
    "arr=np.array([10,20,30,25,6,2])\n",
    "print(np.min(arr))\n",
    "print(np.max(arr))\n",
    "print(np.argmin(arr))\n",
    "print(np.argmax(arr))\n",
    "print(np.sqrt(arr))\n",
    "print(np.sin(arr))\n",
    "print(np.cos(arr))\n"
   ]
  },
  {
   "cell_type": "code",
   "execution_count": 82,
   "id": "22b492e0-9ab5-407e-ba54-c1cec9c62c54",
   "metadata": {},
   "outputs": [
    {
     "name": "stdout",
     "output_type": "stream",
     "text": [
      "[[16 27 11]\n",
      " [23 13 17]\n",
      " [13 16 28]]\n",
      "164\n",
      "[ 16  43  54  77  90 107 120 136 164]\n",
      "11\n",
      "28\n",
      "-------------\n",
      "[54 53 57]\n",
      "[[16 43 54]\n",
      " [23 36 53]\n",
      " [13 29 57]]\n",
      "[11 13 13]\n",
      "[27 23 28]\n"
     ]
    }
   ],
   "source": [
    "import numpy as np\n",
    "np.random.seed(122)\n",
    "mat=np.random.randint(1,31,9).reshape(3,3)\n",
    "print(mat)\n",
    "print(np.sum(mat))\n",
    "print(np.cumsum(mat))\n",
    "print(np.min(mat))\n",
    "print(np.max(mat))\n",
    "print(\"-------------\")\n",
    "print(np.sum(mat,axis=1))\n",
    "print(np.cumsum(mat,axis=1))\n",
    "print(np.min(mat,axis=1))\n",
    "print(np.max(mat,axis=1))\n"
   ]
  },
  {
   "cell_type": "code",
   "execution_count": 86,
   "id": "92bda095-4c4d-4ce7-b88d-2c0573d117cf",
   "metadata": {},
   "outputs": [
    {
     "name": "stdout",
     "output_type": "stream",
     "text": [
      "[16 11 13 17 13 16  3 16 11 10]\n",
      "[13 16 16 11 16 10 11 13 17  3]\n",
      "(array([ 3, 10, 11, 13, 16, 17]), array([9, 5, 3, 0, 1, 8], dtype=int64), array([1, 1, 2, 2, 3, 1], dtype=int64))\n",
      "6\n"
     ]
    }
   ],
   "source": [
    "import numpy as np\n",
    "np.random.seed(122)\n",
    "mat=np.random.randint(1,21,10)\n",
    "print(mat)\n",
    "np.random.shuffle(mat)\n",
    "print(mat)\n",
    "print(np.unique(mat,return_index=True,return_counts=True))\n",
    "print(np.unique(mat).size)"
   ]
  },
  {
   "cell_type": "code",
   "execution_count": null,
   "id": "8f732d77-9344-4d32-ad37-b51e889c37d1",
   "metadata": {},
   "outputs": [],
   "source": []
  }
 ],
 "metadata": {
  "kernelspec": {
   "display_name": "Python 3 (ipykernel)",
   "language": "python",
   "name": "python3"
  },
  "language_info": {
   "codemirror_mode": {
    "name": "ipython",
    "version": 3
   },
   "file_extension": ".py",
   "mimetype": "text/x-python",
   "name": "python",
   "nbconvert_exporter": "python",
   "pygments_lexer": "ipython3",
   "version": "3.12.4"
  }
 },
 "nbformat": 4,
 "nbformat_minor": 5
}

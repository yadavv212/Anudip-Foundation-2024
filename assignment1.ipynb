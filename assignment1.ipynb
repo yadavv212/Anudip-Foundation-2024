{
 "cells": [
  {
   "cell_type": "code",
   "execution_count": 1,
   "id": "8fabf57f-3d0e-4e33-b687-32a0b2fcee40",
   "metadata": {},
   "outputs": [
    {
     "name": "stdout",
     "output_type": "stream",
     "text": [
      "The division of 10 by 2 is: 5.0\n"
     ]
    }
   ],
   "source": [
    "###1.Declare a div() function with two parameters. Then call the function and pass two numbers and display their division.\n",
    "def div(a, b):\n",
    "    return a / b\n",
    "\n",
    "# Call the function with two numbers\n",
    "result = div(10, 2)\n",
    "\n",
    "# Display the result\n",
    "print(\"The division of 10 by 2 is:\", result)\n"
   ]
  },
  {
   "cell_type": "code",
   "execution_count": 5,
   "id": "4dcdafdb-4f87-4f66-b781-aba2c678df14",
   "metadata": {},
   "outputs": [
    {
     "name": "stdout",
     "output_type": "stream",
     "text": [
      "The square of 5 is: 25\n"
     ]
    }
   ],
   "source": [
    "##2. Declare a square() function with one parameter.Then call the function and pass one number and display the square of that number .\n",
    "def square(x):\n",
    "    return x * x\n",
    "\n",
    "# Call the function with one number\n",
    "result = square(5)\n",
    "\n",
    "# Display the result\n",
    "print(\"The square of 5 is:\", result)\n"
   ]
  },
  {
   "cell_type": "code",
   "execution_count": 7,
   "id": "18c9402e-1458-4509-a26c-4eb1175029a9",
   "metadata": {},
   "outputs": [
    {
     "name": "stdout",
     "output_type": "stream",
     "text": [
      "The 5 random numbers are: [63, 7, 90, 35, 71]\n",
      "The maximum number is: 90\n",
      "The minimum number is: 7\n"
     ]
    }
   ],
   "source": [
    "##3.Using max() and min() functions display the maximum and minimum of 5 random numbers\n",
    "import random\n",
    "\n",
    "# Generate 5 random numbers\n",
    "random_numbers = [random.randint(1, 100) for _ in range(5)]\n",
    "\n",
    "# Find the maximum and minimum of the random numbers\n",
    "max_number = max(random_numbers)\n",
    "min_number = min(random_numbers)\n",
    "\n",
    "# Display the random numbers, maximum, and minimum\n",
    "print(\"The 5 random numbers are:\", random_numbers)\n",
    "print(\"The maximum number is:\", max_number)\n",
    "print(\"The minimum number is:\", min_number)\n"
   ]
  },
  {
   "cell_type": "code",
   "execution_count": 9,
   "id": "5d504a34-0767-4f16-ac90-8f5316b12973",
   "metadata": {},
   "outputs": [
    {
     "name": "stdin",
     "output_type": "stream",
     "text": [
      "Please enter your name:  tanu yadav\n"
     ]
    },
    {
     "name": "stdout",
     "output_type": "stream",
     "text": [
      "Your name in lower case is: tanu yadav\n"
     ]
    }
   ],
   "source": [
    "##4. Accept a name from the user and display that in lower case using lower() function\n",
    "\n",
    "## Accept a name from the user\n",
    "name = input(\"Please enter your name: \")\n",
    "\n",
    "# Convert the name to lower case\n",
    "lowercase_name = name.lower()\n",
    "\n",
    "# Display the name in lower case\n",
    "print(\"Your name in lower case is:\", lowercase_name)\n"
   ]
  },
  {
   "cell_type": "code",
   "execution_count": 11,
   "id": "6cc75843-aa59-4427-955d-8de67fd60dc1",
   "metadata": {},
   "outputs": [
    {
     "name": "stdout",
     "output_type": "stream",
     "text": [
      "Word occurrences in the given sentence:\n",
      "to: 2\n",
      "change: 2\n",
      "the: 3\n",
      "overall: 1\n",
      "look: 2\n",
      "of: 1\n",
      "your: 1\n",
      "document: 1\n",
      "available: 1\n",
      "in: 1\n",
      "gallery: 1\n"
     ]
    }
   ],
   "source": [
    "'''5.Write a Python program to count the occurrences of each word in a given sentence \n",
    "string = “To change the overall look of your document. To change the look\n",
    "available in the gallery”'''\n",
    "\n",
    "# Given sentence\n",
    "string = \"To change the overall look of your document. To change the look available in the gallery\"\n",
    "\n",
    "# Convert the string to lower case to ensure the counting is case-insensitive\n",
    "string = string.lower()\n",
    "\n",
    "# Replace punctuation with spaces\n",
    "string = string.replace('.', '')\n",
    "\n",
    "# Split the string into words\n",
    "words = string.split()\n",
    "\n",
    "# Initialize an empty dictionary to store word counts\n",
    "word_count = {}\n",
    "\n",
    "# Count the occurrences of each word\n",
    "for word in words:\n",
    "    if word in word_count:\n",
    "        word_count[word] += 1\n",
    "    else:\n",
    "        word_count[word] = 1\n",
    "\n",
    "# Display the word count\n",
    "print(\"Word occurrences in the given sentence:\")\n",
    "for word, count in word_count.items():\n",
    "    print(f\"{word}: {count}\")\n"
   ]
  },
  {
   "cell_type": "code",
   "execution_count": 15,
   "id": "266c58bc-27d4-4564-9b8f-1b680b9f22fc",
   "metadata": {},
   "outputs": [
    {
     "name": "stdout",
     "output_type": "stream",
     "text": [
      "String without newlines: Best  Deeptech  Python  Training\n"
     ]
    }
   ],
   "source": [
    "''' Write a Python program to remove a newline in Python\n",
    "String = \"\\nBest \\nDeeptech \\nPython \\nTraining\\n\"\n",
    "'''\n",
    "# Given string with newline characters\n",
    "string = \"\\nBest \\nDeeptech \\nPython \\nTraining\\n\"\n",
    "\n",
    "# Remove newline characters\n",
    "cleaned_string = string.replace(\"\\n\", \" \")\n",
    "\n",
    "# Optionally, strip leading and trailing spaces\n",
    "cleaned_string = cleaned_string.strip()\n",
    "\n",
    "# Display the cleaned string\n",
    "print(\"String without newlines:\", cleaned_string)\n"
   ]
  },
  {
   "cell_type": "code",
   "execution_count": 17,
   "id": "949adfe7-3c5b-4ed2-93fd-1f90d1e6c275",
   "metadata": {},
   "outputs": [
    {
     "name": "stdout",
     "output_type": "stream",
     "text": [
      "Reversed words in the string: Training Python Deeptech\n"
     ]
    }
   ],
   "source": [
    "'''Write a Python program to reverse words in a string\n",
    "String = “Deeptech Python Training”'''\n",
    "# Given string\n",
    "string = \"Deeptech Python Training\"\n",
    "\n",
    "# Split the string into words\n",
    "words = string.split()\n",
    "\n",
    "# Reverse the list of words\n",
    "reversed_words = words[::-1]\n",
    "\n",
    "# Join the reversed list of words into a single string\n",
    "reversed_string = \" \".join(reversed_words)\n",
    "\n",
    "# Display the reversed string\n",
    "print(\"Reversed words in the string:\", reversed_string)\n"
   ]
  },
  {
   "cell_type": "code",
   "execution_count": 19,
   "id": "4758e41c-1dc0-4779-bcca-ea5ac9c33ce5",
   "metadata": {},
   "outputs": [
    {
     "name": "stdout",
     "output_type": "stream",
     "text": [
      "Vowel occurrences in the given text:\n",
      "e: 2\n",
      "o: 3\n",
      "a: 1\n",
      "i: 2\n"
     ]
    }
   ],
   "source": [
    "'''Write a Python program to count and display the vowels of a given text\n",
    "String=”Welcome to python Training” '''\n",
    "# Given string\n",
    "string = \"Welcome to python Training\"\n",
    "\n",
    "# Define the vowels\n",
    "vowels = \"aeiouAEIOU\"\n",
    "\n",
    "# Initialize a dictionary to count vowels\n",
    "vowel_count = {}\n",
    "\n",
    "# Iterate through each character in the string\n",
    "for char in string:\n",
    "    if char in vowels:\n",
    "        if char in vowel_count:\n",
    "            vowel_count[char] += 1\n",
    "        else:\n",
    "            vowel_count[char] = 1\n",
    "\n",
    "# Display the vowel count\n",
    "print(\"Vowel occurrences in the given text:\")\n",
    "for vowel, count in vowel_count.items():\n",
    "    print(f\"{vowel}: {count}\")\n"
   ]
  },
  {
   "cell_type": "code",
   "execution_count": 21,
   "id": "c1e2ca30-bdda-4155-b3a9-3c87cbcdeff9",
   "metadata": {},
   "outputs": [
    {
     "name": "stdout",
     "output_type": "stream",
     "text": [
      "Chars = 8 Digits = 3 Symbols = 4\n"
     ]
    }
   ],
   "source": [
    "'''Write a Python program to Count all letters, digits, and special\n",
    "symbols from the given string\n",
    "Input = “P@#yn26at^&i5ve”\n",
    "Output: Chars = 8 Digits = 2 Symbol = 3 '''\n",
    "\n",
    "# Given string\n",
    "input_string = \"P@#yn26at^&i5ve\"\n",
    "\n",
    "# Initialize counters\n",
    "chars_count = 0\n",
    "digits_count = 0\n",
    "symbols_count = 0\n",
    "\n",
    "# Iterate through each character in the string\n",
    "for char in input_string:\n",
    "    if char.isalpha():\n",
    "        chars_count += 1\n",
    "    elif char.isdigit():\n",
    "        digits_count += 1\n",
    "    else:\n",
    "        symbols_count += 1\n",
    "\n",
    "# Display the counts\n",
    "print(f\"Chars = {chars_count} Digits = {digits_count} Symbols = {symbols_count}\")\n"
   ]
  },
  {
   "cell_type": "code",
   "execution_count": 23,
   "id": "a765cf8e-221c-439e-8f73-d35adce4e616",
   "metadata": {},
   "outputs": [
    {
     "name": "stdout",
     "output_type": "stream",
     "text": [
      "String with duplicates removed: String adFuco\n"
     ]
    }
   ],
   "source": [
    "'''Write a Python program to remove duplicate characters of a given string.\n",
    "Input = “String and String Function”\n",
    "Output: String and Function'''\n",
    "# Given string\n",
    "input_string = \"String and String Function\"\n",
    "\n",
    "# Initialize an empty string to store the result\n",
    "result = \"\"\n",
    "\n",
    "# Use a set to track characters that have already been added\n",
    "seen = set()\n",
    "\n",
    "# Iterate through each character in the string\n",
    "for char in input_string:\n",
    "    if char not in seen:\n",
    "        # Add the character to the result string and mark it as seen\n",
    "        result += char\n",
    "        seen.add(char)\n",
    "\n",
    "# Display the string with duplicates removed\n",
    "print(\"String with duplicates removed:\", result)\n"
   ]
  },
  {
   "cell_type": "code",
   "execution_count": 25,
   "id": "c9aad1d4-7850-49ed-9ac0-6f507c11a818",
   "metadata": {},
   "outputs": [
    {
     "name": "stdout",
     "output_type": "stream",
     "text": [
      "UpperCase : 5\n",
      "LowerCase : 18\n",
      "NumberCase : 5\n",
      "SpecialCase : 3\n"
     ]
    }
   ],
   "source": [
    "'''Write a Python program to count Uppercase, Lowercase, special\n",
    "character and numeric values in a given string\n",
    "Input = “Hell0 W0rld ! 123 * # welcome to pYtHoN”\n",
    "Output:\n",
    "UpperCase : 5\n",
    "LowerCase : 18\n",
    "NumberCase : 5\n",
    "SpecialCase : 11\n",
    "'''\n",
    "# Given string\n",
    "input_string = \"Hell0 W0rld ! 123 * # welcome to pYtHoN\"\n",
    "\n",
    "# Initialize counters\n",
    "uppercase_count = 0\n",
    "lowercase_count = 0\n",
    "numeric_count = 0\n",
    "special_count = 0\n",
    "\n",
    "# Iterate through each character in the string\n",
    "for char in input_string:\n",
    "    if char.isupper():\n",
    "        uppercase_count += 1\n",
    "    elif char.islower():\n",
    "        lowercase_count += 1\n",
    "    elif char.isdigit():\n",
    "        numeric_count += 1\n",
    "    elif not char.isspace():  # Special characters (excluding whitespace)\n",
    "        special_count += 1\n",
    "\n",
    "# Display the counts\n",
    "print(f\"UpperCase : {uppercase_count}\")\n",
    "print(f\"LowerCase : {lowercase_count}\")\n",
    "print(f\"NumberCase : {numeric_count}\")\n",
    "print(f\"SpecialCase : {special_count}\")\n"
   ]
  },
  {
   "cell_type": "code",
   "execution_count": 29,
   "id": "cb7ca4b3-98d5-4a0d-b315-02e7cb8d9065",
   "metadata": {},
   "outputs": [
    {
     "name": "stdout",
     "output_type": "stream",
     "text": [
      "Total vowels are: 8\n"
     ]
    }
   ],
   "source": [
    "'''Write a Python Count vowels in a string\n",
    "input= “Welcome to Python Assignment”\n",
    "Output: Total vowels are: 8'''\n",
    "# Given string\n",
    "input_string = \"Welcome to Python Assignment\"\n",
    "\n",
    "# Define the vowels\n",
    "vowels = \"aeiouAEIOU\"\n",
    "\n",
    "# Initialize a counter for vowels\n",
    "vowel_count = 0\n",
    "\n",
    "# Iterate through each character in the string\n",
    "for char in input_string:\n",
    "    if char in vowels:\n",
    "        vowel_count += 1\n",
    "\n",
    "# Display the total count of vowels\n",
    "print(f\"Total vowels are: {vowel_count}\")\n"
   ]
  },
  {
   "cell_type": "code",
   "execution_count": null,
   "id": "701739a0-8e84-4512-8955-93a92d6ade05",
   "metadata": {},
   "outputs": [],
   "source": [
    "\n"
   ]
  }
 ],
 "metadata": {
  "kernelspec": {
   "display_name": "Python 3 (ipykernel)",
   "language": "python",
   "name": "python3"
  },
  "language_info": {
   "codemirror_mode": {
    "name": "ipython",
    "version": 3
   },
   "file_extension": ".py",
   "mimetype": "text/x-python",
   "name": "python",
   "nbconvert_exporter": "python",
   "pygments_lexer": "ipython3",
   "version": "3.12.4"
  }
 },
 "nbformat": 4,
 "nbformat_minor": 5
}

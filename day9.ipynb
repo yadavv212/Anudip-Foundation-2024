{
 "cells": [
  {
   "cell_type": "code",
   "execution_count": 1,
   "id": "be27bff6-6f6e-4d62-bc70-4f0e7e06264f",
   "metadata": {},
   "outputs": [
    {
     "name": "stdout",
     "output_type": "stream",
     "text": [
      "{'March', 'May', 'January', 'April', 'Febrary', 'June'}\n"
     ]
    }
   ],
   "source": [
    "##creating set\n",
    "Months={\"January\",\"Febrary\",\"March\",\"April\",\"May\",\"June\"}\n",
    "print (Months)\n"
   ]
  },
  {
   "cell_type": "code",
   "execution_count": 5,
   "id": "d49ef1ca-7673-4074-90f2-c0730e5a5310",
   "metadata": {},
   "outputs": [
    {
     "name": "stdout",
     "output_type": "stream",
     "text": [
      "{'March', 'August', 'May', 'January', 'April', 'Febrary', 'June'}\n"
     ]
    }
   ],
   "source": [
    "##adding element in set\n",
    "Months.add(\"August\")\n",
    "print(Months)"
   ]
  },
  {
   "cell_type": "code",
   "execution_count": 13,
   "id": "eb698a93-b633-432b-9fe4-4eda69d83c99",
   "metadata": {},
   "outputs": [
    {
     "name": "stdout",
     "output_type": "stream",
     "text": [
      "{'c', 'March', 'May', 'g', 'S', 'O', 'October', 'l', 't', 'u', 'J', 'b', 'r', 'Febrary', 'o', 'July', 'September', 'August', 'p', 'January', 'April', 'y', 'm', 's', 'e', 'A', 'June'}\n"
     ]
    }
   ],
   "source": [
    "##update string in set\n",
    "Months.update([\"July\",\"August\",\"September\",\"October\"])\n",
    "print(Months)"
   ]
  },
  {
   "cell_type": "code",
   "execution_count": 15,
   "id": "79cf325e-5f02-43ff-821f-c32b63d8d075",
   "metadata": {},
   "outputs": [
    {
     "name": "stdout",
     "output_type": "stream",
     "text": [
      "{'c', 'March', 'May', 'g', 'S', 'O', 'October', 'l', 't', 'u', 'J', 'b', 'r', 'Febrary', 'o', 'July', 'September', 'August', 'p', 'January', 'April', 'y', 'm', 's', 'e', 'A', 'June'}\n"
     ]
    }
   ],
   "source": [
    "Months.discard(\"dec\")\n",
    "print(Months)"
   ]
  },
  {
   "cell_type": "code",
   "execution_count": 19,
   "id": "d50db0d5-2107-420e-b299-af3a89823671",
   "metadata": {},
   "outputs": [
    {
     "ename": "NameError",
     "evalue": "name 'months' is not defined",
     "output_type": "error",
     "traceback": [
      "\u001b[1;31m---------------------------------------------------------------------------\u001b[0m",
      "\u001b[1;31mNameError\u001b[0m                                 Traceback (most recent call last)",
      "Cell \u001b[1;32mIn[19], line 1\u001b[0m\n\u001b[1;32m----> 1\u001b[0m months\u001b[38;5;241m.\u001b[39mremove(\u001b[38;5;124m\"\u001b[39m\u001b[38;5;124mdec\u001b[39m\u001b[38;5;124m\"\u001b[39m)\n\u001b[0;32m      2\u001b[0m \u001b[38;5;28mprint\u001b[39m(Months)\n",
      "\u001b[1;31mNameError\u001b[0m: name 'months' is not defined"
     ]
    }
   ],
   "source": [
    "months.remove(\"dec\")\n",
    "print(Months)"
   ]
  },
  {
   "cell_type": "code",
   "execution_count": 23,
   "id": "25758943-9185-4d9a-ae24-67263ba3684f",
   "metadata": {},
   "outputs": [
    {
     "name": "stdout",
     "output_type": "stream",
     "text": [
      "tanu\n"
     ]
    }
   ],
   "source": [
    "#string\n",
    "name=\"tanu\"\n",
    "print (name)"
   ]
  },
  {
   "cell_type": "code",
   "execution_count": 31,
   "id": "4e455ed0-fd86-4d69-a5a7-b0e3145ea53b",
   "metadata": {},
   "outputs": [
    {
     "name": "stdout",
     "output_type": "stream",
     "text": [
      "tanuyadav\n"
     ]
    }
   ],
   "source": [
    "name+\"yadav\"\n",
    "print(name)"
   ]
  },
  {
   "cell_type": "code",
   "execution_count": 33,
   "id": "db5a2ff3-3042-4207-acc5-0379dc032d2f",
   "metadata": {},
   "outputs": [
    {
     "name": "stdout",
     "output_type": "stream",
     "text": [
      "tanu yadav\n",
      "name[2:4] nu\n"
     ]
    }
   ],
   "source": [
    "name=\"tanu yadav\"\n",
    "print(name)\n",
    "print(\"name[2:4]\",name[2:4])"
   ]
  },
  {
   "cell_type": "code",
   "execution_count": 35,
   "id": "9a1d1524-5124-4cb4-b058-3b16467d7307",
   "metadata": {},
   "outputs": [
    {
     "name": "stdout",
     "output_type": "stream",
     "text": [
      "name[5:9] yada\n"
     ]
    }
   ],
   "source": [
    "print(\"name[5:9]\",name[5:9])"
   ]
  },
  {
   "cell_type": "code",
   "execution_count": 37,
   "id": "76de8b76-9c4d-41ff-a6f6-a964dbcb76eb",
   "metadata": {},
   "outputs": [
    {
     "name": "stdout",
     "output_type": "stream",
     "text": [
      "name[:15] tanu yadav\n"
     ]
    }
   ],
   "source": [
    "print(\"name[:15]\",name[:15])"
   ]
  },
  {
   "cell_type": "code",
   "execution_count": 39,
   "id": "6d94593d-8d2a-4c57-8423-2e4560a55340",
   "metadata": {},
   "outputs": [
    {
     "name": "stdout",
     "output_type": "stream",
     "text": [
      "name[2:] nu yadav\n"
     ]
    }
   ],
   "source": [
    "print(\"name[2:]\",name[2:])"
   ]
  },
  {
   "cell_type": "code",
   "execution_count": 41,
   "id": "9810a9ee-58e0-4871-b8e4-e314ce0b0464",
   "metadata": {},
   "outputs": [
    {
     "name": "stdout",
     "output_type": "stream",
     "text": [
      "name[:] tanu yadav\n"
     ]
    }
   ],
   "source": [
    "print(\"name[:]\",name[:])"
   ]
  },
  {
   "cell_type": "code",
   "execution_count": 43,
   "id": "386f7e6e-ebeb-4325-947c-cf49582217cd",
   "metadata": {},
   "outputs": [
    {
     "name": "stdout",
     "output_type": "stream",
     "text": [
      "name[0:17:3] tuav\n"
     ]
    }
   ],
   "source": [
    "print(\"name[0:17:3]\",name[0:17:3])"
   ]
  },
  {
   "cell_type": "code",
   "execution_count": 45,
   "id": "d1dbdb4a-e7ee-4f3b-9cdd-df0dc38a0650",
   "metadata": {},
   "outputs": [
    {
     "name": "stdout",
     "output_type": "stream",
     "text": [
      "name[::] tanu yadav\n"
     ]
    }
   ],
   "source": [
    "print(\"name[::]\",name[::])"
   ]
  },
  {
   "cell_type": "code",
   "execution_count": 47,
   "id": "20a5ca74-d0d2-4aeb-9b98-4a9029090f24",
   "metadata": {},
   "outputs": [
    {
     "name": "stdout",
     "output_type": "stream",
     "text": [
      "name[::-1] vaday unat\n"
     ]
    }
   ],
   "source": [
    "print(\"name[::-1]\",name[::-1])"
   ]
  },
  {
   "cell_type": "code",
   "execution_count": 49,
   "id": "b9c9f02f-e6c2-484e-9d3e-ba8010cbbe41",
   "metadata": {},
   "outputs": [
    {
     "ename": "SyntaxError",
     "evalue": "unterminated string literal (detected at line 1) (805277270.py, line 1)",
     "output_type": "error",
     "traceback": [
      "\u001b[1;36m  Cell \u001b[1;32mIn[49], line 1\u001b[1;36m\u001b[0m\n\u001b[1;33m    str=\"\"rahul\"\u001b[0m\n\u001b[1;37m               ^\u001b[0m\n\u001b[1;31mSyntaxError\u001b[0m\u001b[1;31m:\u001b[0m unterminated string literal (detected at line 1)\n"
     ]
    }
   ],
   "source": [
    "str=\"\"rahul\"\n",
    "del str[1]"
   ]
  },
  {
   "cell_type": "code",
   "execution_count": 51,
   "id": "4349ad7c-e3fe-4f6b-bc7f-95aa22f71d1b",
   "metadata": {},
   "outputs": [
    {
     "ename": "NameError",
     "evalue": "name 'str' is not defined",
     "output_type": "error",
     "traceback": [
      "\u001b[1;31m---------------------------------------------------------------------------\u001b[0m",
      "\u001b[1;31mNameError\u001b[0m                                 Traceback (most recent call last)",
      "Cell \u001b[1;32mIn[51], line 1\u001b[0m\n\u001b[1;32m----> 1\u001b[0m \u001b[38;5;28;01mdel\u001b[39;00m(\u001b[38;5;28mstr\u001b[39m)\n\u001b[0;32m      2\u001b[0m \u001b[38;5;28mprint\u001b[39m(\u001b[38;5;28mstr\u001b[39m)\n",
      "\u001b[1;31mNameError\u001b[0m: name 'str' is not defined"
     ]
    }
   ],
   "source": [
    "\n",
    "del(str)\n",
    "print(str)"
   ]
  },
  {
   "cell_type": "code",
   "execution_count": 53,
   "id": "b2d71223-2798-4fb1-8637-872ab1519a84",
   "metadata": {},
   "outputs": [
    {
     "name": "stdout",
     "output_type": "stream",
     "text": [
      "True\n",
      "False\n"
     ]
    }
   ],
   "source": [
    "x=[\"apple\",\"banana\"]\n",
    "y=[\"apple\",\"banana\"]\n",
    "z=x\n",
    "print(x is z)\n",
    "print(x is y)\n",
    "##is opertor check reference "
   ]
  },
  {
   "cell_type": "code",
   "execution_count": 57,
   "id": "31986e3c-ce54-4f15-ab2b-38967af1651f",
   "metadata": {},
   "outputs": [
    {
     "name": "stdout",
     "output_type": "stream",
     "text": [
      "tanu yadav\n",
      "2791004061040\n",
      "Tanu yadav\n",
      "2791004052272\n"
     ]
    }
   ],
   "source": [
    "##capatalize() convert first letter into the capital letter\n",
    "str=\"tanu yadav\"\n",
    "print(str)\n",
    "print(id(str))\n",
    "str=str.capitalize()\n",
    "print(str)\n",
    "print(id(str))"
   ]
  },
  {
   "cell_type": "code",
   "execution_count": 59,
   "id": "6c1ed703-2616-44b9-afc1-05361beae1d1",
   "metadata": {},
   "outputs": [
    {
     "name": "stdout",
     "output_type": "stream",
     "text": [
      "tanu yadav\n",
      "     tanu yadav     \n"
     ]
    }
   ],
   "source": [
    "##center()  method alligns string to the center by filling padding left and right of the string.\n",
    "str=\"tanu yadav\"\n",
    "print(str)\n",
    "str=str.center(20)\n",
    "print(str)"
   ]
  },
  {
   "cell_type": "code",
   "execution_count": 66,
   "id": "081a91d4-de9a-4956-a460-67f4a28ae030",
   "metadata": {},
   "outputs": [
    {
     "name": "stdout",
     "output_type": "stream",
     "text": [
      "tanu yadav\n",
      "*****tanu yadav*****\n"
     ]
    }
   ],
   "source": [
    "##the center has two parameters , first is a width and second is a fillchar which is optional. \n",
    "str=\"tanu yadav\"\n",
    "print(str)\n",
    "str=str.center(20,'*')\n",
    "print(str)"
   ]
  },
  {
   "cell_type": "code",
   "execution_count": 6,
   "id": "9b027cbb-d18f-4c95-bd0d-93ef28f5d723",
   "metadata": {},
   "outputs": [
    {
     "name": "stdout",
     "output_type": "stream",
     "text": [
      "2\n"
     ]
    }
   ],
   "source": [
    "##count() method return the no of occurence of the value which we want to count\n",
    "str=\"second start index and third\"\n",
    "oc=str.count('a')\n",
    "print(oc)"
   ]
  },
  {
   "cell_type": "code",
   "execution_count": 10,
   "id": "4a5fbab2-a41b-427f-bcc0-f439820b90ea",
   "metadata": {},
   "outputs": [
    {
     "name": "stdout",
     "output_type": "stream",
     "text": [
      "1\n"
     ]
    }
   ],
   "source": [
    "##count() method has three parameters , first is substring , second is start index and third is end index.Start and end index both are optional.\n",
    "str=\"second start index and third\"\n",
    "oc=str.count('a',8,16)\n",
    "print(oc)"
   ]
  },
  {
   "cell_type": "code",
   "execution_count": 16,
   "id": "5e0fe9b1-f367-4bae-83bc-0611655d9477",
   "metadata": {},
   "outputs": [
    {
     "name": "stdout",
     "output_type": "stream",
     "text": [
      "True\n"
     ]
    }
   ],
   "source": [
    "## endwith() method to check our string \n",
    "str=\"second start index and third.\"\n",
    "isends = str.endswith(\".\")\n",
    "print(isends)"
   ]
  },
  {
   "cell_type": "code",
   "execution_count": 18,
   "id": "e385e5b1-0be5-4423-8067-ab3ecec2ca59",
   "metadata": {},
   "outputs": [
    {
     "name": "stdout",
     "output_type": "stream",
     "text": [
      "False\n"
     ]
    }
   ],
   "source": [
    "str=\"second start index and third.\"\n",
    "isends = str.endswith(\".\",0,6)\n",
    "print(isends)"
   ]
  },
  {
   "cell_type": "code",
   "execution_count": 20,
   "id": "56b9677a-9a87-4ff0-b85d-b94e3a4ae52f",
   "metadata": {},
   "outputs": [
    {
     "name": "stdout",
     "output_type": "stream",
     "text": [
      "8\n"
     ]
    }
   ],
   "source": [
    "#find() method finds substring in the whole string and return index of the first match. \n",
    "str1=\"welcome to my class\"\n",
    "str2=str1.find(\"t\")\n",
    "print(str2)"
   ]
  },
  {
   "cell_type": "code",
   "execution_count": 22,
   "id": "17766981-1b4e-4d35-a026-075525db0c4f",
   "metadata": {},
   "outputs": [
    {
     "name": "stdout",
     "output_type": "stream",
     "text": [
      "-1\n"
     ]
    }
   ],
   "source": [
    "#find() method has three parameters, first is substring , second is start index and third is end index.Start and end index both are optional.Return -1 if value not found\n",
    "str1=\"welcome to my class\"\n",
    "str2=str1.find(\"t\",9,13)\n",
    "print(str2)"
   ]
  },
  {
   "cell_type": "code",
   "execution_count": 24,
   "id": "d3beda1e-7854-4f6e-a5ee-5b81dc70eb9a",
   "metadata": {},
   "outputs": [
    {
     "ename": "ValueError",
     "evalue": "substring not found",
     "output_type": "error",
     "traceback": [
      "\u001b[1;31m---------------------------------------------------------------------------\u001b[0m",
      "\u001b[1;31mValueError\u001b[0m                                Traceback (most recent call last)",
      "Cell \u001b[1;32mIn[24], line 3\u001b[0m\n\u001b[0;32m      1\u001b[0m \u001b[38;5;66;03m# index method  is same as the find method() but it return error if value is not found.\u001b[39;00m\n\u001b[0;32m      2\u001b[0m str1\u001b[38;5;241m=\u001b[39m\u001b[38;5;124m\"\u001b[39m\u001b[38;5;124mwelcome to my class\u001b[39m\u001b[38;5;124m\"\u001b[39m\n\u001b[1;32m----> 3\u001b[0m str2\u001b[38;5;241m=\u001b[39mstr1\u001b[38;5;241m.\u001b[39mindex(\u001b[38;5;124m\"\u001b[39m\u001b[38;5;124mz\u001b[39m\u001b[38;5;124m\"\u001b[39m)\n\u001b[0;32m      4\u001b[0m \u001b[38;5;28mprint\u001b[39m(str2)\n",
      "\u001b[1;31mValueError\u001b[0m: substring not found"
     ]
    }
   ],
   "source": [
    "# index method  is same as the find method() but it return error if value is not found.\n",
    "str1=\"welcome to my class\"\n",
    "str2=str1.index(\"z\")\n",
    "print(str2)"
   ]
  },
  {
   "cell_type": "code",
   "execution_count": 26,
   "id": "14f641fa-39f2-4180-867d-4491446733c2",
   "metadata": {},
   "outputs": [
    {
     "name": "stdout",
     "output_type": "stream",
     "text": [
      "8\n"
     ]
    }
   ],
   "source": [
    "#index() method has three parameters, first is substring , second is start index and third is end index.Start and end index both are optional.Return -1 if value not found\n",
    "str1=\"welcome to my class\"\n",
    "str2=str1.index(\"t\",2,20)\n",
    "print(str2)"
   ]
  },
  {
   "cell_type": "code",
   "execution_count": 30,
   "id": "8d6e2025-4f1b-4f0c-8eff-4080e5d24692",
   "metadata": {},
   "outputs": [
    {
     "name": "stdout",
     "output_type": "stream",
     "text": [
      "False\n"
     ]
    }
   ],
   "source": [
    "#isalnum() mrthod checks whelther the all characters of the string is alphanumeric or not. \n",
    "str1=\"welcome to my class\"\n",
    "str2=str1.isalnum()\n",
    "print(str2)"
   ]
  },
  {
   "cell_type": "code",
   "execution_count": 32,
   "id": "8386f709-f20c-4739-bc5b-b4b42ddf3a43",
   "metadata": {},
   "outputs": [
    {
     "name": "stdout",
     "output_type": "stream",
     "text": [
      "True\n"
     ]
    }
   ],
   "source": [
    "## the whole string is either numeric or alphabet\n",
    "str1=\"welcomtomyclass\"\n",
    "str2=str1.isalnum()\n",
    "print(str2)"
   ]
  },
  {
   "cell_type": "code",
   "execution_count": 34,
   "id": "95dda80a-a4b7-4367-83f3-aa5a8d5da8d5",
   "metadata": {},
   "outputs": [
    {
     "name": "stdout",
     "output_type": "stream",
     "text": [
      "True\n"
     ]
    }
   ],
   "source": [
    "#isalpha() Method return true if all characters in the string are alphabetic. It return false if the character is not alphabetic. \n",
    "str1=\"welcomtomyclass\"\n",
    "str2=str1.isalpha()\n",
    "print(str2)"
   ]
  },
  {
   "cell_type": "code",
   "execution_count": 36,
   "id": "456933c5-5f10-4208-a601-80dd465fca99",
   "metadata": {},
   "outputs": [
    {
     "name": "stdout",
     "output_type": "stream",
     "text": [
      "False\n"
     ]
    }
   ],
   "source": [
    "#isnum() Method return true if all characters in the string are numeric. It return false if the character is not alphabetic. \n",
    "str1=\"1333456677888\"\n",
    "str2=str1.isalpha()\n",
    "print(str2)"
   ]
  },
  {
   "cell_type": "code",
   "execution_count": 38,
   "id": "f8100df2-4e22-4cc0-b71a-2ec2414526a4",
   "metadata": {},
   "outputs": [
    {
     "name": "stdout",
     "output_type": "stream",
     "text": [
      "True\n"
     ]
    }
   ],
   "source": [
    "#islower() method return true if all characters in the string is of lowercase.\n",
    "str1=\"welcomtomyclass\"\n",
    "str2=str1.islower()\n",
    "print(str2)"
   ]
  },
  {
   "cell_type": "code",
   "execution_count": 41,
   "id": "8201b55e-0dd7-4de4-bb33-5575a24c205c",
   "metadata": {},
   "outputs": [
    {
     "name": "stdout",
     "output_type": "stream",
     "text": [
      "True\n"
     ]
    }
   ],
   "source": [
    "#isupper() method return true if all characters in the string is of uppercase.\n",
    "str1=\"WELCOMEGUYS\"\n",
    "str2=str1.isupper()\n",
    "print(str2)"
   ]
  },
  {
   "cell_type": "code",
   "execution_count": 43,
   "id": "d0ecc7dd-ad1b-4cc9-bac4-18f8f5e3575d",
   "metadata": {},
   "outputs": [
    {
     "name": "stdout",
     "output_type": "stream",
     "text": [
      "welcomeguys\n"
     ]
    }
   ],
   "source": [
    "#lower() method convert string into lowercase\n",
    "str1=\"WELCOMEGUYS\"\n",
    "str2=str1.lower()\n",
    "print(str2)"
   ]
  },
  {
   "cell_type": "code",
   "execution_count": 45,
   "id": "678dfe45-3b46-4656-8796-e615dab1b8a9",
   "metadata": {},
   "outputs": [
    {
     "name": "stdout",
     "output_type": "stream",
     "text": [
      "WELCOMEGUYSS\n"
     ]
    }
   ],
   "source": [
    "#upper() method convert string into lowercase\n",
    "str1=\"welcomeguysS\"\n",
    "str2=str1.upper()\n",
    "print(str2)"
   ]
  },
  {
   "cell_type": "code",
   "execution_count": 47,
   "id": "dfb31744-7426-4370-8c18-804aa7ada44b",
   "metadata": {},
   "outputs": [
    {
     "name": "stdout",
     "output_type": "stream",
     "text": [
      "welcomeguysS---------------------------------\n"
     ]
    }
   ],
   "source": [
    "#lstrip() method is used to remove all leading charcter from the string.\n",
    "str1=\"-------------------welcomeguysS---------------------------------\"\n",
    "str2=str1.lstrip('-')\n",
    "print(str2)"
   ]
  },
  {
   "cell_type": "code",
   "execution_count": 49,
   "id": "5f3039db-be0a-43f4-9623-c6652d6d961e",
   "metadata": {},
   "outputs": [
    {
     "name": "stdout",
     "output_type": "stream",
     "text": [
      "-------------------welcomeguysS\n"
     ]
    }
   ],
   "source": [
    "#rstrip() method is used to remove all trailing charcter from the string.\n",
    "str1=\"-------------------welcomeguysS---------------------------------\"\n",
    "str2=str1.rstrip('-')\n",
    "print(str2)"
   ]
  },
  {
   "cell_type": "code",
   "execution_count": 51,
   "id": "b81e64fc-ee4d-4d06-b048-b8f7e7b82433",
   "metadata": {},
   "outputs": [
    {
     "name": "stdout",
     "output_type": "stream",
     "text": [
      "welcomeguysS\n"
     ]
    }
   ],
   "source": [
    "#strip() method is used to remove both from the leading and trailing character from the string.\n",
    "str1=\"-------------------welcomeguysS---------------------------------\"\n",
    "str2=str1.strip('-')\n",
    "print(str2)"
   ]
  },
  {
   "cell_type": "code",
   "execution_count": 53,
   "id": "a4326f80-5c28-4197-ba2c-5d0fc7ae0525",
   "metadata": {},
   "outputs": [
    {
     "name": "stdout",
     "output_type": "stream",
     "text": [
      "c is programming language\n"
     ]
    }
   ],
   "source": [
    "#replace method is used to replace the charcter from old charcter to new charcter.\n",
    "str=\"java is programming language\"\n",
    "str2=str.replace('java','c')\n",
    "print(str2)"
   ]
  },
  {
   "cell_type": "code",
   "execution_count": 55,
   "id": "e32ec82c-a201-489e-a5f9-f2c461a6622f",
   "metadata": {},
   "outputs": [
    {
     "name": "stdout",
     "output_type": "stream",
     "text": [
      "java IS progRAMMING LANGUAGE\n"
     ]
    }
   ],
   "source": [
    "#swapcase() is used to swap uppercase into lowercase and lowercase into uppercase.\n",
    "str=\"JAVA is PROGramming language\"\n",
    "str2=str.swapcase()\n",
    "print(str2)"
   ]
  },
  {
   "cell_type": "code",
   "execution_count": 57,
   "id": "f933ea5e-3233-4ef1-938f-4f47d35342c5",
   "metadata": {},
   "outputs": [
    {
     "name": "stdout",
     "output_type": "stream",
     "text": [
      "Java Is Proramming Language\n"
     ]
    }
   ],
   "source": [
    "#title() is used to capatilize every first word of the string\n",
    "str=\"java is proramming language\"\n",
    "str2=str.title()\n",
    "print(str2)"
   ]
  },
  {
   "cell_type": "code",
   "execution_count": null,
   "id": "cec0f138-6e31-4c83-9c8e-26f5ef4f8544",
   "metadata": {},
   "outputs": [],
   "source": []
  }
 ],
 "metadata": {
  "kernelspec": {
   "display_name": "Python 3 (ipykernel)",
   "language": "python",
   "name": "python3"
  },
  "language_info": {
   "codemirror_mode": {
    "name": "ipython",
    "version": 3
   },
   "file_extension": ".py",
   "mimetype": "text/x-python",
   "name": "python",
   "nbconvert_exporter": "python",
   "pygments_lexer": "ipython3",
   "version": "3.12.4"
  }
 },
 "nbformat": 4,
 "nbformat_minor": 5
}

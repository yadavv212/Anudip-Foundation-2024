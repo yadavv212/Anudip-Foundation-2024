{
 "cells": [
  {
   "cell_type": "code",
   "execution_count": 2,
   "id": "6c9935ff-3da9-460f-926e-e44001bca5c6",
   "metadata": {},
   "outputs": [
    {
     "name": "stdout",
     "output_type": "stream",
     "text": [
      "3rd element from start 3\n",
      "4th element from last  6\n",
      "elements between 3rd and 8th position [3, 4, 5, 6, 7, 8]\n"
     ]
    }
   ],
   "source": [
    "#SLICING OPERATION IN LIST------------------------------------------\n",
    "\n",
    "list2=[1,2,3,4,5,6,7,8,9]\n",
    "print(\"3rd element from start\",list2[2])\n",
    "print(\"4th element from last \", list2[-4])\n",
    "print(\"elements between 3rd and 8th position\",list2[2:8])"
   ]
  },
  {
   "cell_type": "code",
   "execution_count": 4,
   "id": "351f28b0-969c-4794-acde-cd8b8f4e1c0b",
   "metadata": {},
   "outputs": [
    {
     "name": "stdout",
     "output_type": "stream",
     "text": [
      "20 19 18 17 16 15 14 13 12 11 10 9 8 7 6 5 4 3 2 1\n",
      "20 19 18 17 16 15 14 13 12 11 10 9 8 7 6 5 4 3 2 1 "
     ]
    }
   ],
   "source": [
    "#USING END PARAMETER ----------------------------------------------------\n",
    "\n",
    "list3=[1,2,3,4,5,6,7,8,9,10,11,12,13,14,15,16,17,18,19,20]\n",
    "print(*list3[19:0:-1],end=\" \")\n",
    "print(list3[0])\n",
    "x=20\n",
    "while(x>0):\n",
    "    print(x,end=\" \")\n",
    "    x-=1 \n"
   ]
  },
  {
   "cell_type": "code",
   "execution_count": 6,
   "id": "b77a5320-de77-433e-a027-f46486125d2c",
   "metadata": {},
   "outputs": [
    {
     "name": "stdout",
     "output_type": "stream",
     "text": [
      "[1, 2, 3, 4]\n",
      "using append :  [1, 2, 3, 4, 3]\n",
      "using extend :  [1, 2, 3, 4, 3, 5, 6, 7]\n",
      "using insert :  [1, 2, 7, 3, 4, 3, 5, 6, 7]\n"
     ]
    }
   ],
   "source": [
    "#INSERTING DATA IN LIST-----------------------------------------------------\n",
    "\n",
    "list4=[1,2,3,4]\n",
    "print(list4)\n",
    "list4.append(3)\n",
    "print(\"using append : \",list4)\n",
    "list4.extend([5,6,7])\n",
    "print(\"using extend : \",list4)\n",
    "list4.insert(2,7)\n",
    "print(\"using insert : \",list4)"
   ]
  },
  {
   "cell_type": "code",
   "execution_count": 8,
   "id": "404f33bf-64bf-4418-83e6-eab7681fd7f3",
   "metadata": {},
   "outputs": [
    {
     "name": "stdout",
     "output_type": "stream",
     "text": [
      "[3, 4, 9, 8, 7, 4, 5, 6]\n"
     ]
    }
   ],
   "source": [
    "\n",
    "# Use slicing and sum function to insert elements one by one\n",
    "my_list = [3, 4, 4, 5, 6]\n",
    "elements_to_insert = [9, 8, 7]\n",
    "index = 2\n",
    "my_list = my_list[:index] + elements_to_insert + my_list[index:]\n",
    "print(my_list)"
   ]
  },
  {
   "cell_type": "code",
   "execution_count": 10,
   "id": "02c72038-a54d-44f6-a033-4e4543e30764",
   "metadata": {},
   "outputs": [
    {
     "name": "stdout",
     "output_type": "stream",
     "text": [
      "before removing :  [1, 7, 7, 8, 2, 3, 4, 5, 6, 7, 8, 9]\n",
      "after poping  [1, 7, 7, 8, 3, 4, 5, 6, 7, 8]\n"
     ]
    }
   ],
   "source": [
    "#REMOVING DATA ----------------------------------------------------\n",
    "\n",
    "#usin pop method--we pass index as an argument\n",
    "\n",
    "list5=[1,7,7,8,2,3,4,5,6,7,8,9]\n",
    "print(\"before removing : \",list5)\n",
    "list5.pop(4)\n",
    "list5.pop()\n",
    "print(\"after poping \",list5)"
   ]
  },
  {
   "cell_type": "code",
   "execution_count": 12,
   "id": "39440c3a-41b4-48c0-9213-bb56a2bbdd02",
   "metadata": {},
   "outputs": [
    {
     "name": "stdout",
     "output_type": "stream",
     "text": [
      "after removing  [1, 7, 8, 3, 4, 5, 6, 7, 8]\n"
     ]
    }
   ],
   "source": [
    "#using remove function--in this we pass element as an argument, generates exception if element is not present\n",
    "\n",
    "list5.remove(7)\n",
    "print(\"after removing \",list5)\n"
   ]
  },
  {
   "cell_type": "code",
   "execution_count": 14,
   "id": "ab79d77b-1f05-4eed-8917-1e2e5ca49799",
   "metadata": {},
   "outputs": [
    {
     "name": "stdout",
     "output_type": "stream",
     "text": [
      "after clearing []\n"
     ]
    }
   ],
   "source": [
    "#using clear() -to delete all the elements from list\n",
    "\n",
    "list5.clear()\n",
    "print(\"after clearing\", list5)"
   ]
  },
  {
   "cell_type": "code",
   "execution_count": null,
   "id": "c180efee-bde3-4bf9-80a8-822e4d7d7452",
   "metadata": {},
   "outputs": [],
   "source": []
  }
 ],
 "metadata": {
  "kernelspec": {
   "display_name": "Python 3 (ipykernel)",
   "language": "python",
   "name": "python3"
  },
  "language_info": {
   "codemirror_mode": {
    "name": "ipython",
    "version": 3
   },
   "file_extension": ".py",
   "mimetype": "text/x-python",
   "name": "python",
   "nbconvert_exporter": "python",
   "pygments_lexer": "ipython3",
   "version": "3.12.4"
  }
 },
 "nbformat": 4,
 "nbformat_minor": 5
}

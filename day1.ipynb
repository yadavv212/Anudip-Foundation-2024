{
 "cells": [
  {
   "cell_type": "code",
   "execution_count": 1,
   "id": "4d15f43a-6da7-40aa-a427-1da25eee1a7b",
   "metadata": {},
   "outputs": [
    {
     "name": "stdin",
     "output_type": "stream",
     "text": [
      "enter seconds 7340\n"
     ]
    },
    {
     "name": "stdout",
     "output_type": "stream",
     "text": [
      "2 hours\n",
      "2 minutes\n",
      "20 seconds\n"
     ]
    }
   ],
   "source": [
    "# ENTER THE TIME IN SECONDS AND CONTERT IT INTO THE HH:MM:SS FORMAT-------------------------------------------\n",
    "secs=int(input(\"enter seconds\"))\n",
    "hour=0\n",
    "mins=0\n",
    "sec=0\n",
    "if(secs>0):\n",
    "    if(secs>=3600):\n",
    "        hour=int(secs/3600)\n",
    "        print(hour,\"hours\")\n",
    "    if(secs>=60):\n",
    "        rem=secs-hour*3600\n",
    "        mins=int(rem/60)\n",
    "        print(mins,\"minutes\")\n",
    "        sec=secs-(hour*3600+mins*60)\n",
    "    if(secs<60):\n",
    "        print(secs,\"seconds\")\n",
    "    if(sec>0):\n",
    "        print(sec,\"seconds\")\n"
   ]
  },
  {
   "cell_type": "code",
   "execution_count": 2,
   "id": "ba739ef7-092b-4d63-a2ae-f48d369237c9",
   "metadata": {},
   "outputs": [
    {
     "name": "stdin",
     "output_type": "stream",
     "text": [
      "enter cp in rs: 37890\n",
      "enter sp in rs: 35000\n"
     ]
    },
    {
     "name": "stdout",
     "output_type": "stream",
     "text": [
      "loss is:  2890.0\n"
     ]
    }
   ],
   "source": [
    "#CALCULATE THE PROFIT OR LOSS OF A PRODUCT BY INPUTTING THE SELLING PRICE AND COST PRICE-------------------------\n",
    "cp=float(input(\"enter cp in rs:\"))\n",
    "sp=float(input(\"enter sp in rs:\"))\n",
    "if(cp<0):\n",
    "    print(\"invalid costprice\")\n",
    "elif(sp<0):\n",
    "    print(\"invalid sprice\")\n",
    "else:\n",
    "    if(sp>cp):\n",
    "        print(\"profit is: \",(sp-cp))\n",
    "    elif(sp<cp):\n",
    "        print(\"loss is: \",(cp-sp))\n",
    "    else:\n",
    "        print(\"equal\")\n"
   ]
  },
  {
   "cell_type": "code",
   "execution_count": 4,
   "id": "78ee5bc5-5f6c-4d94-babf-529698cbc541",
   "metadata": {},
   "outputs": [
    {
     "name": "stdout",
     "output_type": "stream",
     "text": [
      "1\n",
      "4\n",
      "7\n"
     ]
    }
   ],
   "source": [
    "#USING FOR LOOP AND RANGE FUNCTION---------------------------------------------------------------------------------\n",
    ">>> for j in range(1,10,3):\n",
    "...     print(j)"
   ]
  },
  {
   "cell_type": "code",
   "execution_count": null,
   "id": "da99dc11-32fa-43e6-a0a7-1205cfc51c61",
   "metadata": {},
   "outputs": [],
   "source": []
  }
 ],
 "metadata": {
  "kernelspec": {
   "display_name": "Python 3 (ipykernel)",
   "language": "python",
   "name": "python3"
  },
  "language_info": {
   "codemirror_mode": {
    "name": "ipython",
    "version": 3
   },
   "file_extension": ".py",
   "mimetype": "text/x-python",
   "name": "python",
   "nbconvert_exporter": "python",
   "pygments_lexer": "ipython3",
   "version": "3.12.4"
  }
 },
 "nbformat": 4,
 "nbformat_minor": 5
}

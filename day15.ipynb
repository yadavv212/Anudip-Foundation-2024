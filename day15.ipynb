{
 "cells": [
  {
   "cell_type": "code",
   "execution_count": 7,
   "id": "32c1938b-a3ea-4f31-97f7-af72545b1138",
   "metadata": {},
   "outputs": [
    {
     "name": "stdout",
     "output_type": "stream",
     "text": [
      "[1 2 3]\n",
      "[4 5 6]\n"
     ]
    }
   ],
   "source": [
    "'''Split () function:->  the np.split() function is used to split an array into multiple sub-arrays along a\n",
    "specified axis. '''\n",
    "import numpy as np\n",
    "#split the array into 3 equal-sized sub-arrays\n",
    "arr=np.array([1,2,3,4,5,6])\n",
    "#print subarrays\n",
    "sub_arrays=np.split(arr,2)\n",
    "for sub_arr in sub_arrays:\n",
    "    print(sub_arr)"
   ]
  },
  {
   "cell_type": "code",
   "execution_count": 11,
   "id": "ce262868-5e56-4901-b92b-34e0ab9abe9f",
   "metadata": {},
   "outputs": [
    {
     "name": "stdout",
     "output_type": "stream",
     "text": [
      "sorted array(ascending) [1 3 4 6 8 9]\n",
      "sorted array(descending) [9 8 6 4 3 1]\n"
     ]
    }
   ],
   "source": [
    "'''sort():->  In NumPy, you can use the np.sort() function to sort elements in an array along a specified axis. This function returns a sorted copy of\n",
    "the original array.'''\n",
    "import numpy as np\n",
    "arr=np.array([3,1,4,6,8,9])\n",
    "sorted_array=np.sort(arr)\n",
    "print(\"sorted array(ascending)\",sorted_array)\n",
    "sorted_array_desc=np.sort(arr)[::-1]\n",
    "print(\"sorted array(descending)\",sorted_array_desc)"
   ]
  },
  {
   "cell_type": "code",
   "execution_count": 13,
   "id": "f5aeee4f-12d8-4ddd-957f-6c32da94a27a",
   "metadata": {},
   "outputs": [
    {
     "name": "stdout",
     "output_type": "stream",
     "text": [
      "sorted matrix(ascending along rows):\n",
      "[[1 2 3]\n",
      " [4 5 6]]\n"
     ]
    }
   ],
   "source": [
    "#Sorting Along Specific Axis\n",
    "import numpy as np\n",
    "matrix=np.array([[3,1,2],[6,5,4]])\n",
    "sorted_matrix=np.sort(matrix,axis=1)\n",
    "print(\"sorted matrix(ascending along rows):\")\n",
    "print(sorted_matrix)"
   ]
  },
  {
   "cell_type": "code",
   "execution_count": 27,
   "id": "37a0cad9-efbe-4c07-9aba-9600f6f1f292",
   "metadata": {},
   "outputs": [
    {
     "name": "stdout",
     "output_type": "stream",
     "text": [
      "[[1 2 5 6]\n",
      " [3 4 7 8]]\n",
      "[[1 2]\n",
      " [3 4]\n",
      " [5 6]]\n",
      "[[1 2 3]\n",
      " [4 5 6]]\n"
     ]
    }
   ],
   "source": [
    "#join NumPy, you can concatenate (join) multiple arrays along specified axes using various functions\n",
    "\n",
    "\n",
    "##   1.)concatenation- np.concatenate() function is used to join arrays along a specified axis\n",
    "\n",
    "\n",
    "#             a.)horizontally contatenation\n",
    "import numpy as np\n",
    "arr1=np.array([[1,2],[3,4]])\n",
    "arr2=np.array([[5,6],[7,8]])\n",
    "result = np.concatenate((arr1, arr2), axis=1)\n",
    "print(result)\n",
    "\n",
    "\n",
    "#              a.)vertically contatenation\n",
    "import numpy as np\n",
    "arr1 = np.array([[1, 2], [3, 4]])\n",
    "arr2 = np.array([[5, 6]])\n",
    "# Concatenate arr1 and arr2 along rows (vertical)\n",
    "result = np.concatenate((arr1, arr2), axis=0)\n",
    "# Print the concatenated array\n",
    "print(result)\n",
    "\n"
   ]
  },
  {
   "cell_type": "code",
   "execution_count": 31,
   "id": "e6ec923e-0bde-449f-9b1a-d190a4887308",
   "metadata": {},
   "outputs": [
    {
     "name": "stdout",
     "output_type": "stream",
     "text": [
      "[[1 2 3]\n",
      " [4 5 6]]\n",
      "[1 2 3 4]\n"
     ]
    }
   ],
   "source": [
    "#              c.) np.vstack() and np.hstack():\n",
    "\n",
    "\n",
    "\n",
    "#np.vstack()\n",
    "import numpy as np\n",
    "arr1 = np.array([1, 2, 3])\n",
    "arr2 = np.array([4, 5, 6])\n",
    "# Stack arr1 and arr2 vertically\n",
    "result = np.vstack((arr1, arr2))\n",
    "# Print the vertically stacked array\n",
    "print(result)\n",
    "\n",
    "\n",
    "#np.hstack()\n",
    "import numpy as np\n",
    "arr1 = np.array([1, 2])\n",
    "arr2 = np.array([3, 4])\n",
    "# Stack arr1 and arr2 horizontally\n",
    "result = np.hstack((arr1, arr2))\n",
    "# Print the horizontally stacked array\n",
    "print(result)"
   ]
  },
  {
   "cell_type": "code",
   "execution_count": 33,
   "id": "d70bba0f-d4fa-4f11-9c99-5e42edbaf9d3",
   "metadata": {},
   "outputs": [
    {
     "name": "stdout",
     "output_type": "stream",
     "text": [
      "Students who scored above 90: [92 95 94]\n"
     ]
    }
   ],
   "source": [
    "#filter():- you can filter elements in an array based on a specified condition using boolean indexing.\n",
    "import numpy as np\n",
    "# Exam scores for a class of students\n",
    "scores = np.array([85, 92, 78, 88, 95, 72, 89, 94, 68, 90])\n",
    "# Find students who scored above 90\n",
    "above_90 = scores[scores > 90]\n",
    "print(\"Students who scored above 90:\", above_90)"
   ]
  },
  {
   "cell_type": "code",
   "execution_count": 39,
   "id": "7a462f83-9bf9-4980-b5c0-4f529c962ec3",
   "metadata": {},
   "outputs": [
    {
     "name": "stdout",
     "output_type": "stream",
     "text": [
      "5.5\n"
     ]
    }
   ],
   "source": [
    "'''NumPy Statistical Functions'''\n",
    "#np.mean() - Mean (Average): Calculates the average value of an array.\n",
    "import numpy as np\n",
    "array=np.array([1,2,3,4,5,6,7,8,9,10])\n",
    "avg_array=np.mean(array)\n",
    "print(avg_array)"
   ]
  },
  {
   "cell_type": "code",
   "execution_count": 45,
   "id": "51e93738-cfe3-46c9-a89a-229522bebf33",
   "metadata": {},
   "outputs": [
    {
     "name": "stdout",
     "output_type": "stream",
     "text": [
      "7.0\n"
     ]
    }
   ],
   "source": [
    "#np.median() - Median: Finds the median value (middle value when sorted) of an array.\n",
    "import numpy as np\n",
    "array=np.array([1,2,3,4,5,6,7,8,9,10,11,12,13])\n",
    "median_array=np.median(array)\n",
    "print(median_array)"
   ]
  },
  {
   "cell_type": "code",
   "execution_count": 49,
   "id": "c1fb54d7-11ba-4a3b-b495-fb4e31a3b0ff",
   "metadata": {},
   "outputs": [
    {
     "name": "stdout",
     "output_type": "stream",
     "text": [
      "mean of array 5.5\n",
      "standard deviation of array 2.8722813232690143\n"
     ]
    }
   ],
   "source": [
    "#np.std() - Standard Deviation: Standard Deviation is a statistical measure that quantifies the amount of variation or dispersion in a dataset.\n",
    "import numpy as np\n",
    "array=np.array([1,2,3,4,5,6,7,8,9,10])\n",
    "mean_array=np.mean(array)\n",
    "print(\"mean of array\",mean_array)\n",
    "std_array=np.std(array)\n",
    "print(\"standard deviation of array\", std_array)"
   ]
  },
  {
   "cell_type": "code",
   "execution_count": 51,
   "id": "53ea92f0-db01-459a-877d-a6ec0e9b7b06",
   "metadata": {},
   "outputs": [
    {
     "name": "stdout",
     "output_type": "stream",
     "text": [
      "mean of array 5.5\n",
      "standard deviation of array 2.8722813232690143\n",
      "variance of array 8.25\n"
     ]
    }
   ],
   "source": [
    "#np.var() - Variance is a statistical measure that quantifies how data points in a dataset are spread out or dispersed from the mean (average).\n",
    "array=np.array([1,2,3,4,5,6,7,8,9,10])\n",
    "mean_array=np.mean(array)\n",
    "print(\"mean of array\",mean_array)\n",
    "std_array=np.std(array)\n",
    "print(\"standard deviation of array\", std_array)\n",
    "var_array=np.var(array)\n",
    "print(\"variance of array\",var_array)"
   ]
  },
  {
   "cell_type": "code",
   "execution_count": 71,
   "id": "e41b3aea-8790-43a7-a32f-792df77b2d3e",
   "metadata": {},
   "outputs": [
    {
     "name": "stdout",
     "output_type": "stream",
     "text": [
      "25th Percentile): 60.0\n",
      "50th Percentile): 112.0\n",
      "75th Percentile): 130.0\n"
     ]
    }
   ],
   "source": [
    "'''numpy.percentile(a, q):->\n",
    "a: This is the input array or sequence for which you want to calculate the percentiles.\n",
    "q: This parameter specifies the percentile(s) to be calculated'''\n",
    "\n",
    "import numpy as np\n",
    "test_scores=np.array([10,20,30,40,50,60,70,80,90,100,112,120,130,140,130,120,130,140,150,160,170])\n",
    "q = np.percentile(test_scores, 25)\n",
    "print(\"25th Percentile):\", q)\n",
    "\n",
    "\n",
    "q = np.percentile(test_scores, 50)\n",
    "print(\"50th Percentile):\", q)\n",
    "\n",
    "q = np.percentile(test_scores, 75)\n",
    "print(\"75th Percentile):\", q)"
   ]
  },
  {
   "cell_type": "code",
   "execution_count": 73,
   "id": "094cc5cc-a764-420e-bd03-d8ae9f126424",
   "metadata": {},
   "outputs": [
    {
     "name": "stdout",
     "output_type": "stream",
     "text": [
      "original scores [20 40 60 67 45 89 56 78 23 79]\n",
      "loaded scores [20 40 60 67 45 89 56 78 23 79]\n"
     ]
    }
   ],
   "source": [
    "#np.load() is a function in the NumPy library used to load data from a binary file\n",
    "import numpy as np\n",
    "scores=np.array([20,40,60,67,45,89,56,78,23,79])\n",
    "np.save(\"student_scores.npy\",scores)\n",
    "loaded_scores=np.load('student_scores.npy')\n",
    "print(\"original scores\",scores)\n",
    "print(\"loaded scores\",loaded_scores)"
   ]
  },
  {
   "cell_type": "code",
   "execution_count": null,
   "id": "9077ee83-89cf-4767-9d76-a7b60fa0baa8",
   "metadata": {},
   "outputs": [],
   "source": [
    "\n",
    "\n",
    "\n"
   ]
  }
 ],
 "metadata": {
  "kernelspec": {
   "display_name": "Python 3 (ipykernel)",
   "language": "python",
   "name": "python3"
  },
  "language_info": {
   "codemirror_mode": {
    "name": "ipython",
    "version": 3
   },
   "file_extension": ".py",
   "mimetype": "text/x-python",
   "name": "python",
   "nbconvert_exporter": "python",
   "pygments_lexer": "ipython3",
   "version": "3.12.4"
  }
 },
 "nbformat": 4,
 "nbformat_minor": 5
}

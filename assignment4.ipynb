{
 "cells": [
  {
   "cell_type": "code",
   "execution_count": 3,
   "id": "fc714937-bbca-477d-a9f2-9397ed77f0db",
   "metadata": {},
   "outputs": [
    {
     "name": "stdout",
     "output_type": "stream",
     "text": [
      "numpy array is [1 2 3 4 5]\n"
     ]
    }
   ],
   "source": [
    "#ques1\n",
    "#convert the below list into numpy array than display the array\n",
    "import numpy as np\n",
    "\n",
    "my_list = [1, 2, 3, 4, 5]\n",
    "my_array = np.array(my_list)\n",
    "print(\"numpy array is\",my_array)\n"
   ]
  },
  {
   "cell_type": "code",
   "execution_count": 5,
   "id": "726e1882-d402-4140-87cc-f877ae4682b3",
   "metadata": {},
   "outputs": [
    {
     "name": "stdout",
     "output_type": "stream",
     "text": [
      "Array: [1 2 3 4 5]\n",
      "First index: 1\n",
      "Last index: 5\n",
      "Multiplied Array: [ 2  4  6  8 10]\n"
     ]
    }
   ],
   "source": [
    "#ques2\n",
    "'''convert the below list into a numpy array than display the array than display the first and last index and than \n",
    "multiply each element by 2 and display the result'''\n",
    "import numpy as np\n",
    "\n",
    "my_list = [1, 2, 3, 4, 5]\n",
    "\n",
    "# Convert list to numpy array\n",
    "my_array = np.array(my_list)\n",
    "\n",
    "# Display the array\n",
    "print(\"Array:\", my_array)\n",
    "\n",
    "# Display the first and last index\n",
    "print(\"First index:\", my_array[0])\n",
    "print(\"Last index:\", my_array[-1])\n",
    "\n",
    "# Multiply each element by 2\n",
    "multiplied_array = my_array * 2\n",
    "\n",
    "# Display the result\n",
    "print(\"Multiplied Array:\", multiplied_array)\n"
   ]
  },
  {
   "cell_type": "code",
   "execution_count": 7,
   "id": "20bbd03e-5577-4139-af8b-d25efc65b3e1",
   "metadata": {},
   "outputs": [
    {
     "name": "stdout",
     "output_type": "stream",
     "text": [
      "[0. 0. 0. 0. 0. 0. 0. 0. 0. 0. 1. 1. 1. 1. 1. 1. 1. 1. 1. 1. 5. 5. 5. 5.\n",
      " 5. 5. 5. 5. 5. 5.]\n"
     ]
    }
   ],
   "source": [
    "#ques3\n",
    "#write a numpy program to create an array of 10 zeroes,10 ones and 10 fives \n",
    "import numpy as np\n",
    "\n",
    "# Create an array of 10 zeros\n",
    "zeros = np.zeros(10)\n",
    "\n",
    "# Create an array of 10 ones\n",
    "ones = np.ones(10)\n",
    "\n",
    "# Create an array of 10 fives\n",
    "fives = np.full(10, 5)\n",
    "\n",
    "# Combine the arrays\n",
    "result = np.concatenate((zeros, ones, fives))\n",
    "\n",
    "print(result)\n"
   ]
  },
  {
   "cell_type": "code",
   "execution_count": null,
   "id": "37be0051-a6c3-4cbd-a75e-4980dedda423",
   "metadata": {},
   "outputs": [],
   "source": [
    "#ques3\n",
    "#write a numpy program to create 3*3 matrix with value ranging from 2 to 10 \n",
    "\n",
    "\n",
    "import numpy as np\n",
    "\n",
    "# Create a 3x3 matrix with values ranging from 2 to 10\n",
    "matrix = np.arange(2, 11).reshape(3, 3)\n",
    "\n",
    "print(matrix)\n"
   ]
  }
 ],
 "metadata": {
  "kernelspec": {
   "display_name": "Python 3 (ipykernel)",
   "language": "python",
   "name": "python3"
  },
  "language_info": {
   "codemirror_mode": {
    "name": "ipython",
    "version": 3
   },
   "file_extension": ".py",
   "mimetype": "text/x-python",
   "name": "python",
   "nbconvert_exporter": "python",
   "pygments_lexer": "ipython3",
   "version": "3.12.4"
  }
 },
 "nbformat": 4,
 "nbformat_minor": 5
}

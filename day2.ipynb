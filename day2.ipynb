{
 "cells": [
  {
   "cell_type": "code",
   "execution_count": 1,
   "id": "da03b179-62cb-4e61-8e0f-556ffb3c6128",
   "metadata": {},
   "outputs": [
    {
     "name": "stdout",
     "output_type": "stream",
     "text": [
      "total numer:  7\n"
     ]
    }
   ],
   "source": [
    "#CALCULATE THE TOTAL NUMBERS DIVISIBLE BY 7 AND 10 BETWEEN THE RANGE OF 10-500\n",
    "cou=0\n",
    "for x in range(10,500):\n",
    "    if(x%7==0 and x%10==0):\n",
    "        cou+=1\n",
    "print(\"total numer: \",cou)"
   ]
  },
  {
   "cell_type": "code",
   "execution_count": 3,
   "id": "acc73fc4-75aa-4b00-8c74-0acabf0710c3",
   "metadata": {},
   "outputs": [
    {
     "name": "stdout",
     "output_type": "stream",
     "text": [
      "total :  150\n"
     ]
    }
   ],
   "source": [
    "#CALCULATE THE TOTAL NUMBERS DIVISIBLE BY 2 AND 3 BETWEEN THE RANGE OF 100-1000(using for loop)\n",
    "count=0\n",
    "for i in range(100,1000):\n",
    "    if(i%2==0 and i%3==0):\n",
    "        count+=1\n",
    "print(\"total : \",count) "
   ]
  },
  {
   "cell_type": "code",
   "execution_count": 5,
   "id": "7b567044-0ced-4ecb-b894-6a3b67030d35",
   "metadata": {},
   "outputs": [
    {
     "name": "stdout",
     "output_type": "stream",
     "text": [
      "102 , 108 , 114 , 120 , 126 , 132 , 138 , 144 , 150 , 156 , 162 , 168 , 174 , 180 , 186 , 192 , 198 , 204 , 210 , 216 , 222 , 228 , 234 , 240 , 246 , 252 , 258 , 264 , 270 , 276 , 282 , 288 , 294 , 300 , 306 , 312 , 318 , 324 , 330 , 336 , 342 , 348 , 354 , 360 , 366 , 372 , 378 , 384 , 390 , 396 , 402 , 408 , 414 , 420 , 426 , 432 , 438 , 444 , 450 , 456 , 462 , 468 , 474 , 480 , 486 , 492 , 498 , 504 , 510 , 516 , 522 , 528 , 534 , 540 , 546 , 552 , 558 , 564 , 570 , 576 , 582 , 588 , 594 , 600 , 606 , 612 , 618 , 624 , 630 , 636 , 642 , 648 , 654 , 660 , 666 , 672 , 678 , 684 , 690 , 696 , 702 , 708 , 714 , 720 , 726 , 732 , 738 , 744 , 750 , 756 , 762 , 768 , 774 , 780 , 786 , 792 , 798 , 804 , 810 , 816 , 822 , 828 , 834 , 840 , 846 , 852 , 858 , 864 , 870 , 876 , 882 , 888 , 894 , 900 , 906 , 912 , 918 , 924 , 930 , 936 , 942 , 948 , 954 , 960 , 966 , 972 , 978 , 984 , 990 , 996 , "
     ]
    }
   ],
   "source": [
    "#print NUMBERS DIVISIBLE BY 2 AND 3 BETWEEN THE RANGE OF 100-1000(using while loop)\n",
    "i=100\n",
    "while(i<1000):\n",
    "    if(i%3==0 and i%2==0):\n",
    "        print(i, end=\" , \")\n",
    "    i+=1"
   ]
  },
  {
   "cell_type": "code",
   "execution_count": 2,
   "id": "26ac1b92-ed50-42e5-9ffe-cbb505914a8c",
   "metadata": {},
   "outputs": [
    {
     "name": "stdout",
     "output_type": "stream",
     "text": [
      "1\n",
      "4\n",
      "7\n"
     ]
    }
   ],
   "source": [
    "#USING FOR LOOP AND RANGE FUNCTION---------------------------------------------------------------------------------\n",
    ">>> for j in range(1,10,3):\n",
    "...     print(j)"
   ]
  },
  {
   "cell_type": "code",
   "execution_count": null,
   "id": "b4620e0c-a33b-423e-a525-efb1ce53e8f6",
   "metadata": {},
   "outputs": [],
   "source": []
  }
 ],
 "metadata": {
  "kernelspec": {
   "display_name": "Python 3 (ipykernel)",
   "language": "python",
   "name": "python3"
  },
  "language_info": {
   "codemirror_mode": {
    "name": "ipython",
    "version": 3
   },
   "file_extension": ".py",
   "mimetype": "text/x-python",
   "name": "python",
   "nbconvert_exporter": "python",
   "pygments_lexer": "ipython3",
   "version": "3.12.4"
  }
 },
 "nbformat": 4,
 "nbformat_minor": 5
}

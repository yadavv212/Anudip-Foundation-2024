{
 "cells": [
  {
   "cell_type": "code",
   "execution_count": 3,
   "id": "ef7cd697-70ea-49e0-97cd-c64400ec1c56",
   "metadata": {},
   "outputs": [
    {
     "name": "stdout",
     "output_type": "stream",
     "text": [
      "[[1 4]\n",
      " [2 5]\n",
      " [3 6]]\n"
     ]
    }
   ],
   "source": [
    "''' np.transpose():-\n",
    "np.transpose() is used to transpose or permute the dimensions of an array. It swaps\n",
    "rows and columns.'''\n",
    "import numpy as np\n",
    "arr = np.array([[1, 2, 3], [4, 5, 6]])\n",
    "# Transpose the array (swap rows and columns)\n",
    "transposed_arr = np.transpose(arr)\n",
    "print(transposed_arr)\n"
   ]
  },
  {
   "cell_type": "code",
   "execution_count": 5,
   "id": "3a35f43b-a545-40e5-bfec-aae79a7191b8",
   "metadata": {},
   "outputs": [
    {
     "name": "stdout",
     "output_type": "stream",
     "text": [
      "3.0\n"
     ]
    }
   ],
   "source": [
    "'''np.mean():\n",
    "np.mean() calculates the mean (average) value of the elements in an array along a\n",
    "specified axis.'''\n",
    "import numpy as np\n",
    "arr = np.array([1, 2, 3, 4, 5])\n",
    "# Calculate the mean of the array\n",
    "mean_value = np.mean(arr)\n",
    "print(mean_value)\n"
   ]
  },
  {
   "cell_type": "code",
   "execution_count": 7,
   "id": "98b5423b-617e-494c-86f9-4a0380e6dff7",
   "metadata": {},
   "outputs": [
    {
     "name": "stdout",
     "output_type": "stream",
     "text": [
      "Index of maximum value: 3\n",
      "Index of minimum value: 0\n"
     ]
    }
   ],
   "source": [
    "'''np.argmax() and np.argmin():\n",
    "These functions are used to find the indices of the maximum and minimum values in an array, respectively'''\n",
    "import numpy as np\n",
    "arr = np.array([1, 4, 2, 9, 7, 5])\n",
    "# Find the index of the maximum value\n",
    "max_index = np.argmax(arr)\n",
    "# Find the index of the minimum value\n",
    "min_index = np.argmin(arr)\n",
    "print(\"Index of maximum value:\", max_index)\n",
    "print(\"Index of minimum value:\", min_index)"
   ]
  },
  {
   "cell_type": "code",
   "execution_count": 9,
   "id": "8d198452-213d-42c3-aa88-1675e061add2",
   "metadata": {},
   "outputs": [
    {
     "name": "stdout",
     "output_type": "stream",
     "text": [
      "Index to insert 6: 3\n"
     ]
    }
   ],
   "source": [
    "'''np.searchsorted():\n",
    "The np.searchsorted() function is used to find the indices at which elements should be inserted to maintain the array's sorted order. It is often used\n",
    "for binary searching in sorted arrays.'''\n",
    "import numpy as np\n",
    "sorted_array = np.array([1, 3, 5, 7, 9])\n",
    "# Find the index where 6 should be inserted to maintain the sorted order\n",
    "index = np.searchsorted(sorted_array, 6)\n",
    "print(\"Index to insert 6:\", index)"
   ]
  },
  {
   "cell_type": "code",
   "execution_count": 11,
   "id": "93dc57a2-082d-478b-a915-2604128bfb73",
   "metadata": {},
   "outputs": [
    {
     "name": "stdout",
     "output_type": "stream",
     "text": [
      "Elements greater than 3: [4 5 6]\n"
     ]
    }
   ],
   "source": [
    "'''np.extract():\n",
    "The np.extract() function is used to extract elements from an array that satisfy a given condition.'''\n",
    "import numpy as np\n",
    "\n",
    "arr = np.array([1, 2, 3, 4, 5, 6])\n",
    "# Extract elements greater than 3\n",
    "extracted_elements = np.extract(arr > 3, arr)\n",
    "print(\"Elements greater than 3:\", extracted_elements)"
   ]
  },
  {
   "cell_type": "code",
   "execution_count": null,
   "id": "300e6465-c855-44c9-a7f0-4e91f5f674b3",
   "metadata": {},
   "outputs": [],
   "source": []
  }
 ],
 "metadata": {
  "kernelspec": {
   "display_name": "Python 3 (ipykernel)",
   "language": "python",
   "name": "python3"
  },
  "language_info": {
   "codemirror_mode": {
    "name": "ipython",
    "version": 3
   },
   "file_extension": ".py",
   "mimetype": "text/x-python",
   "name": "python",
   "nbconvert_exporter": "python",
   "pygments_lexer": "ipython3",
   "version": "3.12.4"
  }
 },
 "nbformat": 4,
 "nbformat_minor": 5
}

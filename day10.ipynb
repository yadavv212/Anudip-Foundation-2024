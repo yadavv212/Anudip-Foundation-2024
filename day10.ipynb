{
 "cells": [
  {
   "cell_type": "code",
   "execution_count": 85,
   "id": "3a39e351-70a8-4bcc-927b-e6019e6926bc",
   "metadata": {},
   "outputs": [
    {
     "name": "stdout",
     "output_type": "stream",
     "text": [
      "[10, 20, 30, 40, 50]\n"
     ]
    }
   ],
   "source": [
    "import pickle\n",
    "f=open(\"tanu.dt\",\"wb\")\n",
    "li=[10,20,30,40,50]\n",
    "pickle.dump(li,f)\n",
    "f=open(\"tanu.dt\",\"rb\")\n",
    "data=pickle.load(f)\n",
    "print(data)\n",
    "f.close()"
   ]
  },
  {
   "cell_type": "code",
   "execution_count": 87,
   "id": "8ac8465d-eef3-48c8-b77a-4e0872c1c475",
   "metadata": {},
   "outputs": [],
   "source": [
    "import csv\n",
    "f=open(\"panudip.csv\",'a')\n",
    "wo=csv.writer(f)\n",
    "data=[\"a\",\"b\",\"c\",\"d\"]\n",
    "wo.writerow(data)\n",
    "f.close()\n"
   ]
  },
  {
   "cell_type": "code",
   "execution_count": 111,
   "id": "d729f227-1f26-4308-909a-06dafab7b313",
   "metadata": {},
   "outputs": [],
   "source": [
    "import csv\n",
    "f=open(\"panudip.csv\",'a')\n",
    "wo=csv.writer(f)\n",
    "data=[\"a\",\"b\",\"c\",\"d\"],[16,14,12,10],[26,24,22,67],[77,88,99,100]\n",
    "wo.writerows(data)\n",
    "f.close()"
   ]
  },
  {
   "cell_type": "code",
   "execution_count": 113,
   "id": "f682e764-f4a7-4c83-946e-2cc23a4d40e3",
   "metadata": {},
   "outputs": [
    {
     "name": "stdout",
     "output_type": "stream",
     "text": [
      "['a', 'b', 'c', 'd']\n",
      "[]\n",
      "['16', '14', '12', '10']\n",
      "[]\n",
      "['26', '24', '22', '67']\n",
      "[]\n",
      "['77', '88', '99', '100']\n",
      "[]\n"
     ]
    }
   ],
   "source": [
    "import csv\n",
    "f=open(\"panudip.csv\",'r')\n",
    "re=csv.reader(f)\n",
    "data=list(re)\n",
    "for row in data:\n",
    "    print (row)\n",
    "f.close()"
   ]
  },
  {
   "cell_type": "code",
   "execution_count": null,
   "id": "83ca3e39-be04-4e24-8c96-e65d15ea766b",
   "metadata": {},
   "outputs": [],
   "source": []
  }
 ],
 "metadata": {
  "kernelspec": {
   "display_name": "Python 3 (ipykernel)",
   "language": "python",
   "name": "python3"
  },
  "language_info": {
   "codemirror_mode": {
    "name": "ipython",
    "version": 3
   },
   "file_extension": ".py",
   "mimetype": "text/x-python",
   "name": "python",
   "nbconvert_exporter": "python",
   "pygments_lexer": "ipython3",
   "version": "3.12.4"
  }
 },
 "nbformat": 4,
 "nbformat_minor": 5
}

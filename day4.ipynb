{
 "cells": [
  {
   "cell_type": "code",
   "execution_count": 2,
   "id": "e0592f73-aca5-49cd-b574-55d43679f74a",
   "metadata": {},
   "outputs": [
    {
     "name": "stdout",
     "output_type": "stream",
     "text": [
      "    stdid         sidname standard  age  hindi  english  math  cience  \\\n",
      "0  sid101    ashish kumar     10th   15     67       89    87      89   \n",
      "1  sid102  abhishek kumar     10th   14     85       45    48      90   \n",
      "2  sid103            aman     10th   15     23       56    78      78   \n",
      "3  sid104           rahul     10th   14     45       67    45      45   \n",
      "4  sid105            ruby     10th   13     89       67    89      93   \n",
      "5  sid106           suman     10th   13     90       46    67      67   \n",
      "6  sid107         saurabh     10th   15     45       23    34      45   \n",
      "7  sid108           sumit     10th   14     23       45    67      78   \n",
      "8  sid109         kamlesh     10th   15     45       56    78      99   \n",
      "9  sid110           rohan     10th   15     34       12    24      45   \n",
      "\n",
      "   computer  total  \n",
      "0        90    422  \n",
      "1        45    313  \n",
      "2        67    302  \n",
      "3        56    258  \n",
      "4        65    403  \n",
      "5        67    337  \n",
      "6        34    181  \n",
      "7        90    303  \n",
      "8        67    345  \n",
      "9        56    171  \n",
      "\n",
      "+---------+----------------+------------+-------+---------+-----------+--------+----------+------------+---------+\n",
      "| stdid   | sidname        | standard   |   age |   hindi |   english |   math |   cience |   computer |   total |\n",
      "+=========+================+============+=======+=========+===========+========+==========+============+=========+\n",
      "| sid101  | ashish kumar   | 10th       |    15 |      67 |        89 |     87 |       89 |         90 |     422 |\n",
      "+---------+----------------+------------+-------+---------+-----------+--------+----------+------------+---------+\n",
      "| sid102  | abhishek kumar | 10th       |    14 |      85 |        45 |     48 |       90 |         45 |     313 |\n",
      "+---------+----------------+------------+-------+---------+-----------+--------+----------+------------+---------+\n",
      "| sid103  | aman           | 10th       |    15 |      23 |        56 |     78 |       78 |         67 |     302 |\n",
      "+---------+----------------+------------+-------+---------+-----------+--------+----------+------------+---------+\n",
      "| sid104  | rahul          | 10th       |    14 |      45 |        67 |     45 |       45 |         56 |     258 |\n",
      "+---------+----------------+------------+-------+---------+-----------+--------+----------+------------+---------+\n",
      "| sid105  | ruby           | 10th       |    13 |      89 |        67 |     89 |       93 |         65 |     403 |\n",
      "+---------+----------------+------------+-------+---------+-----------+--------+----------+------------+---------+\n",
      "| sid106  | suman          | 10th       |    13 |      90 |        46 |     67 |       67 |         67 |     337 |\n",
      "+---------+----------------+------------+-------+---------+-----------+--------+----------+------------+---------+\n",
      "| sid107  | saurabh        | 10th       |    15 |      45 |        23 |     34 |       45 |         34 |     181 |\n",
      "+---------+----------------+------------+-------+---------+-----------+--------+----------+------------+---------+\n",
      "| sid108  | sumit          | 10th       |    14 |      23 |        45 |     67 |       78 |         90 |     303 |\n",
      "+---------+----------------+------------+-------+---------+-----------+--------+----------+------------+---------+\n",
      "| sid109  | kamlesh        | 10th       |    15 |      45 |        56 |     78 |       99 |         67 |     345 |\n",
      "+---------+----------------+------------+-------+---------+-----------+--------+----------+------------+---------+\n",
      "| sid110  | rohan          | 10th       |    15 |      34 |        12 |     24 |       45 |         56 |     171 |\n",
      "+---------+----------------+------------+-------+---------+-----------+--------+----------+------------+---------+\n"
     ]
    }
   ],
   "source": [
    "import pandas as pd\n",
    "from tabulate import tabulate\n",
    "\n",
    "students = [\n",
    "    [\"sid101\", \"ashish kumar\", \"10th\", 15, 67, 89, 87, 89, 90, 422],\n",
    "    [\"sid102\", \"abhishek kumar\", \"10th\", 14, 85, 45, 48, 90, 45, 313],\n",
    "    [\"sid103\", \"aman\", \"10th\", 15, 23, 56, 78, 78, 67, 302],\n",
    "    [\"sid104\", \"rahul\", \"10th\", 14, 45, 67, 45, 45, 56, 258],\n",
    "    [\"sid105\", \"ruby\", \"10th\", 13, 89, 67, 89, 93, 65, 403],\n",
    "    [\"sid106\", \"suman\", \"10th\", 13, 90, 46, 67, 67, 67, 337],\n",
    "    [\"sid107\", \"saurabh\", \"10th\", 15, 45, 23, 34, 45, 34, 181],\n",
    "    [\"sid108\", \"sumit\", \"10th\", 14, 23, 45, 67, 78, 90, 303],\n",
    "    [\"sid109\", \"kamlesh\", \"10th\", 15, 45, 56, 78, 99, 67, 345],\n",
    "    [\"sid110\", \"rohan\", \"10th\", 15, 34, 12, 24, 45, 56, 171],\n",
    "]\n",
    "\n",
    "col = [\n",
    "    \"stdid\",\n",
    "    \"sidname\",\n",
    "    \"standard\",\n",
    "    \"age\",\n",
    "    \"hindi\",\n",
    "    \"english\",\n",
    "    \"math\",\n",
    "    \"cience\",\n",
    "    \"computer\",\n",
    "    \"total\",\n",
    "]\n",
    "df = pd.DataFrame(data=students, columns=col)\n",
    "print(df)\n",
    "print()\n",
    "\n",
    "student_tabulate = tabulate(students, headers=col, tablefmt=\"grid\")\n",
    "print(student_tabulate)"
   ]
  },
  {
   "cell_type": "code",
   "execution_count": 4,
   "id": "c1484a41-21a9-4194-bc39-8001008dd6aa",
   "metadata": {},
   "outputs": [
    {
     "name": "stdout",
     "output_type": "stream",
     "text": [
      "ashish kumar\n",
      "aman\n",
      "rahul\n",
      "ruby\n",
      "kamlesh\n",
      "\n"
     ]
    }
   ],
   "source": [
    "# display the name of students whose marks in english is greather than 50\n",
    "for row in students:\n",
    "    if row[5] > 50:\n",
    "        print(row[1])\n",
    "print()"
   ]
  },
  {
   "cell_type": "code",
   "execution_count": 6,
   "id": "2a30715a-8b7e-4b59-93c4-79754de73e77",
   "metadata": {},
   "outputs": [
    {
     "name": "stdout",
     "output_type": "stream",
     "text": [
      "name age\n",
      "ruby 13\n",
      "ashish kumar 15\n",
      "aman 15\n",
      "suman 15\n",
      "\n"
     ]
    }
   ],
   "source": [
    "# display students name and age of top four scorer of maths\n",
    "sorts = sorted(students, key=lambda student: student[6], reverse=True)\n",
    "print(\"name\", \"age\")\n",
    "print(sorts[0][1], sorts[0][3])\n",
    "print(sorts[1][1], sorts[1][3])\n",
    "print(sorts[2][1], sorts[2][3])\n",
    "print(sorts[4][1], sorts[3][3])\n",
    "print()"
   ]
  },
  {
   "cell_type": "code",
   "execution_count": 8,
   "id": "16e0c6e1-c493-476f-8c60-a54a60bcbfff",
   "metadata": {},
   "outputs": [
    {
     "name": "stdout",
     "output_type": "stream",
     "text": [
      "id name age\n",
      "sid110 rohan 15\n",
      "sid107 saurabh 15\n",
      "sid102 abhishek kumar 14\n",
      "sid108 sumit 14\n"
     ]
    }
   ],
   "source": [
    "# display name id age of student who are bottom three scorer computer\n",
    "\n",
    "sorts1 = sorted(students, key=lambda student: student[5])\n",
    "print(\"id\", \"name\", \"age\")\n",
    "print(sorts1[0][0], sorts1[0][1], sorts1[0][3])\n",
    "print(sorts1[1][0], sorts1[1][1], sorts1[1][3])\n",
    "print(sorts1[2][0], sorts1[2][1], sorts1[2][3])\n",
    "print(sorts1[3][0], sorts1[3][1], sorts1[3][3])"
   ]
  },
  {
   "cell_type": "code",
   "execution_count": null,
   "id": "d32200b6-23dd-4224-ad5c-c4f415026bf6",
   "metadata": {},
   "outputs": [],
   "source": []
  }
 ],
 "metadata": {
  "kernelspec": {
   "display_name": "Python 3 (ipykernel)",
   "language": "python",
   "name": "python3"
  },
  "language_info": {
   "codemirror_mode": {
    "name": "ipython",
    "version": 3
   },
   "file_extension": ".py",
   "mimetype": "text/x-python",
   "name": "python",
   "nbconvert_exporter": "python",
   "pygments_lexer": "ipython3",
   "version": "3.12.4"
  }
 },
 "nbformat": 4,
 "nbformat_minor": 5
}

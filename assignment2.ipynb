{
 "cells": [
  {
   "cell_type": "code",
   "execution_count": 38,
   "id": "33b68607-f29b-4114-b0d6-5080c9ae46d6",
   "metadata": {},
   "outputs": [],
   "source": [
    "file=open(r\"C:\\\\Users\\ASUS\\OneDrive\\Desktop\\python\\anudip.txt\",'w')\n",
    "file.write(\"hello guys\")\n",
    "file.close()"
   ]
  },
  {
   "cell_type": "code",
   "execution_count": 48,
   "id": "7da28cc0-0a0c-426c-b859-1a961ec27ef9",
   "metadata": {},
   "outputs": [
    {
     "name": "stdout",
     "output_type": "stream",
     "text": [
      "The word 'INDIA' occurs 3 times in the file.\n"
     ]
    }
   ],
   "source": [
    "##ques1 \n",
    "'''Write a program to count the number of occurence of word \"INDIA\" in a text file india.txt'''\n",
    "# Open the file in write mode to create and write some sample content\n",
    "with open(r\"C:\\\\Users\\ASUS\\OneDrive\\Desktop\\python\\india.txt\", 'w') as file:\n",
    "    file.write(\"INDIA is my country. I love INDIA. INDIA is beautiful.\")\n",
    "\n",
    "# Open the file in read mode\n",
    "with open(r\"C:\\\\Users\\ASUS\\OneDrive\\Desktop\\python\\india.txt\", 'r') as file:\n",
    "    # Read the contents of the file\n",
    "    content = file.read()\n",
    "    \n",
    "# Convert the content to uppercase to ensure case-insensitivity\n",
    "content_upper = content.upper()\n",
    "\n",
    "# Count the occurrences of the word \"INDIA\"\n",
    "count_india = content_upper.count('INDIA')\n",
    "\n",
    "print(f\"The word 'INDIA' occurs {count_india} times in the file.\")\n",
    "\n"
   ]
  },
  {
   "cell_type": "code",
   "execution_count": 56,
   "id": "2f8ae4f0-a846-45f2-8c80-2ba444488e13",
   "metadata": {},
   "outputs": [
    {
     "name": "stdout",
     "output_type": "stream",
     "text": [
      "The number of vowels in the file is: 19\n",
      "The number of consonants in the file is: 35\n"
     ]
    }
   ],
   "source": [
    "##ques2\n",
    "'''wap to count the number of vowels and consonants in a file first write and then read \"myfile.txt\"'''\n",
    "\n",
    "# Define the sets of vowels and consonants\n",
    "vowels = set('AEIOUaeiou')\n",
    "consonants = set('BCDFGHJKLMNPQRSTVWXYZbcdfghjklmnpqrstvwxyz')\n",
    "\n",
    "# Content to write to the file\n",
    "content_to_write = \"This is a sample text to count the number of vowels and consonants.\"\n",
    "\n",
    "# Write content to the file\n",
    "with open(r\"C:\\Users\\ASUS\\OneDrive\\Desktop\\python\\myfile.txt\", 'w') as file:\n",
    "    file.write(content_to_write)\n",
    "\n",
    "# Initialize counters\n",
    "vowel_count = 0\n",
    "consonant_count = 0\n",
    "\n",
    "# Read content from the file\n",
    "with open(r\"C:\\Users\\ASUS\\OneDrive\\Desktop\\python\\myfile.txt\", 'r') as file:\n",
    "    content = file.read()\n",
    "\n",
    "# Loop through each character in the content\n",
    "for char in content:\n",
    "    if char in vowels:\n",
    "        vowel_count += 1\n",
    "    elif char in consonants:\n",
    "        consonant_count += 1\n",
    "\n",
    "# Print the counts\n",
    "print(f\"The number of vowels in the file is: {vowel_count}\")\n",
    "print(f\"The number of consonants in the file is: {consonant_count}\")\n",
    "\n"
   ]
  },
  {
   "cell_type": "code",
   "execution_count": 68,
   "id": "e1c9c920-2f7c-4b1d-b341-09f1cebcc36b",
   "metadata": {},
   "outputs": [
    {
     "name": "stdout",
     "output_type": "stream",
     "text": [
      "The number of lines starting with 'T' is: 3\n",
      "The lines starting with 'T' are:\n",
      "This is the first line.\n",
      "The third line starts with T.\n",
      "This one starts with T too.\n"
     ]
    }
   ],
   "source": [
    "##ques3\n",
    "'''wap to count and display the lines starting with \"T\" in a text file story.txt'''\n",
    "\n",
    "# Sample content to write to the file\n",
    "content_to_write = \"\"\"This is the first line.\n",
    "Another line that does not start with T.\n",
    "The third line starts with T.\n",
    "Here is another line.\n",
    "This one starts with T too.\"\"\"\n",
    "\n",
    "# Write content to the file\n",
    "with open(r\"C:\\Users\\ASUS\\OneDrive\\Desktop\\python\\story.txt\", 'w') as file:\n",
    "    file.write(content_to_write)\n",
    "\n",
    "# Initialize the counter\n",
    "t_line_count = 0\n",
    "t_lines = []\n",
    "\n",
    "# Open the file in read mode\n",
    "with open(r\"C:\\Users\\ASUS\\OneDrive\\Desktop\\python\\story.txt\", 'r') as file:\n",
    "    # Read all lines in the file\n",
    "    lines = file.readlines()\n",
    "\n",
    "# Loop through each line\n",
    "for line in lines:\n",
    "    if line.startswith(\"T\"):\n",
    "        t_line_count += 1\n",
    "        t_lines.append(line.strip())\n",
    "\n",
    "# Print the count and the lines\n",
    "print(f\"The number of lines starting with 'T' is: {t_line_count}\")\n",
    "print(\"The lines starting with 'T' are:\")\n",
    "for line in t_lines:\n",
    "    print(line)\n"
   ]
  },
  {
   "cell_type": "code",
   "execution_count": 78,
   "id": "722bf24a-e911-4be5-a604-cacb364b16ee",
   "metadata": {},
   "outputs": [],
   "source": [
    "#write a program to count and display \n",
    "\n",
    "import pickle\n",
    "f=open(r\"C:\\Users\\ASUS\\OneDrive\\Desktop\\python\\anudipppppp.dat\",\"wb\")\n",
    "li=[10,20,30,40]\n",
    "pickle.dump(li,f)\n",
    "f.close()\n",
    "\n",
    "#dump------data write hota hai\n"
   ]
  },
  {
   "cell_type": "code",
   "execution_count": 80,
   "id": "70cae585-57e4-481c-a487-d553cb42a256",
   "metadata": {},
   "outputs": [
    {
     "ename": "UnsupportedOperation",
     "evalue": "read",
     "output_type": "error",
     "traceback": [
      "\u001b[1;31m---------------------------------------------------------------------------\u001b[0m",
      "\u001b[1;31mUnsupportedOperation\u001b[0m                      Traceback (most recent call last)",
      "Cell \u001b[1;32mIn[80], line 6\u001b[0m\n\u001b[0;32m      4\u001b[0m \u001b[38;5;28;01mimport\u001b[39;00m \u001b[38;5;21;01mpickle\u001b[39;00m\n\u001b[0;32m      5\u001b[0m f\u001b[38;5;241m=\u001b[39m\u001b[38;5;28mopen\u001b[39m(\u001b[38;5;124mr\u001b[39m\u001b[38;5;124m\"\u001b[39m\u001b[38;5;124mC:\u001b[39m\u001b[38;5;124m\\\u001b[39m\u001b[38;5;124mUsers\u001b[39m\u001b[38;5;124m\\\u001b[39m\u001b[38;5;124mASUS\u001b[39m\u001b[38;5;124m\\\u001b[39m\u001b[38;5;124mOneDrive\u001b[39m\u001b[38;5;124m\\\u001b[39m\u001b[38;5;124mDesktop\u001b[39m\u001b[38;5;124m\\\u001b[39m\u001b[38;5;124mpython\u001b[39m\u001b[38;5;124m\\\u001b[39m\u001b[38;5;124manudipppppp.dat\u001b[39m\u001b[38;5;124m\"\u001b[39m,\u001b[38;5;124m\"\u001b[39m\u001b[38;5;124mwb\u001b[39m\u001b[38;5;124m\"\u001b[39m)\n\u001b[1;32m----> 6\u001b[0m data\u001b[38;5;241m=\u001b[39mpickle\u001b[38;5;241m.\u001b[39mload(f)\n\u001b[0;32m      7\u001b[0m \u001b[38;5;28mprint\u001b[39m(data)\n\u001b[0;32m      9\u001b[0m f\u001b[38;5;241m.\u001b[39mclose()\n",
      "\u001b[1;31mUnsupportedOperation\u001b[0m: read"
     ]
    }
   ],
   "source": [
    "##to load the data in pickle\n",
    "#load is used to read the data\n",
    "\n",
    "import pickle\n",
    "f=open(r\"C:\\Users\\ASUS\\OneDrive\\Desktop\\python\\anudipppppp.dat\",\"wb\")\n",
    "data=pickle.load(f)\n",
    "print(data)\n",
    "\n",
    "f.close()"
   ]
  },
  {
   "cell_type": "code",
   "execution_count": 82,
   "id": "bf8d8eb4-6a82-4098-96da-3b109423b534",
   "metadata": {},
   "outputs": [
    {
     "ename": "EOFError",
     "evalue": "Ran out of input",
     "output_type": "error",
     "traceback": [
      "\u001b[1;31m---------------------------------------------------------------------------\u001b[0m",
      "\u001b[1;31mEOFError\u001b[0m                                  Traceback (most recent call last)",
      "Cell \u001b[1;32mIn[82], line 6\u001b[0m\n\u001b[0;32m      4\u001b[0m \u001b[38;5;28;01mimport\u001b[39;00m \u001b[38;5;21;01mpickle\u001b[39;00m\n\u001b[0;32m      5\u001b[0m f\u001b[38;5;241m=\u001b[39m\u001b[38;5;28mopen\u001b[39m(\u001b[38;5;124mr\u001b[39m\u001b[38;5;124m\"\u001b[39m\u001b[38;5;124mC:\u001b[39m\u001b[38;5;124m\\\u001b[39m\u001b[38;5;124mUsers\u001b[39m\u001b[38;5;124m\\\u001b[39m\u001b[38;5;124mASUS\u001b[39m\u001b[38;5;124m\\\u001b[39m\u001b[38;5;124mOneDrive\u001b[39m\u001b[38;5;124m\\\u001b[39m\u001b[38;5;124mDesktop\u001b[39m\u001b[38;5;124m\\\u001b[39m\u001b[38;5;124mpython\u001b[39m\u001b[38;5;124m\\\u001b[39m\u001b[38;5;124manudipppppp.dat\u001b[39m\u001b[38;5;124m\"\u001b[39m,\u001b[38;5;124m\"\u001b[39m\u001b[38;5;124mrb\u001b[39m\u001b[38;5;124m\"\u001b[39m)\n\u001b[1;32m----> 6\u001b[0m data\u001b[38;5;241m=\u001b[39mpickle\u001b[38;5;241m.\u001b[39mload(f)\n\u001b[0;32m      7\u001b[0m \u001b[38;5;28mprint\u001b[39m(data)\n\u001b[0;32m      9\u001b[0m f\u001b[38;5;241m.\u001b[39mclose()\n",
      "\u001b[1;31mEOFError\u001b[0m: Ran out of input"
     ]
    }
   ],
   "source": [
    "##to load the data in pickle\n",
    "#load is used to read the data\n",
    "#in above program we didnt change the mode\n",
    "\n",
    "import pickle\n",
    "f=open(r\"C:\\Users\\ASUS\\OneDrive\\Desktop\\python\\anudipppppp.dat\",\"rb\")\n",
    "data=pickle.load(f)\n",
    "print(data)\n",
    "\n",
    "f.close()"
   ]
  },
  {
   "cell_type": "code",
   "execution_count": 8,
   "id": "a5008033-6c06-4d16-bd91-98907c54bb02",
   "metadata": {},
   "outputs": [
    {
     "name": "stdin",
     "output_type": "stream",
     "text": [
      "Enter student roll number:  12\n",
      "Enter student name:  tanu\n",
      "Enter student marks:  100\n",
      "Do you want to enter another student? (yes/no):  yes\n",
      "Enter student roll number:  richu\n",
      "Enter student name:  richu\n",
      "Enter student marks:  78\n",
      "Do you want to enter another student? (yes/no):  yes\n",
      "Enter student roll number:  16\n",
      "Enter student name:  himavari\n",
      "Enter student marks:  78\n",
      "Do you want to enter another student? (yes/no):  no\n"
     ]
    },
    {
     "name": "stdout",
     "output_type": "stream",
     "text": [
      "Student information has been written to 'stu.dat'.\n"
     ]
    },
    {
     "ename": "NameError",
     "evalue": "name 'students' is not defined",
     "output_type": "error",
     "traceback": [
      "\u001b[1;31m---------------------------------------------------------------------------\u001b[0m",
      "\u001b[1;31mNameError\u001b[0m                                 Traceback (most recent call last)",
      "Cell \u001b[1;32mIn[8], line 36\u001b[0m\n\u001b[0;32m     33\u001b[0m \u001b[38;5;28;01mif\u001b[39;00m \u001b[38;5;18m__name__\u001b[39m \u001b[38;5;241m==\u001b[39m \u001b[38;5;124m\"\u001b[39m\u001b[38;5;124m__main__\u001b[39m\u001b[38;5;124m\"\u001b[39m:\n\u001b[0;32m     34\u001b[0m     main()\n\u001b[1;32m---> 36\u001b[0m students\u001b[38;5;241m.\u001b[39mclose()\n",
      "\u001b[1;31mNameError\u001b[0m: name 'students' is not defined"
     ]
    }
   ],
   "source": [
    "#quesss10:----------------------------------\n",
    "#write a program to create a binary file \"stu.dat\" and enter student rollno,name and markstill the user wants\n",
    "\n",
    "import pickle\n",
    "\n",
    "def get_student_info():\n",
    "    \"\"\"Collect student information from the user.\"\"\"\n",
    "    roll_no = input(\"Enter student roll number: \")\n",
    "    name = input(\"Enter student name: \")\n",
    "    marks = input(\"Enter student marks: \")\n",
    "    return (roll_no, name, marks)\n",
    "\n",
    "def main():\n",
    "    # List to hold all student records\n",
    "    students = []\n",
    "\n",
    "    while True:\n",
    "        # Collect student information\n",
    "        student_info = get_student_info()\n",
    "        students.append(student_info)\n",
    "\n",
    "        # Ask the user if they want to continue\n",
    "        more = input(\"Do you want to enter another student? (yes/no): \").strip().lower()\n",
    "        if more != 'yes':\n",
    "            break\n",
    "\n",
    "    # Write student information to the binary file\n",
    "    with open(\"stu.dat\", \"wb\") as file:\n",
    "        pickle.dump(students, file)\n",
    "\n",
    "    print(\"Student information has been written to 'stu.dat'.\")\n",
    "\n",
    "if __name__ == \"__main__\":\n",
    "    main()\n",
    "\n",
    "students.close()\n",
    "\n",
    "\n"
   ]
  },
  {
   "cell_type": "code",
   "execution_count": 12,
   "id": "50da0ff3-b28e-4ddb-a7ad-74a987fd7dd9",
   "metadata": {},
   "outputs": [
    {
     "name": "stdin",
     "output_type": "stream",
     "text": [
      "Enter student roll number:  11\n",
      "Enter student name:  shivanshu yadav\n",
      "Enter student marks:  99\n",
      "Do you want to enter another student? (yes/no):  yes\n",
      "Enter student roll number:  tanu yadav\n",
      "Enter student name:  tanuuudooi\n",
      "Enter student marks:  99.5\n",
      "Do you want to enter another student? (yes/no):  yes\n",
      "Enter student roll number:  13\n",
      "Enter student name:  nonu malhotra\n",
      "Enter student marks:  66\n",
      "Do you want to enter another student? (yes/no):  yes\n",
      "Enter student roll number:  14\n",
      "Enter student name:  migo migo verma\n",
      "Enter student marks:  34\n",
      "Do you want to enter another student? (yes/no):  yes\n",
      "Enter student roll number:  15\n",
      "Enter student name:  shishimanuuu kapoor\n",
      "Enter student marks:  88\n",
      "Do you want to enter another student? (yes/no):  no\n"
     ]
    },
    {
     "name": "stdout",
     "output_type": "stream",
     "text": [
      "Student information has been written to 'stu.dat'.\n"
     ]
    }
   ],
   "source": [
    "import pickle\n",
    "\n",
    "def get_student_info():\n",
    "    \"\"\"Collect student information from the user.\"\"\"\n",
    "    roll_no = input(\"Enter student roll number: \")\n",
    "    name = input(\"Enter student name: \")\n",
    "    marks = input(\"Enter student marks: \")\n",
    "    return (roll_no, name, marks)\n",
    "\n",
    "def main():\n",
    "    # List to hold all student records\n",
    "    students = []\n",
    "\n",
    "    while True:\n",
    "        # Collect student information\n",
    "        student_info = get_student_info()\n",
    "        students.append(student_info)\n",
    "\n",
    "        # Ask the user if they want to continue\n",
    "        more = input(\"Do you want to enter another student? (yes/no): \").strip().lower()\n",
    "        if more != 'yes':\n",
    "            break\n",
    "\n",
    "    # Open the file in write-binary mode\n",
    "    file = open(r\"C:\\Users\\ASUS\\OneDrive\\Desktop\\python\\saudippppp.dat\", \"wb\")\n",
    "    \n",
    "    # Write student information to the binary file\n",
    "    pickle.dump(students, file)\n",
    "    \n",
    "    # Close the file\n",
    "    file.close()\n",
    "\n",
    "    print(\"Student information has been written to 'stu.dat'.\")\n",
    "\n",
    "if __name__ == \"__main__\":\n",
    "    main()\n"
   ]
  },
  {
   "cell_type": "code",
   "execution_count": 16,
   "id": "a7f05292-6efd-427d-8452-f7d1cf3f9be6",
   "metadata": {},
   "outputs": [
    {
     "ename": "FileNotFoundError",
     "evalue": "[Errno 2] No such file or directory: 'C:\\\\Users\\\\ASUS\\\\OneDrive\\\\Desktop\\\\python\\\\stu.dat'",
     "output_type": "error",
     "traceback": [
      "\u001b[1;31m---------------------------------------------------------------------------\u001b[0m",
      "\u001b[1;31mFileNotFoundError\u001b[0m                         Traceback (most recent call last)",
      "Cell \u001b[1;32mIn[16], line 19\u001b[0m\n\u001b[0;32m     16\u001b[0m             \u001b[38;5;28mprint\u001b[39m(\u001b[38;5;124mf\u001b[39m\u001b[38;5;124m\"\u001b[39m\u001b[38;5;124mRoll No: \u001b[39m\u001b[38;5;132;01m{\u001b[39;00mroll_no\u001b[38;5;132;01m}\u001b[39;00m\u001b[38;5;124m, Name: \u001b[39m\u001b[38;5;132;01m{\u001b[39;00mname\u001b[38;5;132;01m}\u001b[39;00m\u001b[38;5;124m, Marks: \u001b[39m\u001b[38;5;132;01m{\u001b[39;00mmarks\u001b[38;5;132;01m}\u001b[39;00m\u001b[38;5;124m\"\u001b[39m)\n\u001b[0;32m     18\u001b[0m \u001b[38;5;28;01mif\u001b[39;00m \u001b[38;5;18m__name__\u001b[39m \u001b[38;5;241m==\u001b[39m \u001b[38;5;124m\"\u001b[39m\u001b[38;5;124m__main__\u001b[39m\u001b[38;5;124m\"\u001b[39m:\n\u001b[1;32m---> 19\u001b[0m     main()\n",
      "Cell \u001b[1;32mIn[16], line 8\u001b[0m, in \u001b[0;36mmain\u001b[1;34m()\u001b[0m\n\u001b[0;32m      6\u001b[0m \u001b[38;5;28;01mdef\u001b[39;00m \u001b[38;5;21mmain\u001b[39m():\n\u001b[0;32m      7\u001b[0m     \u001b[38;5;66;03m# Open the binary file in read-binary mode\u001b[39;00m\n\u001b[1;32m----> 8\u001b[0m     \u001b[38;5;28;01mwith\u001b[39;00m \u001b[38;5;28mopen\u001b[39m(\u001b[38;5;124mr\u001b[39m\u001b[38;5;124m\"\u001b[39m\u001b[38;5;124mC:\u001b[39m\u001b[38;5;124m\\\u001b[39m\u001b[38;5;124mUsers\u001b[39m\u001b[38;5;124m\\\u001b[39m\u001b[38;5;124mASUS\u001b[39m\u001b[38;5;124m\\\u001b[39m\u001b[38;5;124mOneDrive\u001b[39m\u001b[38;5;124m\\\u001b[39m\u001b[38;5;124mDesktop\u001b[39m\u001b[38;5;124m\\\u001b[39m\u001b[38;5;124mpython\u001b[39m\u001b[38;5;124m\\\u001b[39m\u001b[38;5;124mstu.dat\u001b[39m\u001b[38;5;124m\"\u001b[39m, \u001b[38;5;124m\"\u001b[39m\u001b[38;5;124mrb\u001b[39m\u001b[38;5;124m\"\u001b[39m) \u001b[38;5;28;01mas\u001b[39;00m file:\n\u001b[0;32m      9\u001b[0m         \u001b[38;5;66;03m# Load the data from the file\u001b[39;00m\n\u001b[0;32m     10\u001b[0m         students \u001b[38;5;241m=\u001b[39m pickle\u001b[38;5;241m.\u001b[39mload(file)\n\u001b[0;32m     12\u001b[0m     \u001b[38;5;66;03m# Filter and display records with marks greater than 81\u001b[39;00m\n",
      "File \u001b[1;32m~\\anaconda3\\Lib\\site-packages\\IPython\\core\\interactiveshell.py:324\u001b[0m, in \u001b[0;36m_modified_open\u001b[1;34m(file, *args, **kwargs)\u001b[0m\n\u001b[0;32m    317\u001b[0m \u001b[38;5;28;01mif\u001b[39;00m file \u001b[38;5;129;01min\u001b[39;00m {\u001b[38;5;241m0\u001b[39m, \u001b[38;5;241m1\u001b[39m, \u001b[38;5;241m2\u001b[39m}:\n\u001b[0;32m    318\u001b[0m     \u001b[38;5;28;01mraise\u001b[39;00m \u001b[38;5;167;01mValueError\u001b[39;00m(\n\u001b[0;32m    319\u001b[0m         \u001b[38;5;124mf\u001b[39m\u001b[38;5;124m\"\u001b[39m\u001b[38;5;124mIPython won\u001b[39m\u001b[38;5;124m'\u001b[39m\u001b[38;5;124mt let you open fd=\u001b[39m\u001b[38;5;132;01m{\u001b[39;00mfile\u001b[38;5;132;01m}\u001b[39;00m\u001b[38;5;124m by default \u001b[39m\u001b[38;5;124m\"\u001b[39m\n\u001b[0;32m    320\u001b[0m         \u001b[38;5;124m\"\u001b[39m\u001b[38;5;124mas it is likely to crash IPython. If you know what you are doing, \u001b[39m\u001b[38;5;124m\"\u001b[39m\n\u001b[0;32m    321\u001b[0m         \u001b[38;5;124m\"\u001b[39m\u001b[38;5;124myou can use builtins\u001b[39m\u001b[38;5;124m'\u001b[39m\u001b[38;5;124m open.\u001b[39m\u001b[38;5;124m\"\u001b[39m\n\u001b[0;32m    322\u001b[0m     )\n\u001b[1;32m--> 324\u001b[0m \u001b[38;5;28;01mreturn\u001b[39;00m io_open(file, \u001b[38;5;241m*\u001b[39margs, \u001b[38;5;241m*\u001b[39m\u001b[38;5;241m*\u001b[39mkwargs)\n",
      "\u001b[1;31mFileNotFoundError\u001b[0m: [Errno 2] No such file or directory: 'C:\\\\Users\\\\ASUS\\\\OneDrive\\\\Desktop\\\\python\\\\stu.dat'"
     ]
    }
   ],
   "source": [
    "#quess:-----\n",
    "#write a program to read a binary file \"stu.dat\" and display record of students having marks greater than 81\n",
    "\n",
    "import pickle\n",
    "\n",
    "def main():\n",
    "    # Open the binary file in read-binary mode\n",
    "    with open(r\"C:\\Users\\ASUS\\OneDrive\\Desktop\\python\\stu.dat\", \"rb\") as file:\n",
    "        # Load the data from the file\n",
    "        students = pickle.load(file)\n",
    "\n",
    "    # Filter and display records with marks greater than 81\n",
    "    print(\"Students with marks greater than 81:\")\n",
    "    for roll_no, name, marks in students:\n",
    "        if int(marks) > 81:\n",
    "            print(f\"Roll No: {roll_no}, Name: {name}, Marks: {marks}\")\n",
    "\n",
    "if __name__ == \"__main__\":\n",
    "    main()\n"
   ]
  },
  {
   "cell_type": "code",
   "execution_count": 20,
   "id": "9a7fc9f3-183c-40a4-8627-f5b1a2047863",
   "metadata": {},
   "outputs": [
    {
     "name": "stdin",
     "output_type": "stream",
     "text": [
      "Enter student roll number:  11\n",
      "Enter student name:  richa\n",
      "Enter student marks:  88\n",
      "Do you want to enter another student? (yes/no):  yes\n",
      "Enter student roll number:  12\n",
      "Enter student name:  tanu\n",
      "Enter student marks:  89\n",
      "Do you want to enter another student? (yes/no):  yes\n",
      "Enter student roll number:  13\n",
      "Enter student name:  laxmi\n",
      "Enter student marks:  78\n",
      "Do you want to enter another student? (yes/no):  no\n"
     ]
    },
    {
     "name": "stdout",
     "output_type": "stream",
     "text": [
      "Student information has been written to 'stu.dat'.\n",
      "Students with marks greater than 81:\n",
      "Roll No: 11, Name: richa, Marks: 88\n",
      "Roll No: 12, Name: tanu, Marks: 89\n"
     ]
    }
   ],
   "source": [
    "import pickle\n",
    "import os\n",
    "\n",
    "def get_student_info():\n",
    "    \"\"\"Collect student information from the user.\"\"\"\n",
    "    roll_no = input(\"Enter student roll number: \")\n",
    "    name = input(\"Enter student name: \")\n",
    "    marks = input(\"Enter student marks: \")\n",
    "    return (roll_no, name, marks)\n",
    "\n",
    "def create_or_update_student_file():\n",
    "    \"\"\"Create or update the binary file with student records.\"\"\"\n",
    "    students = []\n",
    "\n",
    "    while True:\n",
    "        # Collect student information\n",
    "        student_info = get_student_info()\n",
    "        students.append(student_info)\n",
    "\n",
    "        # Ask the user if they want to continue\n",
    "        more = input(\"Do you want to enter another student? (yes/no): \").strip().lower()\n",
    "        if more != 'yes':\n",
    "            break\n",
    "\n",
    "    # Write student information to the binary file\n",
    "    with open(\"stu.dat\", \"wb\") as file:\n",
    "        pickle.dump(students, file)\n",
    "\n",
    "    print(\"Student information has been written to 'stu.dat'.\")\n",
    "\n",
    "def read_student_file():\n",
    "    \"\"\"Read from the binary file and display students with marks > 81.\"\"\"\n",
    "    if not os.path.exists(\"stu.dat\"):\n",
    "        print(\"Error: The file 'stu.dat' does not exist.\")\n",
    "        return\n",
    "\n",
    "    # Open the binary file in read-binary mode\n",
    "    with open(\"stu.dat\", \"rb\") as file:\n",
    "        students = pickle.load(file)\n",
    "\n",
    "    # Filter and display records with marks greater than 81\n",
    "    print(\"Students with marks greater than 81:\")\n",
    "    for roll_no, name, marks in students:\n",
    "        if int(marks) > 81:\n",
    "            print(f\"Roll No: {roll_no}, Name: {name}, Marks: {marks}\")\n",
    "\n",
    "def main():\n",
    "    # Create or update the student file\n",
    "    create_or_update_student_file()\n",
    "\n",
    "    # Read from the student file and display relevant records\n",
    "    read_student_file()\n",
    "\n",
    "if __name__ == \"__main__\":\n",
    "    main()\n"
   ]
  },
  {
   "cell_type": "code",
   "execution_count": null,
   "id": "72e8a456-afdf-4318-8c4c-c4eabeb34cde",
   "metadata": {},
   "outputs": [],
   "source": []
  }
 ],
 "metadata": {
  "kernelspec": {
   "display_name": "Python 3 (ipykernel)",
   "language": "python",
   "name": "python3"
  },
  "language_info": {
   "codemirror_mode": {
    "name": "ipython",
    "version": 3
   },
   "file_extension": ".py",
   "mimetype": "text/x-python",
   "name": "python",
   "nbconvert_exporter": "python",
   "pygments_lexer": "ipython3",
   "version": "3.12.4"
  }
 },
 "nbformat": 4,
 "nbformat_minor": 5
}

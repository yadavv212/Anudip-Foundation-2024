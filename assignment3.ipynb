{
 "cells": [
  {
   "cell_type": "code",
   "execution_count": 3,
   "id": "b7c21580-08c3-4e19-b0e2-6da627189fcf",
   "metadata": {},
   "outputs": [
    {
     "name": "stdin",
     "output_type": "stream",
     "text": [
      "Enter the numerator:  100\n",
      "Enter the denominator:  0\n"
     ]
    },
    {
     "name": "stdout",
     "output_type": "stream",
     "text": [
      "Error: Cannot divide by zero.\n"
     ]
    }
   ],
   "source": [
    "#ques1:----------------------------\n",
    "#write a python program to handle a ZeroDivisionError exceptiob when dividing a number by zero\n",
    "\n",
    "def safe_divide(numerator, denominator):\n",
    "    try:\n",
    "        result = numerator / denominator\n",
    "        return result\n",
    "    except ZeroDivisionError:\n",
    "        print(\"Error: Cannot divide by zero.\")\n",
    "        return None\n",
    "\n",
    "# Taking input from the user\n",
    "try:\n",
    "    numerator = float(input(\"Enter the numerator: \"))\n",
    "    denominator = float(input(\"Enter the denominator: \"))\n",
    "    \n",
    "    result = safe_divide(numerator, denominator)\n",
    "    if result is not None:\n",
    "        print(f\"The result is: {result}\")\n",
    "except ValueError:\n",
    "    print(\"Error: Please enter valid numbers.\")\n"
   ]
  },
  {
   "cell_type": "code",
   "execution_count": 7,
   "id": "c986fa53-6566-4010-ae94-bc170d93d088",
   "metadata": {},
   "outputs": [
    {
     "name": "stdin",
     "output_type": "stream",
     "text": [
      "Please enter an integer:  hello\n"
     ]
    },
    {
     "name": "stdout",
     "output_type": "stream",
     "text": [
      "Invalid input: 'hello' is not a valid integer.\n"
     ]
    }
   ],
   "source": [
    "#ques2:------------------------------------------------------\n",
    "#write a python program that prompts the user to input an integer and raises a ValueError exception if input is not valid integer\n",
    "def get_integer_input(prompt):\n",
    "    user_input = input(prompt)\n",
    "    try:\n",
    "        return int(user_input)\n",
    "    except ValueError:\n",
    "        raise ValueError(f\"Invalid input: '{user_input}' is not a valid integer.\")\n",
    "\n",
    "# Example usage:\n",
    "try:\n",
    "    number = get_integer_input(\"Please enter an integer: \")\n",
    "    print(f\"You entered the integer: {number}\")\n",
    "except ValueError as e:\n",
    "    print(e)\n",
    "\n",
    "\n"
   ]
  },
  {
   "cell_type": "code",
   "execution_count": 9,
   "id": "f472b4c0-316b-4a41-81c6-05bbb16abe60",
   "metadata": {},
   "outputs": [
    {
     "name": "stdin",
     "output_type": "stream",
     "text": [
      "Enter the path to the file:  anudip.txt\n"
     ]
    },
    {
     "name": "stdout",
     "output_type": "stream",
     "text": [
      "Error: The file 'anudip.txt' was not found.\n"
     ]
    }
   ],
   "source": [
    "#ques3:----------------------------------------------------------\n",
    "#write a python program that opena file and handles a filenotfound error Exception if file does not exsist\n",
    "\n",
    "def read_file(file_path):\n",
    "    try:\n",
    "        with open(file_path, 'r') as file:\n",
    "            content = file.read()\n",
    "            return content\n",
    "    except FileNotFoundError:\n",
    "        print(f\"Error: The file '{file_path}' was not found.\")\n",
    "        return None\n",
    "\n",
    "# Example usage:\n",
    "file_path = input(\"Enter the path to the file: \")\n",
    "\n",
    "content = read_file(file_path)\n",
    "if content is not None:\n",
    "    print(\"File content:\")\n",
    "    print(content)\n",
    "\n"
   ]
  },
  {
   "cell_type": "code",
   "execution_count": 11,
   "id": "f5438dc9-a4f4-4f4d-b4a0-4bea12ad997d",
   "metadata": {},
   "outputs": [
    {
     "name": "stdin",
     "output_type": "stream",
     "text": [
      "Please enter the first number:  12\n",
      "Please enter the second number:  78\n"
     ]
    },
    {
     "name": "stdout",
     "output_type": "stream",
     "text": [
      "You entered the numbers: 12.0 and 78.0\n"
     ]
    }
   ],
   "source": [
    "#ques4:------------------------------------------------------------------------------\n",
    "#write a python program that prompts the user to input two numbers and raises a TypeError exception if the inputs are not numerical\n",
    "\n",
    "def get_numerical_input(prompt):\n",
    "    user_input = input(prompt)\n",
    "    try:\n",
    "        return float(user_input)\n",
    "    except ValueError:\n",
    "        raise TypeError(f\"Invalid input: '{user_input}' is not a valid number.\")\n",
    "\n",
    "# Example usage:\n",
    "try:\n",
    "    number1 = get_numerical_input(\"Please enter the first number: \")\n",
    "    number2 = get_numerical_input(\"Please enter the second number: \")\n",
    "    print(f\"You entered the numbers: {number1} and {number2}\")\n",
    "except TypeError as e:\n",
    "    print(e)\n"
   ]
  },
  {
   "cell_type": "code",
   "execution_count": null,
   "id": "73d5004b-4a72-46ef-8e11-027447b2aa57",
   "metadata": {},
   "outputs": [],
   "source": []
  }
 ],
 "metadata": {
  "kernelspec": {
   "display_name": "Python 3 (ipykernel)",
   "language": "python",
   "name": "python3"
  },
  "language_info": {
   "codemirror_mode": {
    "name": "ipython",
    "version": 3
   },
   "file_extension": ".py",
   "mimetype": "text/x-python",
   "name": "python",
   "nbconvert_exporter": "python",
   "pygments_lexer": "ipython3",
   "version": "3.12.4"
  }
 },
 "nbformat": 4,
 "nbformat_minor": 5
}

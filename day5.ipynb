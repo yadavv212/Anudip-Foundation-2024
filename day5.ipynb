{
 "cells": [
  {
   "cell_type": "code",
   "execution_count": 2,
   "id": "b865bbd3-49dd-4b2d-9413-b18de471bad8",
   "metadata": {},
   "outputs": [
    {
     "name": "stdout",
     "output_type": "stream",
     "text": [
      "{'stdid': 'std101', 'stdname': 'ashish kumar', 'standard': '10th', 'age': 15}\n"
     ]
    }
   ],
   "source": [
    "#dictionary\n",
    "stu={'stdid':'std101','stdname':'ashish kumar','standard': '10th', 'age':15}\n",
    "print(stu)"
   ]
  },
  {
   "cell_type": "code",
   "execution_count": 4,
   "id": "0dfe49e8-24b0-4178-8b8e-9e423d9b31be",
   "metadata": {},
   "outputs": [
    {
     "name": "stdout",
     "output_type": "stream",
     "text": [
      "{'stdid': 'std102', 'stdname': 'ashish kumar', 'standard': '10th', 'age': 15}\n"
     ]
    }
   ],
   "source": [
    "# insert elements in dictionary \n",
    "\n",
    "stu['stdid']='std102'\n",
    "print(stu)"
   ]
  },
  {
   "cell_type": "code",
   "execution_count": 6,
   "id": "977c13a3-b9a9-4326-9e71-a3cf946893ed",
   "metadata": {},
   "outputs": [],
   "source": [
    "# insert an elememnts with key standard \n",
    "\n",
    "stu ['standard']= '12th'\n"
   ]
  },
  {
   "cell_type": "code",
   "execution_count": 8,
   "id": "9b26dfa1-f793-4b79-8eac-df593017186d",
   "metadata": {},
   "outputs": [
    {
     "name": "stdout",
     "output_type": "stream",
     "text": [
      "{'stdid': 'std102', 'stdname': 'ashish kumar', 'standard': '12th', 'age': 15, 'hindi': 78}\n"
     ]
    }
   ],
   "source": [
    "# insert elements withkey hindi\n",
    "\n",
    "stu['hindi']=78\n",
    "print(stu)"
   ]
  },
  {
   "cell_type": "code",
   "execution_count": 10,
   "id": "fb2ab52f-051f-487e-9f6f-6ca4f7730b60",
   "metadata": {},
   "outputs": [
    {
     "name": "stdout",
     "output_type": "stream",
     "text": [
      "stdid : std102\n",
      "stdname : ashish kumar\n",
      "standard : 12th\n",
      "age : 15\n",
      "hindi : 78\n",
      "marks of hindi: 78\n"
     ]
    }
   ],
   "source": [
    "# retrieve value of dic \n",
    "\n",
    "for key  in stu:\n",
    "    print(key ,\":\",stu[key])\n",
    "   \n",
    "    \n",
    "print(\"marks of hindi:\",stu['hindi'])"
   ]
  },
  {
   "cell_type": "code",
   "execution_count": 12,
   "id": "77aa8eeb-c29f-4db9-a3dc-9e7d1436ba71",
   "metadata": {},
   "outputs": [
    {
     "name": "stdout",
     "output_type": "stream",
     "text": [
      "{'stdid': 'std101', 'stdname': 'ashish kumar', 'standard': '10th', 'age': 15, 'hindi': 67, 'english': 89}\n"
     ]
    }
   ],
   "source": [
    "studentdata ={ \"stdid\":'std101', \"stdname\": 'ashish kumar', 'standard': '10th', 'age': 15, 'hindi':67, 'english':89}\n",
    "print(studentdata)"
   ]
  },
  {
   "cell_type": "code",
   "execution_count": 14,
   "id": "f30e2159-a09b-48a6-94f5-8d35ed4c2f1a",
   "metadata": {},
   "outputs": [
    {
     "data": {
      "text/plain": [
       "67"
      ]
     },
     "execution_count": 14,
     "metadata": {},
     "output_type": "execute_result"
    }
   ],
   "source": [
    "#delete element having key as hindi \n",
    "studentdata.pop('hindi')"
   ]
  },
  {
   "cell_type": "code",
   "execution_count": 16,
   "id": "66688510-a84a-4e7f-918c-029662db7e91",
   "metadata": {},
   "outputs": [
    {
     "data": {
      "text/plain": [
       "15"
      ]
     },
     "execution_count": 16,
     "metadata": {},
     "output_type": "execute_result"
    }
   ],
   "source": [
    "studentdata.pop('age','english')"
   ]
  },
  {
   "cell_type": "code",
   "execution_count": 18,
   "id": "75799f93-987b-4805-bdca-bcadeb832e4c",
   "metadata": {},
   "outputs": [
    {
     "name": "stdout",
     "output_type": "stream",
     "text": [
      "{'stdid': 'std101', 'stdname': 'ashish kumar', 'standard': '10th', 'english': 89}\n"
     ]
    }
   ],
   "source": [
    "print(studentdata)\n"
   ]
  },
  {
   "cell_type": "code",
   "execution_count": 20,
   "id": "cc666635-91a0-43e7-8e19-95a30fe6c0e9",
   "metadata": {},
   "outputs": [
    {
     "name": "stdout",
     "output_type": "stream",
     "text": [
      "{'stdid': 'std101', 'stdname': 'ashish kumar', 'standard': '10th'}\n"
     ]
    }
   ],
   "source": [
    "studentdata.popitem()\n",
    "print(studentdata)"
   ]
  },
  {
   "cell_type": "code",
   "execution_count": 22,
   "id": "708800a4-4c15-4bf4-ad1d-5c60acc4dfd2",
   "metadata": {},
   "outputs": [
    {
     "name": "stdout",
     "output_type": "stream",
     "text": [
      "dict_keys(['stdid', 'stdname', 'standard'])\n"
     ]
    }
   ],
   "source": [
    "# keys() find all the keys of dic \n",
    "elements=studentdata.keys()\n",
    "print(elements)"
   ]
  },
  {
   "cell_type": "code",
   "execution_count": 24,
   "id": "fe86efa7-d605-424f-a901-5d3994f75cfd",
   "metadata": {},
   "outputs": [
    {
     "name": "stdout",
     "output_type": "stream",
     "text": [
      "dict_values(['std101', 'ashish kumar', '10th'])\n"
     ]
    }
   ],
   "source": [
    "# find out all the elements\n",
    "elements=studentdata.values()\n",
    "print(elements)"
   ]
  },
  {
   "cell_type": "code",
   "execution_count": 26,
   "id": "eb3e8dbb-7634-4050-b090-25fb9fbeb500",
   "metadata": {},
   "outputs": [
    {
     "name": "stdout",
     "output_type": "stream",
     "text": [
      "dict_items([('stdid', 'std101'), ('stdname', 'ashish kumar'), ('standard', '10th')])\n"
     ]
    }
   ],
   "source": [
    "# find out all the elements\n",
    "elements=studentdata.items()\n",
    "print(elements)"
   ]
  },
  {
   "cell_type": "code",
   "execution_count": 28,
   "id": "eb71dbee-f5ad-4e9c-9fc8-dfe92feedb22",
   "metadata": {},
   "outputs": [
    {
     "name": "stdout",
     "output_type": "stream",
     "text": [
      "std101\n",
      "ashish kumar\n",
      "10th\n"
     ]
    }
   ],
   "source": [
    "# to find the values of all the elements\n",
    "for data in studentdata.values():\n",
    "    print(data)"
   ]
  },
  {
   "cell_type": "code",
   "execution_count": 30,
   "id": "f86c1de1-fd5f-4fa4-8f0e-b19433b99c45",
   "metadata": {},
   "outputs": [
    {
     "name": "stdout",
     "output_type": "stream",
     "text": [
      "None\n"
     ]
    }
   ],
   "source": [
    "x=studentdata.get('maths')\n",
    "print(x)"
   ]
  },
  {
   "cell_type": "code",
   "execution_count": 32,
   "id": "f50d3732-14a0-45eb-9c8d-ff84818bc709",
   "metadata": {},
   "outputs": [
    {
     "name": "stdout",
     "output_type": "stream",
     "text": [
      "kill\n"
     ]
    }
   ],
   "source": [
    "x=studentdata.get('maths',\"kill\")\n",
    "print(x)\n"
   ]
  },
  {
   "cell_type": "code",
   "execution_count": 34,
   "id": "455c04c6-6668-4f80-9b18-1c311de00633",
   "metadata": {},
   "outputs": [
    {
     "name": "stdout",
     "output_type": "stream",
     "text": [
      "first= {'name': 'amit', 'age': 15, 'standard': '10th'}\n",
      "first= {'hindi': 67, 'age': 16, 'standard': '12th', 'english': 67}\n"
     ]
    }
   ],
   "source": [
    "# first dic object \n",
    "dicobj1={'name': 'amit', 'age': 15, 'standard': '10th'}\n",
    "print(\"first=\",dicobj1)\n",
    "dicobj2={'hindi': 67, 'age':16, 'standard': '12th','english':67}\n",
    "print(\"first=\",dicobj2)"
   ]
  },
  {
   "cell_type": "code",
   "execution_count": 36,
   "id": "7a9cf70c-f971-4200-aeea-b89c22bffdef",
   "metadata": {},
   "outputs": [
    {
     "name": "stdout",
     "output_type": "stream",
     "text": [
      "{'name': 'amit', 'age': 16, 'standard': '12th', 'hindi': 67, 'english': 67}\n"
     ]
    }
   ],
   "source": [
    "# inseting all the elements of second dic into first \n",
    "dicobj1.update(dicobj2)\n",
    "print(dicobj1)"
   ]
  },
  {
   "cell_type": "code",
   "execution_count": 38,
   "id": "1e2a430e-f929-4923-9334-a60db3550b30",
   "metadata": {},
   "outputs": [
    {
     "name": "stdout",
     "output_type": "stream",
     "text": [
      "{'name': dict_values([67, 16, '12th', 67]), 'age': dict_values([67, 16, '12th', 67]), 'standard': dict_values([67, 16, '12th', 67]), 'hindi': dict_values([67, 16, '12th', 67]), 'english': dict_values([67, 16, '12th', 67])}\n"
     ]
    }
   ],
   "source": [
    "x=dicobj1.fromkeys(dicobj1.keys(),dicobj2.values())\n",
    "print(x)"
   ]
  },
  {
   "cell_type": "code",
   "execution_count": 40,
   "id": "f723293f-0690-45eb-8150-f0e223d997de",
   "metadata": {},
   "outputs": [
    {
     "name": "stdout",
     "output_type": "stream",
     "text": [
      "{'name': 15, 'age': 15, 'standard': 15, 'hindi': 15, 'english': 15}\n"
     ]
    }
   ],
   "source": [
    "x=dicobj1.fromkeys(dicobj1.keys(),15)\n",
    "print(x)"
   ]
  },
  {
   "cell_type": "code",
   "execution_count": 42,
   "id": "11512ff4-04b6-4afb-8fe1-6b73f1deb859",
   "metadata": {},
   "outputs": [
    {
     "name": "stdout",
     "output_type": "stream",
     "text": [
      "5\n"
     ]
    }
   ],
   "source": [
    "x=len(dicobj1)\n",
    "print(x)"
   ]
  },
  {
   "cell_type": "code",
   "execution_count": null,
   "id": "7a78527e-eaa5-4b73-81b0-af45196a9f5b",
   "metadata": {},
   "outputs": [],
   "source": []
  }
 ],
 "metadata": {
  "kernelspec": {
   "display_name": "Python 3 (ipykernel)",
   "language": "python",
   "name": "python3"
  },
  "language_info": {
   "codemirror_mode": {
    "name": "ipython",
    "version": 3
   },
   "file_extension": ".py",
   "mimetype": "text/x-python",
   "name": "python",
   "nbconvert_exporter": "python",
   "pygments_lexer": "ipython3",
   "version": "3.12.4"
  }
 },
 "nbformat": 4,
 "nbformat_minor": 5
}

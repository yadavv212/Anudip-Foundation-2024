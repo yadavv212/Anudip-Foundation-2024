{
 "cells": [
  {
   "cell_type": "code",
   "execution_count": 3,
   "id": "edd64349-f0cd-45e8-bba9-5c56784bd278",
   "metadata": {},
   "outputs": [
    {
     "name": "stdout",
     "output_type": "stream",
     "text": [
      "study 3 hour\n"
     ]
    }
   ],
   "source": [
    "##oops basic concept of class and objects\n",
    "class student:\n",
    "    name=\"\"                         ##attribute\n",
    "    age=0                           ##attribute\n",
    "    def study(self):             \n",
    "        print(\"study 3 hour\")\n",
    "obj=student()\n",
    "obj.study()"
   ]
  },
  {
   "cell_type": "code",
   "execution_count": 5,
   "id": "fcbf10da-8e84-4074-ba69-49cdfb8de615",
   "metadata": {},
   "outputs": [
    {
     "ename": "NameError",
     "evalue": "name 'name' is not defined",
     "output_type": "error",
     "traceback": [
      "\u001b[1;31m---------------------------------------------------------------------------\u001b[0m",
      "\u001b[1;31mNameError\u001b[0m                                 Traceback (most recent call last)",
      "Cell \u001b[1;32mIn[5], line 8\u001b[0m\n\u001b[0;32m      5\u001b[0m         \u001b[38;5;28mprint\u001b[39m(\u001b[38;5;124m\"\u001b[39m\u001b[38;5;124mstudy 3 hour\u001b[39m\u001b[38;5;124m\"\u001b[39m,name)\n\u001b[0;32m      7\u001b[0m obj\u001b[38;5;241m=\u001b[39mstudent()               \u001b[38;5;66;03m#object\u001b[39;00m\n\u001b[1;32m----> 8\u001b[0m obj\u001b[38;5;241m.\u001b[39mstudy()\n",
      "Cell \u001b[1;32mIn[5], line 5\u001b[0m, in \u001b[0;36mstudent.study\u001b[1;34m(self)\u001b[0m\n\u001b[0;32m      4\u001b[0m \u001b[38;5;28;01mdef\u001b[39;00m \u001b[38;5;21mstudy\u001b[39m(\u001b[38;5;28mself\u001b[39m):             \n\u001b[1;32m----> 5\u001b[0m     \u001b[38;5;28mprint\u001b[39m(\u001b[38;5;124m\"\u001b[39m\u001b[38;5;124mstudy 3 hour\u001b[39m\u001b[38;5;124m\"\u001b[39m,name)\n",
      "\u001b[1;31mNameError\u001b[0m: name 'name' is not defined"
     ]
    }
   ],
   "source": [
    "class student:              #class\n",
    "    name=\"tanu\"                         \n",
    "    age=0                          \n",
    "    def study(self):             \n",
    "        print(\"study 3 hour\",name)\n",
    "        \n",
    "obj=student()               #object\n",
    "obj.study()                 #object"
   ]
  },
  {
   "cell_type": "code",
   "execution_count": 7,
   "id": "781190d4-4f90-4b5d-a95f-e0af60a43483",
   "metadata": {},
   "outputs": [
    {
     "name": "stdout",
     "output_type": "stream",
     "text": [
      "study 3 hour tanu\n"
     ]
    }
   ],
   "source": [
    "class student:\n",
    "    name=\"tanu\"                         \n",
    "    age=0                          \n",
    "    def study(self):             #self used to provide member function \n",
    "        print(\"study 3 hour\",self.name)\n",
    "        \n",
    "obj=student()\n",
    "obj.study()"
   ]
  },
  {
   "cell_type": "code",
   "execution_count": 9,
   "id": "373b20f2-56ad-400d-bc33-8da9a0d7c10b",
   "metadata": {},
   "outputs": [
    {
     "name": "stdout",
     "output_type": "stream",
     "text": [
      "study 3 hour tanu\n"
     ]
    },
    {
     "ename": "NameError",
     "evalue": "name 'sleep' is not defined",
     "output_type": "error",
     "traceback": [
      "\u001b[1;31m---------------------------------------------------------------------------\u001b[0m",
      "\u001b[1;31mNameError\u001b[0m                                 Traceback (most recent call last)",
      "Cell \u001b[1;32mIn[9], line 12\u001b[0m\n\u001b[0;32m      8\u001b[0m         \u001b[38;5;28mprint\u001b[39m(\u001b[38;5;124m\"\u001b[39m\u001b[38;5;124msleep 1 hour\u001b[39m\u001b[38;5;124m\"\u001b[39m)\n\u001b[0;32m     11\u001b[0m obj\u001b[38;5;241m=\u001b[39mstudent()\n\u001b[1;32m---> 12\u001b[0m obj\u001b[38;5;241m.\u001b[39mstudy()\n",
      "Cell \u001b[1;32mIn[9], line 6\u001b[0m, in \u001b[0;36mstudent.study\u001b[1;34m(self)\u001b[0m\n\u001b[0;32m      4\u001b[0m \u001b[38;5;28;01mdef\u001b[39;00m \u001b[38;5;21mstudy\u001b[39m(\u001b[38;5;28mself\u001b[39m):            \n\u001b[0;32m      5\u001b[0m     \u001b[38;5;28mprint\u001b[39m(\u001b[38;5;124m\"\u001b[39m\u001b[38;5;124mstudy 3 hour\u001b[39m\u001b[38;5;124m\"\u001b[39m,\u001b[38;5;28mself\u001b[39m\u001b[38;5;241m.\u001b[39mname)\n\u001b[1;32m----> 6\u001b[0m     sleep()\n",
      "\u001b[1;31mNameError\u001b[0m: name 'sleep' is not defined"
     ]
    }
   ],
   "source": [
    "class student:\n",
    "    name=\"tanu\"                         \n",
    "    age=0                          \n",
    "    def study(self):            \n",
    "        print(\"study 3 hour\",self.name)\n",
    "        sleep()            \n",
    "    def sleep(self):\n",
    "        print(\"sleep 1 hour\")\n",
    "\n",
    "\n",
    "obj=student()\n",
    "obj.study()"
   ]
  },
  {
   "cell_type": "code",
   "execution_count": 11,
   "id": "d85852d4-3238-484a-818e-a4e37306ffcd",
   "metadata": {},
   "outputs": [
    {
     "name": "stdout",
     "output_type": "stream",
     "text": [
      "study 3 hour tanu\n",
      "sleep 1 hour\n"
     ]
    }
   ],
   "source": [
    "class student:\n",
    "    name=\"tanu\"                         \n",
    "    age=0                          \n",
    "    def study(self):            \n",
    "        print(\"study 3 hour\",self.name)\n",
    "        self.sleep()\n",
    "    def sleep(self):\n",
    "        print(\"sleep 1 hour\")\n",
    "\n",
    "\n",
    "obj=student()\n",
    "obj.study()"
   ]
  },
  {
   "cell_type": "code",
   "execution_count": 13,
   "id": "2eb80dca-3a32-43ec-842e-2971e2762a25",
   "metadata": {},
   "outputs": [
    {
     "name": "stdout",
     "output_type": "stream",
     "text": [
      "study 3 hour tanu\n"
     ]
    }
   ],
   "source": [
    "class student:\n",
    "    name=\"tanu\"                         \n",
    "    age=0                          \n",
    "    def study(self):            \n",
    "        print(\"study 3 hour\",self.name)\n",
    "        \n",
    "    def sleep(self):\n",
    "        print(\"sleep 1 hour\")\n",
    "        study()\n",
    "\n",
    "obj=student()\n",
    "obj.study()"
   ]
  },
  {
   "cell_type": "code",
   "execution_count": 15,
   "id": "ba4d0d5e-98c2-45b9-8df8-081c57aaf2c2",
   "metadata": {},
   "outputs": [
    {
     "ename": "IndentationError",
     "evalue": "expected an indented block after class definition on line 3 (930293685.py, line 4)",
     "output_type": "error",
     "traceback": [
      "\u001b[1;36m  Cell \u001b[1;32mIn[15], line 4\u001b[1;36m\u001b[0m\n\u001b[1;33m    def show(self):\u001b[0m\n\u001b[1;37m    ^\u001b[0m\n\u001b[1;31mIndentationError\u001b[0m\u001b[1;31m:\u001b[0m expected an indented block after class definition on line 3\n"
     ]
    }
   ],
   "source": [
    "## INHERITANCE -\n",
    "\n",
    "class a:\n",
    "def show(self):\n",
    "print(\"this is show method\")\n",
    "class b(a):\n",
    "def demo(self):\n",
    "print(\"demo method\")\n",
    "class c (a):\n",
    "pass\n",
    "class d (b,c):\n",
    "pass\n",
    "obj.c()\n",
    "obj.show()\n",
    "obj.demo()   #error\n",
    "    "
   ]
  },
  {
   "cell_type": "code",
   "execution_count": 17,
   "id": "7c5012f8-ad85-4ca5-a5f7-e5b2a63c65ae",
   "metadata": {},
   "outputs": [
    {
     "ename": "IndentationError",
     "evalue": "expected an indented block after function definition on line 4 (3282873042.py, line 5)",
     "output_type": "error",
     "traceback": [
      "\u001b[1;36m  Cell \u001b[1;32mIn[17], line 5\u001b[1;36m\u001b[0m\n\u001b[1;33m    print(\"id,name,age\")\u001b[0m\n\u001b[1;37m    ^\u001b[0m\n\u001b[1;31mIndentationError\u001b[0m\u001b[1;31m:\u001b[0m expected an indented block after function definition on line 4\n"
     ]
    }
   ],
   "source": [
    "#polymorphism\n",
    "def setdata(id,name):\n",
    "    print(\"id,name\")\n",
    "    def setdata(id,name,age):\n",
    "    print(\"id,name,age\")\n",
    "setdata(101,\"sanjay\")"
   ]
  },
  {
   "cell_type": "code",
   "execution_count": 19,
   "id": "328ec07d-3228-45d0-bcbc-d46ca9bec038",
   "metadata": {},
   "outputs": [
    {
     "name": "stdout",
     "output_type": "stream",
     "text": [
      "60\n"
     ]
    }
   ],
   "source": [
    "def sum(a,b,c):\n",
    "    print(a+b+c)\n",
    "\n",
    "sum(10,20,30)"
   ]
  },
  {
   "cell_type": "code",
   "execution_count": 21,
   "id": "3ac5004f-5dac-4604-a6d9-8475f205ac24",
   "metadata": {},
   "outputs": [
    {
     "name": "stdout",
     "output_type": "stream",
     "text": [
      "60\n"
     ]
    },
    {
     "ename": "TypeError",
     "evalue": "sum() missing 1 required positional argument: 'c'",
     "output_type": "error",
     "traceback": [
      "\u001b[1;31m---------------------------------------------------------------------------\u001b[0m",
      "\u001b[1;31mTypeError\u001b[0m                                 Traceback (most recent call last)",
      "Cell \u001b[1;32mIn[21], line 5\u001b[0m\n\u001b[0;32m      2\u001b[0m     \u001b[38;5;28mprint\u001b[39m(a\u001b[38;5;241m+\u001b[39mb\u001b[38;5;241m+\u001b[39mc)\n\u001b[0;32m      4\u001b[0m \u001b[38;5;28msum\u001b[39m(\u001b[38;5;241m10\u001b[39m,\u001b[38;5;241m20\u001b[39m,\u001b[38;5;241m30\u001b[39m)\n\u001b[1;32m----> 5\u001b[0m \u001b[38;5;28msum\u001b[39m(\u001b[38;5;241m10\u001b[39m,\u001b[38;5;241m20\u001b[39m)\n",
      "\u001b[1;31mTypeError\u001b[0m: sum() missing 1 required positional argument: 'c'"
     ]
    }
   ],
   "source": [
    "def sum(a,b,c):\n",
    "    print(a+b+c)\n",
    "\n",
    "sum(10,20,30)\n",
    "sum(10,20)"
   ]
  },
  {
   "cell_type": "code",
   "execution_count": 23,
   "id": "e2b5d489-d2f0-4b81-ba69-bddd37b0b1df",
   "metadata": {},
   "outputs": [
    {
     "name": "stdout",
     "output_type": "stream",
     "text": [
      "60\n",
      "30\n"
     ]
    }
   ],
   "source": [
    "##method overloading\n",
    "def sum(a,b,c=0):\n",
    "    print(a+b+c)\n",
    "\n",
    "sum(10,20,30)\n",
    "sum(10,20)"
   ]
  },
  {
   "cell_type": "code",
   "execution_count": null,
   "id": "54a6087a-3b32-4617-a24f-efea56fbcc69",
   "metadata": {},
   "outputs": [],
   "source": [
    "#method overriding\n",
    "'''polymorphism lets us define methods in the child class that have the same nmae as the method in the parent class. In inheritance , the child class\n",
    "inherits the method from the parent class. However, it is possible to modify the method in a child class it has inherited from the parent class. This \n",
    "is particularly useful in cases where the method inherited from the parent class does't quite fit the child class. In such cases, we re-implement the \n",
    "method in the child class.this process of re-implemented a method in the child class is known as method overriding.'''\n",
    "\n",
    "class bird:\n",
    "    def intro(self):\n",
    "        print(\"there are amny typrs of birds\")\n",
    "    def flight (self):\n",
    "        print(\"most of the bird can fly some not\")\n",
    "class sparrow(bird):\n",
    "    def flight(self):\n",
    "        print(\"i can fly\")\n",
    "class ostrich(bird):\n",
    "    pass\n",
    "s=ostrich()\n",
    "s.flight()"
   ]
  },
  {
   "cell_type": "markdown",
   "id": "8bbbd775-1885-4c12-a76e-ef0c076b15bf",
   "metadata": {},
   "source": [
    "class bird:\n",
    "    def intro(self):\n",
    "        print(\"there are amny typrs of birds\")\n",
    "    def flight (self):\n",
    "        print(\"most of the bird can fly some not\")\n",
    "class sparrow(bird):\n",
    "    def flight(self):\n",
    "        print(\"i can fly\")\n",
    "class ostrich(bird):\n",
    "    def flight (self):\n",
    "        print(\"i can't fly\")\n",
    "s=ostrich()\n",
    "s.flight()"
   ]
  },
  {
   "cell_type": "code",
   "execution_count": 27,
   "id": "5c7e4ccd-91ae-4868-85b9-94bc01c7bc2f",
   "metadata": {},
   "outputs": [
    {
     "name": "stdout",
     "output_type": "stream",
     "text": [
      "i can't fly\n"
     ]
    }
   ],
   "source": [
    "class bird:\n",
    "    def intro(self):\n",
    "        print(\"there are amny typrs of birds\")\n",
    "    def flight (self):\n",
    "        print(\"most of the bird can fly some not\")\n",
    "class sparrow(bird):\n",
    "    def flight(self):\n",
    "        print(\"i can fly\")\n",
    "class ostrich(bird):\n",
    "    def flight(self):\n",
    "        print(\"i can't fly\")\n",
    "s=ostrich()\n",
    "s.flight()"
   ]
  },
  {
   "cell_type": "code",
   "execution_count": 29,
   "id": "c03cd18f-20a2-42c2-b27c-ad16157770ac",
   "metadata": {},
   "outputs": [
    {
     "ename": "AttributeError",
     "evalue": "'b' object has no attribute 'name'",
     "output_type": "error",
     "traceback": [
      "\u001b[1;31m---------------------------------------------------------------------------\u001b[0m",
      "\u001b[1;31mAttributeError\u001b[0m                            Traceback (most recent call last)",
      "Cell \u001b[1;32mIn[29], line 8\u001b[0m\n\u001b[0;32m      6\u001b[0m         \u001b[38;5;28mprint\u001b[39m(\u001b[38;5;124m\"\u001b[39m\u001b[38;5;124mthis is show method\u001b[39m\u001b[38;5;124m\"\u001b[39m,\u001b[38;5;28mself\u001b[39m\u001b[38;5;241m.\u001b[39mname)\n\u001b[0;32m      7\u001b[0m obj\u001b[38;5;241m=\u001b[39mb()\n\u001b[1;32m----> 8\u001b[0m obj\u001b[38;5;241m.\u001b[39mshow()\n",
      "Cell \u001b[1;32mIn[29], line 6\u001b[0m, in \u001b[0;36mb.show\u001b[1;34m(self)\u001b[0m\n\u001b[0;32m      5\u001b[0m \u001b[38;5;28;01mdef\u001b[39;00m \u001b[38;5;21mshow\u001b[39m(\u001b[38;5;28mself\u001b[39m):\n\u001b[1;32m----> 6\u001b[0m     \u001b[38;5;28mprint\u001b[39m(\u001b[38;5;124m\"\u001b[39m\u001b[38;5;124mthis is show method\u001b[39m\u001b[38;5;124m\"\u001b[39m,\u001b[38;5;28mself\u001b[39m\u001b[38;5;241m.\u001b[39mname)\n",
      "\u001b[1;31mAttributeError\u001b[0m: 'b' object has no attribute 'name'"
     ]
    }
   ],
   "source": [
    "class a:\n",
    "    ___name=\"abc\" ## private\n",
    "    _name=\"abc\"   ##protected\n",
    "class b(a):\n",
    "    def show(self):\n",
    "        print(\"this is show method\",self.name)\n",
    "obj=b()\n",
    "obj.show()"
   ]
  },
  {
   "cell_type": "code",
   "execution_count": 31,
   "id": "3da4e1ac-f944-47b4-8773-17ead298f520",
   "metadata": {},
   "outputs": [
    {
     "name": "stdout",
     "output_type": "stream",
     "text": [
      "line 1 \n",
      "line 2 \n",
      "line 3 \n",
      "line 4 \n",
      "line 5 \n"
     ]
    },
    {
     "name": "stdin",
     "output_type": "stream",
     "text": [
      "enter first number 56\n",
      "enter division number 7\n"
     ]
    },
    {
     "name": "stdout",
     "output_type": "stream",
     "text": [
      "8.0\n",
      "line 6\n",
      "line 7 \n"
     ]
    }
   ],
   "source": [
    "print(\"line 1 \")\n",
    "print(\"line 2 \")\n",
    "print(\"line 3 \")\n",
    "print(\"line 4 \")\n",
    "print(\"line 5 \")\n",
    "num1= int(input(\"enter first number\"))\n",
    "num2=int(input(\"enter division number\"))\n",
    "print(num1/num2)\n",
    "print(\"line 6\")\n",
    "print(\"line 7 \")"
   ]
  },
  {
   "cell_type": "code",
   "execution_count": 33,
   "id": "60618ea1-e7a9-4cd5-a484-68996269438d",
   "metadata": {},
   "outputs": [
    {
     "name": "stdout",
     "output_type": "stream",
     "text": [
      "line 1 \n",
      "line 2 \n",
      "line 3 \n",
      "line 4 \n",
      "line 5 \n"
     ]
    },
    {
     "name": "stdin",
     "output_type": "stream",
     "text": [
      "enter first number 67\n",
      "enter division number 0\n"
     ]
    },
    {
     "ename": "ZeroDivisionError",
     "evalue": "division by zero",
     "output_type": "error",
     "traceback": [
      "\u001b[1;31m---------------------------------------------------------------------------\u001b[0m",
      "\u001b[1;31mZeroDivisionError\u001b[0m                         Traceback (most recent call last)",
      "Cell \u001b[1;32mIn[33], line 8\u001b[0m\n\u001b[0;32m      6\u001b[0m num1\u001b[38;5;241m=\u001b[39m \u001b[38;5;28mint\u001b[39m(\u001b[38;5;28minput\u001b[39m(\u001b[38;5;124m\"\u001b[39m\u001b[38;5;124menter first number\u001b[39m\u001b[38;5;124m\"\u001b[39m))\n\u001b[0;32m      7\u001b[0m num2\u001b[38;5;241m=\u001b[39m\u001b[38;5;28mint\u001b[39m(\u001b[38;5;28minput\u001b[39m(\u001b[38;5;124m\"\u001b[39m\u001b[38;5;124menter division number\u001b[39m\u001b[38;5;124m\"\u001b[39m))\n\u001b[1;32m----> 8\u001b[0m \u001b[38;5;28mprint\u001b[39m(num1\u001b[38;5;241m/\u001b[39mnum2)\n\u001b[0;32m      9\u001b[0m \u001b[38;5;28mprint\u001b[39m(\u001b[38;5;124m\"\u001b[39m\u001b[38;5;124mline 6\u001b[39m\u001b[38;5;124m\"\u001b[39m)\n\u001b[0;32m     10\u001b[0m \u001b[38;5;28mprint\u001b[39m(\u001b[38;5;124m\"\u001b[39m\u001b[38;5;124mline 7 \u001b[39m\u001b[38;5;124m\"\u001b[39m)\n",
      "\u001b[1;31mZeroDivisionError\u001b[0m: division by zero"
     ]
    }
   ],
   "source": [
    "print(\"line 1 \")\n",
    "print(\"line 2 \")\n",
    "print(\"line 3 \")\n",
    "print(\"line 4 \")\n",
    "print(\"line 5 \")\n",
    "num1= int(input(\"enter first number\"))\n",
    "num2=int(input(\"enter division number\"))\n",
    "print(num1/num2)\n",
    "print(\"line 6\")\n",
    "print(\"line 7 \")\n",
    "#incomplete executiom"
   ]
  },
  {
   "cell_type": "code",
   "execution_count": 35,
   "id": "80ac84a2-0949-4b2a-8a14-8334998e983a",
   "metadata": {},
   "outputs": [
    {
     "name": "stdout",
     "output_type": "stream",
     "text": [
      "line 1 \n",
      "line 2 \n",
      "line 3 \n",
      "line 4 \n",
      "line 5 \n"
     ]
    },
    {
     "name": "stdin",
     "output_type": "stream",
     "text": [
      "enter first number 78\n",
      "enter division number 0\n"
     ]
    },
    {
     "name": "stdout",
     "output_type": "stream",
     "text": [
      "division by zero\n",
      "line 6\n",
      "line 7 \n"
     ]
    }
   ],
   "source": [
    "print(\"line 1 \")\n",
    "print(\"line 2 \")\n",
    "print(\"line 3 \")\n",
    "print(\"line 4 \")\n",
    "print(\"line 5 \")\n",
    "num1= int(input(\"enter first number\"))\n",
    "num2=int(input(\"enter division number\"))\n",
    "try :\n",
    "    print(num1/num2)\n",
    "    print(\"inside a try\")\n",
    "except ZeroDivisionError as e:\n",
    "    print(e)\n",
    "print(\"line 6\")\n",
    "print(\"line 7 \")"
   ]
  },
  {
   "cell_type": "code",
   "execution_count": 37,
   "id": "eff36751-a4a1-4fba-bd0b-c923a2728d51",
   "metadata": {},
   "outputs": [
    {
     "name": "stdout",
     "output_type": "stream",
     "text": [
      "line 1 \n",
      "line 2 \n",
      "line 3 \n",
      "line 4 \n",
      "line 5 \n"
     ]
    },
    {
     "name": "stdin",
     "output_type": "stream",
     "text": [
      "enter first number 67\n",
      "enter division number 8\n"
     ]
    },
    {
     "name": "stdout",
     "output_type": "stream",
     "text": [
      "8.375\n",
      "inside a try\n",
      "line 6\n",
      "line 7 \n"
     ]
    }
   ],
   "source": [
    "print(\"line 1 \")\n",
    "print(\"line 2 \")\n",
    "print(\"line 3 \")\n",
    "print(\"line 4 \")\n",
    "print(\"line 5 \")\n",
    "num1= int(input(\"enter first number\"))\n",
    "num2=int(input(\"enter division number\"))\n",
    "try :\n",
    "    print(num1/num2)\n",
    "    print(\"inside a try\")\n",
    "except ZeroDivisionError as e:\n",
    "    print(e)\n",
    "print(\"line 6\")\n",
    "print(\"line 7 \")"
   ]
  },
  {
   "cell_type": "markdown",
   "id": "7b356263-2b36-4286-8dc0-de57211f405d",
   "metadata": {},
   "source": [
    " print(\"line 1 \")\n",
    "print(\"line 2 \")\n",
    "print(\"line 3 \")\n",
    "print(\"line 4 \")\n",
    "print(\"line 5 \")\n",
    "num1= int(input(\"enter first number\"))\n",
    "num2=int(input(\"enter division number\"))\n",
    "try :\n",
    "    print(num1/num2)\n",
    "    open(\"anudip.txt\")\n",
    "except ZeroDivisionError as e:\n",
    "    print(e)\n",
    "print(\"line 6\")\n",
    "print(\"line 7 \")"
   ]
  },
  {
   "cell_type": "code",
   "execution_count": 1,
   "id": "237ebf6d-9db2-4d02-97b3-d4ee695beabf",
   "metadata": {},
   "outputs": [
    {
     "name": "stdout",
     "output_type": "stream",
     "text": [
      "line 1 \n",
      "line 2 \n",
      "line 3 \n",
      "line 4 \n",
      "line 5 \n"
     ]
    },
    {
     "name": "stdin",
     "output_type": "stream",
     "text": [
      "enter first number 56\n",
      "enter division number 67\n"
     ]
    },
    {
     "name": "stdout",
     "output_type": "stream",
     "text": [
      "0.835820895522388\n",
      "anudip.txt\n",
      "line 6\n",
      "line 7 \n"
     ]
    }
   ],
   "source": [
    "print(\"line 1 \")\n",
    "print(\"line 2 \")\n",
    "print(\"line 3 \")\n",
    "print(\"line 4 \")\n",
    "print(\"line 5 \")\n",
    "num1= int(input(\"enter first number\"))\n",
    "num2=int(input(\"enter division number\"))\n",
    "try :\n",
    "    print(num1/num2)\n",
    "    print(\"anudip.txt\")\n",
    "except ZeroDivisionError as e:\n",
    "    print(e)\n",
    "print(\"line 6\")\n",
    "print(\"line 7 \")"
   ]
  },
  {
   "cell_type": "code",
   "execution_count": 39,
   "id": "0cc2f6d6-ee69-40df-b3c5-70473902d62d",
   "metadata": {},
   "outputs": [
    {
     "name": "stdout",
     "output_type": "stream",
     "text": [
      "line 1 \n",
      "line 2 \n",
      "line 3 \n",
      "line 4 \n",
      "line 5 \n"
     ]
    },
    {
     "name": "stdin",
     "output_type": "stream",
     "text": [
      "enter first number 12\n",
      "enter division number 2\n"
     ]
    },
    {
     "name": "stdout",
     "output_type": "stream",
     "text": [
      "6.0\n",
      "inside a try\n",
      "line 6\n",
      "line 7 \n"
     ]
    }
   ],
   "source": [
    "print(\"line 1 \")\n",
    "print(\"line 2 \")\n",
    "print(\"line 3 \")\n",
    "print(\"line 4 \")\n",
    "print(\"line 5 \")\n",
    "num1= int(input(\"enter first number\"))\n",
    "num2=int(input(\"enter division number\"))\n",
    "try :\n",
    "    print(num1/num2)\n",
    "    print(\"inside a try\")\n",
    "except (ZeroDivisionError,FileNotFounfError ):\n",
    "    print(\"something went wrong\")\n",
    "print(\"line 6\")\n",
    "print(\"line 7 \")"
   ]
  },
  {
   "cell_type": "code",
   "execution_count": 41,
   "id": "36e3c186-3cb4-4988-8560-5162c70c4602",
   "metadata": {},
   "outputs": [
    {
     "name": "stdout",
     "output_type": "stream",
     "text": [
      "line 1 \n",
      "line 2 \n",
      "line 3 \n",
      "line 4 \n",
      "line 5 \n"
     ]
    },
    {
     "name": "stdin",
     "output_type": "stream",
     "text": [
      "enter first number 78\n",
      "enter division number 0\n"
     ]
    },
    {
     "name": "stdout",
     "output_type": "stream",
     "text": [
      "something went wrong\n",
      "line 6\n",
      "line 7 \n"
     ]
    }
   ],
   "source": [
    "print(\"line 1 \")\n",
    "print(\"line 2 \")\n",
    "print(\"line 3 \")\n",
    "print(\"line 4 \")\n",
    "print(\"line 5 \")\n",
    "num1= int(input(\"enter first number\"))\n",
    "num2=int(input(\"enter division number\"))\n",
    "try :\n",
    "    print(num1/num2)\n",
    "    print(\"inside a try\")\n",
    "except :           #when exeption occur\n",
    "    print(\"something went wrong\")\n",
    "print(\"line 6\")\n",
    "print(\"line 7 \")"
   ]
  },
  {
   "cell_type": "code",
   "execution_count": 43,
   "id": "270d6029-bd98-4960-a957-d78895162004",
   "metadata": {},
   "outputs": [
    {
     "name": "stdout",
     "output_type": "stream",
     "text": [
      "line 1 \n",
      "line 2 \n",
      "line 3 \n",
      "line 4 \n",
      "line 5 \n"
     ]
    },
    {
     "name": "stdin",
     "output_type": "stream",
     "text": [
      "enter first number 60\n",
      "enter division number 0\n"
     ]
    },
    {
     "name": "stdout",
     "output_type": "stream",
     "text": [
      "something went wrong\n",
      "finally block\n",
      "line 6\n",
      "line 7 \n"
     ]
    }
   ],
   "source": [
    "print(\"line 1 \")\n",
    "print(\"line 2 \")\n",
    "print(\"line 3 \")\n",
    "print(\"line 4 \")\n",
    "print(\"line 5 \")\n",
    "num1= int(input(\"enter first number\"))\n",
    "num2=int(input(\"enter division number\"))\n",
    "try :\n",
    "    print(num1/num2)\n",
    "    print(\"inside a try\")                       ##check\n",
    "except :                                        ## when exeption occur\n",
    "    print(\"something went wrong\")\n",
    "finally:                                        ## hmesa chlega\n",
    "    print(\"finally block\")\n",
    "print(\"line 6\")\n",
    "print(\"line 7 \")"
   ]
  },
  {
   "cell_type": "code",
   "execution_count": null,
   "id": "304a8625-347d-4268-9c6a-84a5fbd01bec",
   "metadata": {},
   "outputs": [],
   "source": []
  }
 ],
 "metadata": {
  "kernelspec": {
   "display_name": "Python 3 (ipykernel)",
   "language": "python",
   "name": "python3"
  },
  "language_info": {
   "codemirror_mode": {
    "name": "ipython",
    "version": 3
   },
   "file_extension": ".py",
   "mimetype": "text/x-python",
   "name": "python",
   "nbconvert_exporter": "python",
   "pygments_lexer": "ipython3",
   "version": "3.12.4"
  }
 },
 "nbformat": 4,
 "nbformat_minor": 5
}

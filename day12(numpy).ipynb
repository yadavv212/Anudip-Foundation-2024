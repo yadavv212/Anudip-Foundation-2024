{
 "cells": [
  {
   "cell_type": "code",
   "execution_count": null,
   "id": "7a9bf173-6592-474a-8033-b41b64f5ce04",
   "metadata": {},
   "outputs": [],
   "source": [
    "#numpy:--\n",
    "'''numpy which stands for \"numerical python \" is a popular python library for numerical and scientific computing. It provide support for working with large, \n",
    "multi-dimensional arrays and matrices of data, along with a collection''' \n",
    "'''key features and aspects NumPy:\n",
    "1.)Multi-dimensional array-\n",
    "2.)Broadcasting\n",
    "3.)Element-wise operator\n",
    "4.)Mathematical Operator'''"
   ]
  },
  {
   "cell_type": "code",
   "execution_count": 6,
   "id": "9ffaed99-24fe-4ab7-b41f-4cf3756ad354",
   "metadata": {},
   "outputs": [
    {
     "name": "stdout",
     "output_type": "stream",
     "text": [
      "[10 20 30 40 50]\n"
     ]
    }
   ],
   "source": [
    "import numpy as np\n",
    "l=[10,20,30,40,50]\n",
    "array=np.array(l)\n",
    "print(array)"
   ]
  },
  {
   "cell_type": "code",
   "execution_count": 10,
   "id": "5937afba-5116-4a00-996f-a8a2e71c1af5",
   "metadata": {},
   "outputs": [
    {
     "name": "stdout",
     "output_type": "stream",
     "text": [
      "a array is 1\n",
      "b array is [1 2 4 5]\n",
      "c array is [[1 2 4 5]\n",
      " [2 4 7 9]]\n",
      "d array is [[[1 2 4 5]\n",
      "  [2 4 7 9]]\n",
      "\n",
      " [[8 9 7 6]\n",
      "  [2 4 5 7]]]\n"
     ]
    }
   ],
   "source": [
    "import numpy as np\n",
    "a=np.array(1)\n",
    "b=np.array([1,2,4,5])\n",
    "c=np.array([[1,2,4,5],[2,4,7,9]])\n",
    "d=np.array([[[1,2,4,5],[2,4,7,9]],[[8,9,7,6],[2,4,5,7]]])\n",
    "print(\"a array is\",a)\n",
    "print(\"b array is\",b)\n",
    "print(\"c array is\",c)\n",
    "print(\"d array is\",d)"
   ]
  },
  {
   "cell_type": "code",
   "execution_count": 12,
   "id": "a12ea4ad-e790-4e85-8320-885b989b1c52",
   "metadata": {},
   "outputs": [
    {
     "name": "stdout",
     "output_type": "stream",
     "text": [
      "a array is 1\n",
      "b array is [1 2 4 5]\n",
      "c array is [[1 2 4 5]\n",
      " [2 4 7 9]]\n",
      "d array is [[[1 2 4 5]\n",
      "  [2 4 7 9]]\n",
      "\n",
      " [[8 9 7 6]\n",
      "  [2 4 5 7]]]\n",
      "a array dimen 0\n",
      "b array dimen 1\n",
      "c array dimen 2\n",
      "d array dimen 3\n"
     ]
    }
   ],
   "source": [
    "import numpy as np\n",
    "a=np.array(1)                                                       #0 dimension\n",
    "b=np.array([1,2,4,5])                                              #1 dimension\n",
    "c=np.array([[1,2,4,5],[2,4,7,9]])                                   #2 dimension\n",
    "d=np.array([[[1,2,4,5],[2,4,7,9]],[[8,9,7,6],[2,4,5,7]]])           #3 dimension\n",
    "print(\"a array is\",a)\n",
    "print(\"b array is\",b)\n",
    "print(\"c array is\",c)\n",
    "print(\"d array is\",d)\n",
    "\n",
    "print(\"a array dimen\",a.ndim)\n",
    "print(\"b array dimen\",b.ndim)\n",
    "print(\"c array dimen\",c.ndim)\n",
    "print(\"d array dimen\",d.ndim)"
   ]
  },
  {
   "cell_type": "code",
   "execution_count": 14,
   "id": "365153b9-7967-46fb-9ce1-53199c87d2f1",
   "metadata": {},
   "outputs": [
    {
     "name": "stdout",
     "output_type": "stream",
     "text": [
      "a array is 1\n",
      "b array is [1 2 4 5]\n",
      "c array is [[1 2 4 5]\n",
      " [2 4 7 9]]\n",
      "d array is [[[1 2 4 5]\n",
      "  [2 4 7 9]]\n",
      "\n",
      " [[8 9 7 6]\n",
      "  [2 4 5 7]]]\n",
      "a array dimen 0\n",
      "b array dimen 1\n",
      "c array dimen 2\n",
      "d array dimen 3\n",
      "a array shape ()\n",
      "b array shape (4,)\n",
      "c array shape (2, 4)\n",
      "d array shape (2, 2, 4)\n"
     ]
    }
   ],
   "source": [
    "import numpy as np\n",
    "a=np.array(1)                                                       #0 dimension\n",
    "b=np.array([1,2,4,5])                                              #1 dimension\n",
    "c=np.array([[1,2,4,5],[2,4,7,9]])                                   #2 dimension\n",
    "d=np.array([[[1,2,4,5],[2,4,7,9]],[[8,9,7,6],[2,4,5,7]]])           #3 dimension\n",
    "print(\"a array is\",a)\n",
    "print(\"b array is\",b)\n",
    "print(\"c array is\",c)\n",
    "print(\"d array is\",d)\n",
    "\n",
    "print(\"a array dimen\",a.ndim)\n",
    "print(\"b array dimen\",b.ndim)\n",
    "print(\"c array dimen\",c.ndim)\n",
    "print(\"d array dimen\",d.ndim)\n",
    "\n",
    "print(\"a array shape\",a.shape)\n",
    "print(\"b array shape\",b.shape)\n",
    "print(\"c array shape\",c.shape)\n",
    "print(\"d array shape\",d.shape)"
   ]
  },
  {
   "cell_type": "code",
   "execution_count": 16,
   "id": "fe5ba82a-2138-4107-92b6-82b7c1be8639",
   "metadata": {},
   "outputs": [
    {
     "name": "stdout",
     "output_type": "stream",
     "text": [
      "4\n"
     ]
    }
   ],
   "source": [
    "#slicing array\n",
    "import numpy as np\n",
    "arr=np.array([1,2,3,4])\n",
    "print(arr[3])"
   ]
  },
  {
   "cell_type": "code",
   "execution_count": 20,
   "id": "5c10a204-4626-4a04-bf18-da03d4cd074f",
   "metadata": {},
   "outputs": [
    {
     "name": "stdout",
     "output_type": "stream",
     "text": [
      "[3 5 9]\n"
     ]
    }
   ],
   "source": [
    "#slicing array with parameters start,end and steps\n",
    "import numpy as np\n",
    "arr=np.array([1,2,3,4,5,6,9,8,10])\n",
    "print(arr[2:8:2])"
   ]
  },
  {
   "cell_type": "code",
   "execution_count": null,
   "id": "6334a623-b399-40cb-b453-2ce7811e4ec0",
   "metadata": {},
   "outputs": [],
   "source": []
  },
  {
   "cell_type": "code",
   "execution_count": 34,
   "id": "a0aa0adf-00cc-468e-83a9-95ffc64cf916",
   "metadata": {},
   "outputs": [
    {
     "name": "stdout",
     "output_type": "stream",
     "text": [
      "[ 1  2  3  4  5  6  9  8 10]\n",
      "[ 4  5  6  9  8 10]\n",
      "[  1   2   3   4   5   6   9   8 100]\n",
      "[  4   5   6   9   8 100]\n"
     ]
    }
   ],
   "source": [
    "#data types of numpy----->>>>>string,integer,float and boolean\n",
    "import numpy as np\n",
    "arr=np.array([1,2,3,4,5,6,9,8,10])\n",
    "sarr=arr[3:10]\n",
    "print(arr)\n",
    "print(sarr)\n",
    "sarr[5]=100\n",
    "print(arr)\n",
    "print(sarr)"
   ]
  },
  {
   "cell_type": "code",
   "execution_count": 38,
   "id": "300a5695-4a3f-4c3f-bbfe-5167cdff155e",
   "metadata": {},
   "outputs": [
    {
     "name": "stdout",
     "output_type": "stream",
     "text": [
      "[42  2  3  4  5  6  9  8 10]\n",
      "[ 1  2  3  4  5  6  9  8 10]\n"
     ]
    }
   ],
   "source": [
    "##copy---\n",
    "#if change in original array than it doesn't affect in new copied array.\n",
    "import numpy as np\n",
    "arr=np.array([1,2,3,4,5,6,9,8,10])\n",
    "arr2=arr.copy()\n",
    "arr[0]=42\n",
    "print(arr)\n",
    "print(arr2)"
   ]
  },
  {
   "cell_type": "code",
   "execution_count": 40,
   "id": "cd75dd60-2373-49f3-939d-8e6c97f51c58",
   "metadata": {},
   "outputs": [
    {
     "name": "stdout",
     "output_type": "stream",
     "text": [
      "[42  2  3  4  5  6  9  8 10]\n",
      "[42  2  3  4  5  6  9  8 10]\n"
     ]
    }
   ],
   "source": [
    "##view---\n",
    "#if change in original array than it does affect in new copied array.\n",
    "import numpy as np\n",
    "arr=np.array([1,2,3,4,5,6,9,8,10])\n",
    "arr2=arr.view()\n",
    "arr[0]=42\n",
    "print(arr)\n",
    "print(arr2)"
   ]
  },
  {
   "cell_type": "code",
   "execution_count": 50,
   "id": "b46dba53-2eca-469b-be90-f0b945a88059",
   "metadata": {},
   "outputs": [
    {
     "data": {
      "text/plain": [
       "array([0., 0., 0., 0., 0., 0.])"
      ]
     },
     "execution_count": 50,
     "metadata": {},
     "output_type": "execute_result"
    }
   ],
   "source": [
    "#numpy.zero() -> to set all the elements are to be zeroes\n",
    "import numpy as np\n",
    "arr=np.zeros(6)\n",
    "arr"
   ]
  },
  {
   "cell_type": "code",
   "execution_count": 52,
   "id": "d4689952-a9e9-4e28-8df6-4eb0cc151ff2",
   "metadata": {},
   "outputs": [
    {
     "data": {
      "text/plain": [
       "array([0, 0, 0, 0, 0, 0])"
      ]
     },
     "execution_count": 52,
     "metadata": {},
     "output_type": "execute_result"
    }
   ],
   "source": [
    "#numpy.zero() without order in python\n",
    "import numpy as np\n",
    "arr=np.zeros((6,),dtype=int)\n",
    "arr"
   ]
  },
  {
   "cell_type": "code",
   "execution_count": 54,
   "id": "3ca10f25-8a88-47d9-aa86-45602f3bb6e0",
   "metadata": {},
   "outputs": [
    {
     "data": {
      "text/plain": [
       "array([[0., 0.],\n",
       "       [0., 0.],\n",
       "       [0., 0.],\n",
       "       [0., 0.],\n",
       "       [0., 0.],\n",
       "       [0., 0.]])"
      ]
     },
     "execution_count": 54,
     "metadata": {},
     "output_type": "execute_result"
    }
   ],
   "source": [
    "#numpy.zero() with shape in python\n",
    "import numpy as np\n",
    "arr=np.zeros((6,2))\n",
    "arr\n"
   ]
  },
  {
   "cell_type": "code",
   "execution_count": 56,
   "id": "281bfb26-9091-464c-aece-7db0b69a8a7a",
   "metadata": {},
   "outputs": [
    {
     "data": {
      "text/plain": [
       "array([1., 1., 1., 1., 1., 1.])"
      ]
     },
     "execution_count": 56,
     "metadata": {},
     "output_type": "execute_result"
    }
   ],
   "source": [
    "##numpy.ones() -> to set all the elements are to be ones\n",
    "import numpy as np\n",
    "arr=np.ones(6)\n",
    "arr"
   ]
  },
  {
   "cell_type": "code",
   "execution_count": 58,
   "id": "af3506d8-067c-48d6-b21f-e723dbf11870",
   "metadata": {},
   "outputs": [
    {
     "data": {
      "text/plain": [
       "array([1, 1, 1, 1, 1, 1])"
      ]
     },
     "execution_count": 58,
     "metadata": {},
     "output_type": "execute_result"
    }
   ],
   "source": [
    "#numpy.ones() without order in python\n",
    "import numpy as np\n",
    "arr=np.ones((6,),dtype=int)\n",
    "arr"
   ]
  },
  {
   "cell_type": "code",
   "execution_count": 60,
   "id": "e966f370-8b4b-4a79-b19a-78adc42c466f",
   "metadata": {},
   "outputs": [
    {
     "data": {
      "text/plain": [
       "array([[1., 1.],\n",
       "       [1., 1.],\n",
       "       [1., 1.],\n",
       "       [1., 1.],\n",
       "       [1., 1.],\n",
       "       [1., 1.]])"
      ]
     },
     "execution_count": 60,
     "metadata": {},
     "output_type": "execute_result"
    }
   ],
   "source": [
    "#numpy.ones() with shape in python\n",
    "import numpy as np\n",
    "arr=np.ones((6,2))\n",
    "arr"
   ]
  },
  {
   "cell_type": "code",
   "execution_count": 62,
   "id": "73cce60b-006c-4caf-8c7d-e5aca8e47869",
   "metadata": {},
   "outputs": [
    {
     "data": {
      "text/plain": [
       "array([[1., 0., 0., 0.],\n",
       "       [0., 1., 0., 0.],\n",
       "       [0., 0., 1., 0.],\n",
       "       [0., 0., 0., 1.]])"
      ]
     },
     "execution_count": 62,
     "metadata": {},
     "output_type": "execute_result"
    }
   ],
   "source": [
    "##numpy.eye() return 2D array with 1's as diagonally and 0's elsewhere.\n",
    "import numpy as np\n",
    "arr=np.eye(4)\n",
    "arr"
   ]
  },
  {
   "cell_type": "code",
   "execution_count": 64,
   "id": "e37032b9-5828-4acd-a757-69d716ef1364",
   "metadata": {},
   "outputs": [
    {
     "data": {
      "text/plain": [
       "array([[1., 0., 0., 0.],\n",
       "       [0., 1., 0., 0.],\n",
       "       [0., 0., 1., 0.]])"
      ]
     },
     "execution_count": 64,
     "metadata": {},
     "output_type": "execute_result"
    }
   ],
   "source": [
    "import numpy as np\n",
    "arr=np.eye(3,4)\n",
    "arr"
   ]
  },
  {
   "cell_type": "code",
   "execution_count": 70,
   "id": "a9979c5a-782a-4835-b186-5e79c9a4afc1",
   "metadata": {},
   "outputs": [
    {
     "name": "stdout",
     "output_type": "stream",
     "text": [
      "[[3 0 0 0]\n",
      " [0 1 0 0]\n",
      " [0 0 2 0]\n",
      " [0 0 0 4]]\n",
      "2\n",
      "(4, 4)\n"
     ]
    }
   ],
   "source": [
    "##numpy.diag() to return different elements to the diagonal of array\n",
    "import numpy as np\n",
    "arr=np.diag((3,1,2,4))\n",
    "print(arr)\n",
    "print(arr.ndim)\n",
    "print(arr.shape)\n",
    "\n"
   ]
  },
  {
   "cell_type": "code",
   "execution_count": null,
   "id": "3f1bbe3e-c322-4c76-8942-99e5690a84f0",
   "metadata": {},
   "outputs": [],
   "source": []
  }
 ],
 "metadata": {
  "kernelspec": {
   "display_name": "Python 3 (ipykernel)",
   "language": "python",
   "name": "python3"
  },
  "language_info": {
   "codemirror_mode": {
    "name": "ipython",
    "version": 3
   },
   "file_extension": ".py",
   "mimetype": "text/x-python",
   "name": "python",
   "nbconvert_exporter": "python",
   "pygments_lexer": "ipython3",
   "version": "3.12.4"
  }
 },
 "nbformat": 4,
 "nbformat_minor": 5
}

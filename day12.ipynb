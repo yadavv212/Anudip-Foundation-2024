{
 "cells": [
  {
   "cell_type": "code",
   "execution_count": 6,
   "id": "09e9ba47-b922-4ad5-9344-a42db24d7398",
   "metadata": {},
   "outputs": [
    {
     "name": "stdout",
     "output_type": "stream",
     "text": [
      "you can vote\n"
     ]
    }
   ],
   "source": [
    "def agecheck (age):\n",
    "    if age>=18:\n",
    "        print(\"you can vote\")\n",
    "    else:\n",
    "        raise ValueError\n",
    "\n",
    "agecheck(19)"
   ]
  },
  {
   "cell_type": "code",
   "execution_count": 8,
   "id": "a6282701-ac41-42f9-961c-7c0c7d62c19a",
   "metadata": {},
   "outputs": [
    {
     "ename": "ValueError",
     "evalue": "wait some year",
     "output_type": "error",
     "traceback": [
      "\u001b[1;31m---------------------------------------------------------------------------\u001b[0m",
      "\u001b[1;31mValueError\u001b[0m                                Traceback (most recent call last)",
      "Cell \u001b[1;32mIn[8], line 11\u001b[0m\n\u001b[0;32m      8\u001b[0m     \u001b[38;5;28;01melse\u001b[39;00m:\n\u001b[0;32m      9\u001b[0m         \u001b[38;5;28;01mraise\u001b[39;00m \u001b[38;5;167;01mValueError\u001b[39;00m(\u001b[38;5;124m\"\u001b[39m\u001b[38;5;124mwait some year\u001b[39m\u001b[38;5;124m\"\u001b[39m)\n\u001b[1;32m---> 11\u001b[0m agecheck(\u001b[38;5;241m15\u001b[39m)\n",
      "Cell \u001b[1;32mIn[8], line 9\u001b[0m, in \u001b[0;36magecheck\u001b[1;34m(age)\u001b[0m\n\u001b[0;32m      7\u001b[0m     \u001b[38;5;28mprint\u001b[39m(\u001b[38;5;124m\"\u001b[39m\u001b[38;5;124myou can vote\u001b[39m\u001b[38;5;124m\"\u001b[39m)\n\u001b[0;32m      8\u001b[0m \u001b[38;5;28;01melse\u001b[39;00m:\n\u001b[1;32m----> 9\u001b[0m     \u001b[38;5;28;01mraise\u001b[39;00m \u001b[38;5;167;01mValueError\u001b[39;00m(\u001b[38;5;124m\"\u001b[39m\u001b[38;5;124mwait some year\u001b[39m\u001b[38;5;124m\"\u001b[39m)\n",
      "\u001b[1;31mValueError\u001b[0m: wait some year"
     ]
    }
   ],
   "source": [
    "#rules of raising exception\n",
    "#an exception can be raosed forcefully by using the raise clause in python . It is useful in that scenario where we need to stop the execution of program.\n",
    "'''for eg:- there is a program that require 2GB memeory for execution, and if the program tries to occupy 2GB of memory , then we can raise an\n",
    "exception of the program'''\n",
    "def agecheck (age):\n",
    "    if age>=18:\n",
    "        print(\"you can vote\")\n",
    "    else:\n",
    "        raise ValueError(\"wait some year\")\n",
    "\n",
    "agecheck(15)"
   ]
  },
  {
   "cell_type": "code",
   "execution_count": 16,
   "id": "24c5fdba-86fd-4926-ae7f-688375a5e28f",
   "metadata": {},
   "outputs": [
    {
     "name": "stdout",
     "output_type": "stream",
     "text": [
      "wait some year\n"
     ]
    }
   ],
   "source": [
    "def agecheck (age):\n",
    "    if age>=18:\n",
    "        print(\"you can vote\")\n",
    "    else:\n",
    "        raise ValueError(\"wait some year\")\n",
    "try:\n",
    "    agecheck(15)\n",
    "except ValueError as e:\n",
    "    print(e)"
   ]
  },
  {
   "cell_type": "code",
   "execution_count": null,
   "id": "29aa9385-6f16-438b-9162-80de877addfb",
   "metadata": {},
   "outputs": [],
   "source": [
    "\n"
   ]
  }
 ],
 "metadata": {
  "kernelspec": {
   "display_name": "Python 3 (ipykernel)",
   "language": "python",
   "name": "python3"
  },
  "language_info": {
   "codemirror_mode": {
    "name": "ipython",
    "version": 3
   },
   "file_extension": ".py",
   "mimetype": "text/x-python",
   "name": "python",
   "nbconvert_exporter": "python",
   "pygments_lexer": "ipython3",
   "version": "3.12.4"
  }
 },
 "nbformat": 4,
 "nbformat_minor": 5
}

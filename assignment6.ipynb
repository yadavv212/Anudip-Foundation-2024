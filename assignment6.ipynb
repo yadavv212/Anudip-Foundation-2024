{
 "cells": [
  {
   "cell_type": "code",
   "execution_count": 18,
   "id": "4c08869b-1ad2-439c-9d3d-03aef474bf9b",
   "metadata": {},
   "outputs": [
    {
     "name": "stdout",
     "output_type": "stream",
     "text": [
      "Hot days (temperature > 35°C):\n",
      "Day 2: 36.8°C\n",
      "Day 5: 38.7°C\n",
      "Day 9: 37.2°C\n",
      "\n",
      "There are no cold days (temperature < 5°C).\n"
     ]
    }
   ],
   "source": [
    "#ques1\n",
    "'''suppose you have a dataset containing daily temperature readings for a city,and you want to\n",
    "identify days with extreme temperature conditions.find days where the temperature either exceeded \n",
    "35 degree celsius(hot day) or dropped below 5 degrees celsius(cold day)'''\n",
    "import numpy as np\n",
    "\n",
    "# Sample temperature data\n",
    "temperatures = np.array([32.5, 34.2, 36.8, 29.3, 31.0, 38.7, 23.1, 18.5, 22.8, 37.2])\n",
    "\n",
    "# Identify hot days (temperature > 35°C)\n",
    "hot_days = np.where(temperatures > 35)[0]\n",
    "\n",
    "# Identify cold days (temperature < 5°C)\n",
    "cold_days = np.where(temperatures < 5)[0]\n",
    "\n",
    "# Print the results with temperature values\n",
    "print(\"Hot days (temperature > 35°C):\")\n",
    "for day in hot_days:\n",
    "    print(f\"Day {day}: {temperatures[day]}°C\")\n",
    "\n",
    "if cold_days.size > 0:\n",
    "    print(\"\\nCold days (temperature < 5°C):\")\n",
    "    for day in cold_days:\n",
    "        print(f\"Day {day}: {temperatures[day]}°C\")\n",
    "else:\n",
    "    print(\"\\nThere are no cold days (temperature < 5°C).\")\n"
   ]
  },
  {
   "cell_type": "code",
   "execution_count": null,
   "id": "206b9521-9538-4124-b080-c6e76ffab8b9",
   "metadata": {},
   "outputs": [],
   "source": [
    "#ques2\n",
    "'''suppose you have a dataset containing monthly sales data for a company, and you want to split this data into quartely reports for analysis and reporting \n",
    "purposes.\n",
    "input:- \n",
    "temperature=np.array([120,135,148,165,180,155,168,190,205,198,210,225])'''\n",
    "import numpy as np\n",
    "\n",
    "# Define the input data\n",
    "temperature = np.array([120, 135, 148, 165, 180, 155, 168, 190, 205, 198, 210, 225])\n",
    "\n",
    "# Reshape the array into quarters\n",
    "quarters = temperature.reshape(-1, 3)\n",
    "\n",
    "# Display the quarters\n",
    "for i, quarter in enumerate(quarters, start=1):\n",
    "    print(f\"Quarter {i}: {quarter}\")\n"
   ]
  },
  {
   "cell_type": "code",
   "execution_count": 14,
   "id": "44498f58-717d-4c45-af45-b4970cda2a44",
   "metadata": {},
   "outputs": [
    {
     "name": "stdout",
     "output_type": "stream",
     "text": [
      "Active customers (last purchase <=30 days ago)\n",
      "[101 102 103 104 105]\n",
      "\n",
      " Inactive customers (last purchase >30 days ago:\n",
      "[106 107 108 109 110]\n"
     ]
    }
   ],
   "source": [
    "#ques3\n",
    "'''Suppose you have a dataset containing customer data, and you want to split this data\n",
    "into two groups: one group for customers who made a purchase in the last 30 days and\n",
    "another group for customers who haven't made a purchase in the last 30 days.\n",
    "Input:\n",
    "customer_ids = np.array([101, 102, 103, 104, 105, 106, 107, 108, 109, 110])\n",
    "last_purchase_days_ago = np.array([5, 15, 20, 25, 30, 35, 40, 45, 50, 55])'''\n",
    "\n",
    "import numpy as np\n",
    "\n",
    "# Define the input data\n",
    "customer_ids = np.array([101, 102, 103, 104, 105, 106, 107, 108, 109, 110])\n",
    "last_purchase_days_ago = np.array([5, 15, 20, 25, 30, 35, 40, 45, 50, 55])\n",
    "\n",
    "# Create a boolean mask for customers who made a purchase in the last 30 days\n",
    "recent_purchase_mask = last_purchase_days_ago <= 30\n",
    "\n",
    "# Split the data using the boolean mask\n",
    "recent_customers = customer_ids[recent_purchase_mask]\n",
    "non_recent_customers = customer_ids[~recent_purchase_mask]\n",
    "\n",
    "# Display the groups\n",
    "print(\"Active customers (last purchase <=30 days ago)\")\n",
    "print(recent_customers)\n",
    "\n",
    "print(\"\\n Inactive customers (last purchase >30 days ago:\")\n",
    "print(non_recent_customers)\n"
   ]
  },
  {
   "cell_type": "code",
   "execution_count": 20,
   "id": "b7dd6989-8d52-4b16-8d3d-4883342a650d",
   "metadata": {},
   "outputs": [
    {
     "name": "stdout",
     "output_type": "stream",
     "text": [
      "Combined Employee Data:\n",
      "[['101' 'John Doe' 'Full-Time' '55000']\n",
      " ['102' 'Jane Smith' 'Full-Time' '60000']\n",
      " ['103' 'Mike Johnson' 'Full-Time' '52000']\n",
      " ['201' 'Alice Brown' 'Part-Time' '25000']\n",
      " ['202' 'Bob Wilson' 'Part-Time' '28000']\n",
      " ['203' 'Emily Davis' 'Part-Time' '22000']]\n"
     ]
    }
   ],
   "source": [
    "#ques4\n",
    "'''Suppose you have two sets of employee data—one containing information about\n",
    "full-time employees and another containing information about part-time employees. You\n",
    "want to combine this data to create a comprehensive employee dataset for HR analysis.\n",
    "Input:\n",
    "# Employee data for full-time employees\n",
    "full_time_employees = np.array([\n",
    "[101, 'John Doe', 'Full-Time', 55000],\n",
    "[102, 'Jane Smith', 'Full-Time', 60000],\n",
    "[103, 'Mike Johnson', 'Full-Time', 52000]\n",
    "])\n",
    "# Employee data for part-time employees\n",
    "part_time_employees = np.array([\n",
    "[201, 'Alice Brown', 'Part-Time', 25000],\n",
    "[202, 'Bob Wilson', 'Part-Time', 28000],\n",
    "[203, 'Emily Davis', 'Part-Time', 22000]\n",
    "])\n",
    "'''\n",
    "\n",
    "import numpy as np\n",
    "\n",
    "# Define the input data for full-time employees\n",
    "full_time_employees = np.array([\n",
    "    [101, 'John Doe', 'Full-Time', 55000],\n",
    "    [102, 'Jane Smith', 'Full-Time', 60000],\n",
    "    [103, 'Mike Johnson', 'Full-Time', 52000]\n",
    "])\n",
    "\n",
    "# Define the input data for part-time employees\n",
    "part_time_employees = np.array([\n",
    "    [201, 'Alice Brown', 'Part-Time', 25000],\n",
    "    [202, 'Bob Wilson', 'Part-Time', 28000],\n",
    "    [203, 'Emily Davis', 'Part-Time', 22000]\n",
    "])\n",
    "\n",
    "# Combine the full-time and part-time employee data\n",
    "combined_employees = np.concatenate((full_time_employees, part_time_employees), axis=0)\n",
    "\n",
    "# Display the combined dataset\n",
    "print(\"Combined Employee Data:\")\n",
    "print(combined_employees)\n",
    "\n"
   ]
  },
  {
   "cell_type": "code",
   "execution_count": 22,
   "id": "2d2e8893-d9a4-4002-9219-260801811884",
   "metadata": {},
   "outputs": [
    {
     "name": "stdout",
     "output_type": "stream",
     "text": [
      "Means of each array:\n",
      "Array 1: 5.5\n",
      "Array 2: 30.6\n",
      "Array 3: 34.0\n"
     ]
    }
   ],
   "source": [
    "#ques5\n",
    "''' How to find the mean of every NumPy array in the given list?\n",
    "Input:\n",
    "list = [\n",
    "np.array([3, 2, 8, 9]),\n",
    "np.array([4, 12, 34, 25, 78]),\n",
    "np.array([23, 12, 67])\n",
    "]\n",
    "'''\n",
    "import numpy as np\n",
    "\n",
    "# Define the input list of NumPy arrays\n",
    "list_of_arrays = [\n",
    "    np.array([3, 2, 8, 9]),\n",
    "    np.array([4, 12, 34, 25, 78]),\n",
    "    np.array([23, 12, 67])\n",
    "]\n",
    "\n",
    "# Calculate the mean of each array\n",
    "means = [array.mean() for array in list_of_arrays]\n",
    "\n",
    "# Display the means\n",
    "print(\"Means of each array:\")\n",
    "for i, mean in enumerate(means, start=1):\n",
    "    print(f\"Array {i}: {mean}\")\n"
   ]
  },
  {
   "cell_type": "code",
   "execution_count": 24,
   "id": "67012c93-7890-433c-99ab-0b74c77ce193",
   "metadata": {},
   "outputs": [
    {
     "name": "stdout",
     "output_type": "stream",
     "text": [
      "Median of the array: 4.0\n"
     ]
    }
   ],
   "source": [
    "#ques7\n",
    "'''Compute the median of the flattened NumPy array\n",
    "Input: x_odd = np.array([1, 2, 3, 4, 5, 6, 7)]'''\n",
    "import numpy as np\n",
    "\n",
    "# Define the input array\n",
    "x_odd = np.array([1, 2, 3, 4, 5, 6, 7])\n",
    "\n",
    "# Compute the median of the array\n",
    "median_value = np.median(x_odd)\n",
    "\n",
    "# Display the median\n",
    "print(\"Median of the array:\", median_value)\n"
   ]
  },
  {
   "cell_type": "code",
   "execution_count": 26,
   "id": "55aef69a-61fc-48d9-baaa-e7f439c8d02a",
   "metadata": {},
   "outputs": [
    {
     "name": "stdout",
     "output_type": "stream",
     "text": [
      "Standard Deviation of the array: 12.576167937809991\n"
     ]
    }
   ],
   "source": [
    "#ques8\n",
    "'''Compute the standard deviation of the NumPy array\n",
    "Input: arr = [20, 2, 7, 1, 34]\n",
    "'''\n",
    "import numpy as np\n",
    "\n",
    "# Define the input list\n",
    "arr = [20, 2, 7, 1, 34]\n",
    "\n",
    "# Convert the list to a NumPy array\n",
    "arr_np = np.array(arr)\n",
    "\n",
    "# Compute the standard deviation of the array\n",
    "std_deviation = np.std(arr_np)\n",
    "\n",
    "# Display the standard deviation\n",
    "print(\"Standard Deviation of the array:\", std_deviation)\n"
   ]
  },
  {
   "cell_type": "code",
   "execution_count": null,
   "id": "2295f602-0648-4314-a0b2-2437bcad2781",
   "metadata": {},
   "outputs": [],
   "source": [
    "#ques9\n",
    "'''Suppose you have a CSV file named 'house_prices.csv' with price information, and\n",
    "you want to perform the following operations:\n",
    "● 1.Read the data from the CSV file into a NumPy array.\n",
    "● 2.Calculate the average of house prices.\n",
    "● 3.Identify house price above the average.\n",
    "● 4.Save the list of high prices to a new CSV file.'''"
   ]
  }
 ],
 "metadata": {
  "kernelspec": {
   "display_name": "Python 3 (ipykernel)",
   "language": "python",
   "name": "python3"
  },
  "language_info": {
   "codemirror_mode": {
    "name": "ipython",
    "version": 3
   },
   "file_extension": ".py",
   "mimetype": "text/x-python",
   "name": "python",
   "nbconvert_exporter": "python",
   "pygments_lexer": "ipython3",
   "version": "3.12.4"
  }
 },
 "nbformat": 4,
 "nbformat_minor": 5
}

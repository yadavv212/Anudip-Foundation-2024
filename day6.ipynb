{
 "cells": [
  {
   "cell_type": "code",
   "execution_count": 8,
   "id": "387f29c9-4681-422f-b7cc-81c599f34257",
   "metadata": {},
   "outputs": [
    {
     "name": "stdout",
     "output_type": "stream",
     "text": [
      "+---------+----------------+------------+-------+---------+-----------+--------+-----------+------------+---------+\n",
      "| stdid   | stdname        | standard   |   age |   hindi |   english |   math |   science |   computer |   total |\n",
      "+=========+================+============+=======+=========+===========+========+===========+============+=========+\n",
      "| sid101  | ashish kumar   | 10th       |    15 |      67 |        89 |     87 |        89 |         90 |     422 |\n",
      "+---------+----------------+------------+-------+---------+-----------+--------+-----------+------------+---------+\n",
      "| sid102  | abhishek kumar | 10th       |    14 |      85 |        45 |     48 |        90 |         45 |     313 |\n",
      "+---------+----------------+------------+-------+---------+-----------+--------+-----------+------------+---------+\n",
      "| sid103  | aman           | 10th       |    15 |      23 |        56 |     78 |        78 |         67 |     302 |\n",
      "+---------+----------------+------------+-------+---------+-----------+--------+-----------+------------+---------+\n",
      "| sid104  | rahul          | 10th       |    14 |      45 |        67 |     45 |        45 |         56 |     258 |\n",
      "+---------+----------------+------------+-------+---------+-----------+--------+-----------+------------+---------+\n",
      "| sid105  | ruby           | 10th       |    13 |      89 |        67 |     89 |        93 |         65 |     403 |\n",
      "+---------+----------------+------------+-------+---------+-----------+--------+-----------+------------+---------+\n",
      "| sid106  | suman          | 10th       |    13 |      90 |        46 |     67 |        67 |         67 |     337 |\n",
      "+---------+----------------+------------+-------+---------+-----------+--------+-----------+------------+---------+\n",
      "| sid107  | saurabh        | 10th       |    15 |      45 |        23 |     34 |        45 |         34 |     181 |\n",
      "+---------+----------------+------------+-------+---------+-----------+--------+-----------+------------+---------+\n",
      "| sid108  | sumit          | 10th       |    14 |      23 |        45 |     67 |        78 |         90 |     303 |\n",
      "+---------+----------------+------------+-------+---------+-----------+--------+-----------+------------+---------+\n",
      "| sid109  | kamlesh        | 10th       |    15 |      45 |        56 |     78 |        99 |         67 |     345 |\n",
      "+---------+----------------+------------+-------+---------+-----------+--------+-----------+------------+---------+\n",
      "| sid110  | rohan          | 10th       |    15 |      34 |        12 |     24 |        45 |         56 |     171 |\n",
      "+---------+----------------+------------+-------+---------+-----------+--------+-----------+------------+---------+\n"
     ]
    }
   ],
   "source": [
    "from tabulate import tabulate\n",
    "student={\n",
    "    1:{'stdid': 'sid101', 'sidname': 'ashish kumar', 'standard': '10th', 'age': 15, 'hindi': 67, 'english': 89, 'math': 87, 'science': 89, 'computer': 90, 'total': 422},\n",
    "    2:{'stdid': 'sid102', 'sidname': 'abhishek kumar', 'standard': '10th', 'age': 14, 'hindi': 85, 'english': 45, 'math': 48, 'science': 90, 'computer': 45, 'total': 313},\n",
    "    3:{'stdid': 'sid103', 'sidname': 'aman', 'standard': '10th', 'age': 15, 'hindi': 23, 'english': 56, 'math': 78, 'science': 78, 'computer': 67, 'total': 302},\n",
    "    4:{'stdid': 'sid104', 'sidname': 'rahul', 'standard': '10th', 'age': 14, 'hindi': 45, 'english': 67, 'math': 45, 'science': 45, 'computer': 56, 'total': 258},\n",
    "    5:{'stdid': 'sid105', 'sidname': 'ruby', 'standard': '10th', 'age': 13, 'hindi': 89, 'english': 67, 'math': 89, 'science': 93, 'computer': 65, 'total': 403},\n",
    "    6:{'stdid': 'sid106', 'sidname': 'suman', 'standard': '10th', 'age': 13, 'hindi': 90, 'english': 46, 'math': 67, 'science': 67, 'computer': 67, 'total': 337},\n",
    "    7:{'stdid': 'sid107', 'sidname': 'saurabh', 'standard': '10th', 'age': 15, 'hindi': 45, 'english': 23, 'math': 34, 'science': 45, 'computer': 34, 'total': 181},\n",
    "    8:{'stdid': 'sid108', 'sidname': 'sumit', 'standard': '10th', 'age': 14, 'hindi': 23, 'english': 45, 'math': 67, 'science': 78, 'computer': 90, 'total': 303},\n",
    "    9:{'stdid': 'sid109', 'sidname': 'kamlesh', 'standard': '10th', 'age': 15, 'hindi': 45, 'english': 56, 'math': 78, 'science': 99, 'computer': 67, 'total': 345},\n",
    "    10:{'stdid': 'sid110', 'sidname': 'rohan', 'standard': '10th', 'age': 15, 'hindi': 34, 'english': 12, 'math': 24, 'science': 45, 'computer': 56, 'total': 171}\n",
    "}\n",
    "# print(student)\n",
    "student_tabulate = tabulate(student.values(),headers={'stdid': 'stdid', 'sidname': 'stdname', 'standard': 'standard', 'age': 'age', 'hindi': 'hindi', 'english': 'english', 'math': 'math', 'science': 'science', 'computer': 'computer', 'total': 'total'},tablefmt=\"grid\")\n",
    "print(student_tabulate)"
   ]
  },
  {
   "cell_type": "code",
   "execution_count": 12,
   "id": "d172301f-caf7-4065-816a-00e581a29d83",
   "metadata": {},
   "outputs": [
    {
     "name": "stdout",
     "output_type": "stream",
     "text": [
      "ashish kumar\n",
      "aman\n",
      "rahul\n",
      "ruby\n",
      "kamlesh\n"
     ]
    }
   ],
   "source": [
    "# display the name of students whose marks in english is greather than 50\n",
    "for i,j in student.items():  \n",
    "     if(j['english']>50):\n",
    "         print(j['sidname'])"
   ]
  },
  {
   "cell_type": "code",
   "execution_count": 14,
   "id": "d4c79bb2-6a20-4d07-9a8a-d5689fafe5e0",
   "metadata": {},
   "outputs": [
    {
     "name": "stdout",
     "output_type": "stream",
     "text": [
      "name age\n",
      "ruby 13\n",
      "ashish kumar 15\n",
      "aman 15\n",
      "kamlesh 15\n"
     ]
    }
   ],
   "source": [
    "# display students name and age of top four scorer of maths\n",
    "sorts = sorted(student.values(), key=lambda student: student['math'], reverse=True)\n",
    "four=sorts[:4]\n",
    "print('name','age')\n",
    "for i in four :\n",
    "    print(i['sidname'], i['age'])"
   ]
  },
  {
   "cell_type": "code",
   "execution_count": 16,
   "id": "a1f7bba2-370d-4938-8c56-c3c62f2a890e",
   "metadata": {},
   "outputs": [
    {
     "name": "stdout",
     "output_type": "stream",
     "text": [
      "id  name  age \n",
      "sid107 saurabh 15\n",
      "sid102 abhishek kumar 14\n",
      "sid104 rahul 14\n"
     ]
    }
   ],
   "source": [
    "# display name id age of student who are bottom three scorer computer\n",
    "sorts = sorted(student.values(), key=lambda student: student['computer'])\n",
    "four=sorts[:3]\n",
    "print('id ','name ','age ')\n",
    "for i in four :\n",
    "    print(i['stdid'],i['sidname'],i['age'])"
   ]
  },
  {
   "cell_type": "code",
   "execution_count": null,
   "id": "f32a5194-df18-46e5-957b-83f4fea1e8d4",
   "metadata": {},
   "outputs": [],
   "source": []
  }
 ],
 "metadata": {
  "kernelspec": {
   "display_name": "Python 3 (ipykernel)",
   "language": "python",
   "name": "python3"
  },
  "language_info": {
   "codemirror_mode": {
    "name": "ipython",
    "version": 3
   },
   "file_extension": ".py",
   "mimetype": "text/x-python",
   "name": "python",
   "nbconvert_exporter": "python",
   "pygments_lexer": "ipython3",
   "version": "3.12.4"
  }
 },
 "nbformat": 4,
 "nbformat_minor": 5
}
